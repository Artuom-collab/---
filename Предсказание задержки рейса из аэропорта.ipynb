{
  "nbformat": 4,
  "nbformat_minor": 0,
  "metadata": {
    "colab": {
      "provenance": [],
      "collapsed_sections": [
        "DQqa8snjeA7p",
        "t6Qo4UKqldyH"
      ],
      "machine_shape": "hm",
      "toc_visible": true,
      "include_colab_link": true
    },
    "kernelspec": {
      "name": "python3",
      "display_name": "Python 3"
    },
    "accelerator": "GPU"
  },
  "cells": [
    {
      "cell_type": "markdown",
      "metadata": {
        "id": "view-in-github",
        "colab_type": "text"
      },
      "source": [
        "<a href=\"https://colab.research.google.com/github/ArtuomMerkulov/ArtuomMerkulov/blob/main/%D0%9F%D1%80%D0%B5%D0%B4%D1%81%D0%BA%D0%B0%D0%B7%D0%B0%D0%BD%D0%B8%D0%B5%20%D0%B7%D0%B0%D0%B4%D0%B5%D1%80%D0%B6%D0%BA%D0%B8%20%D1%80%D0%B5%D0%B9%D1%81%D0%B0%20%D0%B8%D0%B7%20%D0%B0%D1%8D%D1%80%D0%BE%D0%BF%D0%BE%D1%80%D1%82%D0%B0.ipynb\" target=\"_parent\"><img src=\"https://colab.research.google.com/assets/colab-badge.svg\" alt=\"Open In Colab\"/></a>"
      ]
    },
    {
      "cell_type": "markdown",
      "metadata": {
        "id": "Xls0bGCyT7aM"
      },
      "source": [
        "# Импорт Библиотек"
      ]
    },
    {
      "cell_type": "code",
      "metadata": {
        "id": "SkQ2zSVRR_De"
      },
      "source": [
        "import numpy as np #Библиотека работы с массивами\n",
        "import pandas as pd # Библиотека для работы с базами\n",
        "\n",
        "from tensorflow.keras.models import Sequential, Model # \n",
        "from tensorflow.keras.layers import concatenate, Input, Dense, Dropout, BatchNormalization, Flatten #\n",
        "from tensorflow.keras import utils #Используем для to_categoricall\n",
        "from tensorflow.keras.optimizers import Adam,Adadelta,SGD,Adagrad,RMSprop #\n",
        "from tensorflow.keras.preprocessing.text import Tokenizer, text_to_word_sequence #\n",
        "from tensorflow.keras.preprocessing.sequence import pad_sequences #\n",
        "from tensorflow.keras.callbacks import LambdaCallback # подключаем колбэки\n",
        "\n",
        "from sklearn.preprocessing import StandardScaler # \n",
        "from sklearn.model_selection import train_test_split # Для разбивки на выборки\n",
        "from sklearn.metrics import mean_squared_error, mean_absolute_error #\n",
        "from google.colab import files #Для загрузки своей картинки\n",
        "\n",
        "import random #Для генерации случайных чисел \n",
        "import math # Для округления\n",
        "import os #Для работы с файлами \n",
        "import re #\n",
        "import matplotlib.pyplot as plt #\n",
        "%matplotlib inline\n",
        "\n",
        "from IPython.display import clear_output"
      ],
      "execution_count": 1,
      "outputs": []
    },
    {
      "cell_type": "code",
      "metadata": {
        "id": "3Ywrz1ojUx1-",
        "colab": {
          "base_uri": "https://localhost:8080/"
        },
        "outputId": "12c77534-70bd-47b5-fa5c-82baf2453cf5"
      },
      "source": [
        "from google.colab import drive \n",
        "drive.mount('/content/drive')"
      ],
      "execution_count": 2,
      "outputs": [
        {
          "output_type": "stream",
          "name": "stdout",
          "text": [
            "Mounted at /content/drive\n"
          ]
        }
      ]
    },
    {
      "cell_type": "markdown",
      "metadata": {
        "id": "WNrgQ7kEoD-Y"
      },
      "source": [
        "# Предсказание задержки рейса, по промежуточному результату"
      ]
    },
    {
      "cell_type": "code",
      "source": [
        "!unzip '/content/drive/MyDrive/Numpy/Датасет по задержке рейса.zip'"
      ],
      "metadata": {
        "colab": {
          "base_uri": "https://localhost:8080/"
        },
        "id": "XzH1CTcqZO5v",
        "outputId": "29900126-4ffc-4b4d-e53a-dff7412eb04f"
      },
      "execution_count": 6,
      "outputs": [
        {
          "output_type": "stream",
          "name": "stdout",
          "text": [
            "Archive:  /content/drive/MyDrive/Numpy/Датасет по задержке рейса.zip\n",
            "replace airlines_delay.csv? [y]es, [n]o, [A]ll, [N]one, [r]ename: A\n",
            "  inflating: airlines_delay.csv      \n"
          ]
        }
      ]
    },
    {
      "cell_type": "code",
      "metadata": {
        "id": "7Oi5fHYDoMsu",
        "colab": {
          "base_uri": "https://localhost:8080/"
        },
        "outputId": "73d72894-dec7-404e-bebf-78dece81a8cf"
      },
      "source": [
        "df = pd.read_csv('/content/airlines_delay.csv', encoding = 'cp1251', header=0)\n",
        "print(df.shape)  "
      ],
      "execution_count": 7,
      "outputs": [
        {
          "output_type": "stream",
          "name": "stdout",
          "text": [
            "(539382, 8)\n"
          ]
        }
      ]
    },
    {
      "cell_type": "code",
      "source": [
        "df"
      ],
      "metadata": {
        "colab": {
          "base_uri": "https://localhost:8080/",
          "height": 424
        },
        "id": "7EdAXY9iaM7J",
        "outputId": "2e886646-36f8-4d44-ed6f-b1afd4af79a6"
      },
      "execution_count": 8,
      "outputs": [
        {
          "output_type": "execute_result",
          "data": {
            "text/plain": [
              "        Flight    Time  Length Airline AirportFrom AirportTo  DayOfWeek  Class\n",
              "0       2313.0  1296.0   141.0      DL         ATL       HOU          1      0\n",
              "1       6948.0   360.0   146.0      OO         COS       ORD          4      0\n",
              "2       1247.0  1170.0   143.0      B6         BOS       CLT          3      0\n",
              "3         31.0  1410.0   344.0      US         OGG       PHX          6      0\n",
              "4        563.0   692.0    98.0      FL         BMI       ATL          4      0\n",
              "...        ...     ...     ...     ...         ...       ...        ...    ...\n",
              "539377  6973.0   530.0    72.0      OO         GEG       SEA          5      1\n",
              "539378  1264.0   560.0   115.0      WN         LAS       DEN          4      1\n",
              "539379  5209.0   827.0    74.0      EV         CAE       ATL          2      1\n",
              "539380   607.0   715.0    65.0      WN         BWI       BUF          4      1\n",
              "539381  6377.0   770.0    55.0      OO         CPR       DEN          2      1\n",
              "\n",
              "[539382 rows x 8 columns]"
            ],
            "text/html": [
              "\n",
              "  <div id=\"df-dfc2e0ab-8c41-4639-bf5e-e7d71aed7c86\">\n",
              "    <div class=\"colab-df-container\">\n",
              "      <div>\n",
              "<style scoped>\n",
              "    .dataframe tbody tr th:only-of-type {\n",
              "        vertical-align: middle;\n",
              "    }\n",
              "\n",
              "    .dataframe tbody tr th {\n",
              "        vertical-align: top;\n",
              "    }\n",
              "\n",
              "    .dataframe thead th {\n",
              "        text-align: right;\n",
              "    }\n",
              "</style>\n",
              "<table border=\"1\" class=\"dataframe\">\n",
              "  <thead>\n",
              "    <tr style=\"text-align: right;\">\n",
              "      <th></th>\n",
              "      <th>Flight</th>\n",
              "      <th>Time</th>\n",
              "      <th>Length</th>\n",
              "      <th>Airline</th>\n",
              "      <th>AirportFrom</th>\n",
              "      <th>AirportTo</th>\n",
              "      <th>DayOfWeek</th>\n",
              "      <th>Class</th>\n",
              "    </tr>\n",
              "  </thead>\n",
              "  <tbody>\n",
              "    <tr>\n",
              "      <th>0</th>\n",
              "      <td>2313.0</td>\n",
              "      <td>1296.0</td>\n",
              "      <td>141.0</td>\n",
              "      <td>DL</td>\n",
              "      <td>ATL</td>\n",
              "      <td>HOU</td>\n",
              "      <td>1</td>\n",
              "      <td>0</td>\n",
              "    </tr>\n",
              "    <tr>\n",
              "      <th>1</th>\n",
              "      <td>6948.0</td>\n",
              "      <td>360.0</td>\n",
              "      <td>146.0</td>\n",
              "      <td>OO</td>\n",
              "      <td>COS</td>\n",
              "      <td>ORD</td>\n",
              "      <td>4</td>\n",
              "      <td>0</td>\n",
              "    </tr>\n",
              "    <tr>\n",
              "      <th>2</th>\n",
              "      <td>1247.0</td>\n",
              "      <td>1170.0</td>\n",
              "      <td>143.0</td>\n",
              "      <td>B6</td>\n",
              "      <td>BOS</td>\n",
              "      <td>CLT</td>\n",
              "      <td>3</td>\n",
              "      <td>0</td>\n",
              "    </tr>\n",
              "    <tr>\n",
              "      <th>3</th>\n",
              "      <td>31.0</td>\n",
              "      <td>1410.0</td>\n",
              "      <td>344.0</td>\n",
              "      <td>US</td>\n",
              "      <td>OGG</td>\n",
              "      <td>PHX</td>\n",
              "      <td>6</td>\n",
              "      <td>0</td>\n",
              "    </tr>\n",
              "    <tr>\n",
              "      <th>4</th>\n",
              "      <td>563.0</td>\n",
              "      <td>692.0</td>\n",
              "      <td>98.0</td>\n",
              "      <td>FL</td>\n",
              "      <td>BMI</td>\n",
              "      <td>ATL</td>\n",
              "      <td>4</td>\n",
              "      <td>0</td>\n",
              "    </tr>\n",
              "    <tr>\n",
              "      <th>...</th>\n",
              "      <td>...</td>\n",
              "      <td>...</td>\n",
              "      <td>...</td>\n",
              "      <td>...</td>\n",
              "      <td>...</td>\n",
              "      <td>...</td>\n",
              "      <td>...</td>\n",
              "      <td>...</td>\n",
              "    </tr>\n",
              "    <tr>\n",
              "      <th>539377</th>\n",
              "      <td>6973.0</td>\n",
              "      <td>530.0</td>\n",
              "      <td>72.0</td>\n",
              "      <td>OO</td>\n",
              "      <td>GEG</td>\n",
              "      <td>SEA</td>\n",
              "      <td>5</td>\n",
              "      <td>1</td>\n",
              "    </tr>\n",
              "    <tr>\n",
              "      <th>539378</th>\n",
              "      <td>1264.0</td>\n",
              "      <td>560.0</td>\n",
              "      <td>115.0</td>\n",
              "      <td>WN</td>\n",
              "      <td>LAS</td>\n",
              "      <td>DEN</td>\n",
              "      <td>4</td>\n",
              "      <td>1</td>\n",
              "    </tr>\n",
              "    <tr>\n",
              "      <th>539379</th>\n",
              "      <td>5209.0</td>\n",
              "      <td>827.0</td>\n",
              "      <td>74.0</td>\n",
              "      <td>EV</td>\n",
              "      <td>CAE</td>\n",
              "      <td>ATL</td>\n",
              "      <td>2</td>\n",
              "      <td>1</td>\n",
              "    </tr>\n",
              "    <tr>\n",
              "      <th>539380</th>\n",
              "      <td>607.0</td>\n",
              "      <td>715.0</td>\n",
              "      <td>65.0</td>\n",
              "      <td>WN</td>\n",
              "      <td>BWI</td>\n",
              "      <td>BUF</td>\n",
              "      <td>4</td>\n",
              "      <td>1</td>\n",
              "    </tr>\n",
              "    <tr>\n",
              "      <th>539381</th>\n",
              "      <td>6377.0</td>\n",
              "      <td>770.0</td>\n",
              "      <td>55.0</td>\n",
              "      <td>OO</td>\n",
              "      <td>CPR</td>\n",
              "      <td>DEN</td>\n",
              "      <td>2</td>\n",
              "      <td>1</td>\n",
              "    </tr>\n",
              "  </tbody>\n",
              "</table>\n",
              "<p>539382 rows × 8 columns</p>\n",
              "</div>\n",
              "      <button class=\"colab-df-convert\" onclick=\"convertToInteractive('df-dfc2e0ab-8c41-4639-bf5e-e7d71aed7c86')\"\n",
              "              title=\"Convert this dataframe to an interactive table.\"\n",
              "              style=\"display:none;\">\n",
              "        \n",
              "  <svg xmlns=\"http://www.w3.org/2000/svg\" height=\"24px\"viewBox=\"0 0 24 24\"\n",
              "       width=\"24px\">\n",
              "    <path d=\"M0 0h24v24H0V0z\" fill=\"none\"/>\n",
              "    <path d=\"M18.56 5.44l.94 2.06.94-2.06 2.06-.94-2.06-.94-.94-2.06-.94 2.06-2.06.94zm-11 1L8.5 8.5l.94-2.06 2.06-.94-2.06-.94L8.5 2.5l-.94 2.06-2.06.94zm10 10l.94 2.06.94-2.06 2.06-.94-2.06-.94-.94-2.06-.94 2.06-2.06.94z\"/><path d=\"M17.41 7.96l-1.37-1.37c-.4-.4-.92-.59-1.43-.59-.52 0-1.04.2-1.43.59L10.3 9.45l-7.72 7.72c-.78.78-.78 2.05 0 2.83L4 21.41c.39.39.9.59 1.41.59.51 0 1.02-.2 1.41-.59l7.78-7.78 2.81-2.81c.8-.78.8-2.07 0-2.86zM5.41 20L4 18.59l7.72-7.72 1.47 1.35L5.41 20z\"/>\n",
              "  </svg>\n",
              "      </button>\n",
              "      \n",
              "  <style>\n",
              "    .colab-df-container {\n",
              "      display:flex;\n",
              "      flex-wrap:wrap;\n",
              "      gap: 12px;\n",
              "    }\n",
              "\n",
              "    .colab-df-convert {\n",
              "      background-color: #E8F0FE;\n",
              "      border: none;\n",
              "      border-radius: 50%;\n",
              "      cursor: pointer;\n",
              "      display: none;\n",
              "      fill: #1967D2;\n",
              "      height: 32px;\n",
              "      padding: 0 0 0 0;\n",
              "      width: 32px;\n",
              "    }\n",
              "\n",
              "    .colab-df-convert:hover {\n",
              "      background-color: #E2EBFA;\n",
              "      box-shadow: 0px 1px 2px rgba(60, 64, 67, 0.3), 0px 1px 3px 1px rgba(60, 64, 67, 0.15);\n",
              "      fill: #174EA6;\n",
              "    }\n",
              "\n",
              "    [theme=dark] .colab-df-convert {\n",
              "      background-color: #3B4455;\n",
              "      fill: #D2E3FC;\n",
              "    }\n",
              "\n",
              "    [theme=dark] .colab-df-convert:hover {\n",
              "      background-color: #434B5C;\n",
              "      box-shadow: 0px 1px 3px 1px rgba(0, 0, 0, 0.15);\n",
              "      filter: drop-shadow(0px 1px 2px rgba(0, 0, 0, 0.3));\n",
              "      fill: #FFFFFF;\n",
              "    }\n",
              "  </style>\n",
              "\n",
              "      <script>\n",
              "        const buttonEl =\n",
              "          document.querySelector('#df-dfc2e0ab-8c41-4639-bf5e-e7d71aed7c86 button.colab-df-convert');\n",
              "        buttonEl.style.display =\n",
              "          google.colab.kernel.accessAllowed ? 'block' : 'none';\n",
              "\n",
              "        async function convertToInteractive(key) {\n",
              "          const element = document.querySelector('#df-dfc2e0ab-8c41-4639-bf5e-e7d71aed7c86');\n",
              "          const dataTable =\n",
              "            await google.colab.kernel.invokeFunction('convertToInteractive',\n",
              "                                                     [key], {});\n",
              "          if (!dataTable) return;\n",
              "\n",
              "          const docLinkHtml = 'Like what you see? Visit the ' +\n",
              "            '<a target=\"_blank\" href=https://colab.research.google.com/notebooks/data_table.ipynb>data table notebook</a>'\n",
              "            + ' to learn more about interactive tables.';\n",
              "          element.innerHTML = '';\n",
              "          dataTable['output_type'] = 'display_data';\n",
              "          await google.colab.output.renderOutput(dataTable, element);\n",
              "          const docLink = document.createElement('div');\n",
              "          docLink.innerHTML = docLinkHtml;\n",
              "          element.appendChild(docLink);\n",
              "        }\n",
              "      </script>\n",
              "    </div>\n",
              "  </div>\n",
              "  "
            ]
          },
          "metadata": {},
          "execution_count": 8
        }
      ]
    },
    {
      "cell_type": "code",
      "metadata": {
        "id": "ZhF2Zj8doY78"
      },
      "source": [
        "Xtrain = np.array(df[['DayOfWeek', 'Class', 'Length']].astype('int')) # Преобразуем данные в numpy\n",
        "Ytrain = np.array(df['Time'].astype('int'))# Преобразуем данные в numpy"
      ],
      "execution_count": 9,
      "outputs": []
    },
    {
      "cell_type": "code",
      "metadata": {
        "id": "fosEiTQ9ocAu"
      },
      "source": [
        "x_train, x_test, y_train, y_test = train_test_split(Xtrain, Ytrain, test_size=0.25) # Разбиваем по выборкам"
      ],
      "execution_count": 10,
      "outputs": []
    },
    {
      "cell_type": "code",
      "metadata": {
        "id": "YOL4pPypofZy"
      },
      "source": [
        "model = Sequential() # создаем простую модель\n",
        "model.add(Dense(500,input_dim=3, activation='relu'))\n",
        "model.add(Dense(250, activation='relu'))\n",
        "model.add(Dense(1, activation='linear'))\n",
        "model.compile(loss=\"MSE\", optimizer=\"adam\") # MSE(средняя квадратичная ошибка)"
      ],
      "execution_count": 11,
      "outputs": []
    },
    {
      "cell_type": "code",
      "metadata": {
        "id": "zYRrOG5uoiuP",
        "colab": {
          "base_uri": "https://localhost:8080/"
        },
        "outputId": "9cc57e12-28d4-4125-80ca-f379620f065d"
      },
      "source": [
        "history = model.fit(x_train, y_train,  \n",
        "                    batch_size=64, \n",
        "                    epochs=128,\n",
        "                    validation_data=(x_test, y_test),\n",
        "                    verbose=1, shuffle=True)"
      ],
      "execution_count": 12,
      "outputs": [
        {
          "output_type": "stream",
          "name": "stdout",
          "text": [
            "Epoch 1/128\n",
            "6321/6321 [==============================] - 27s 4ms/step - loss: 88514.2734 - val_loss: 75965.3281\n",
            "Epoch 2/128\n",
            "6321/6321 [==============================] - 23s 4ms/step - loss: 76259.5312 - val_loss: 76696.5547\n",
            "Epoch 3/128\n",
            "6321/6321 [==============================] - 23s 4ms/step - loss: 76147.7422 - val_loss: 75443.6875\n",
            "Epoch 4/128\n",
            "6321/6321 [==============================] - 24s 4ms/step - loss: 76063.8047 - val_loss: 75455.4141\n",
            "Epoch 5/128\n",
            "6321/6321 [==============================] - 24s 4ms/step - loss: 76052.4922 - val_loss: 76804.2578\n",
            "Epoch 6/128\n",
            "6321/6321 [==============================] - 23s 4ms/step - loss: 75984.3438 - val_loss: 75312.8906\n",
            "Epoch 7/128\n",
            "6321/6321 [==============================] - 23s 4ms/step - loss: 75863.7969 - val_loss: 76535.4375\n",
            "Epoch 8/128\n",
            "6321/6321 [==============================] - 24s 4ms/step - loss: 75872.2578 - val_loss: 77076.0391\n",
            "Epoch 9/128\n",
            "6321/6321 [==============================] - 22s 3ms/step - loss: 75817.9531 - val_loss: 76216.1250\n",
            "Epoch 10/128\n",
            "6321/6321 [==============================] - 23s 4ms/step - loss: 75824.1328 - val_loss: 75506.2500\n",
            "Epoch 11/128\n",
            "6321/6321 [==============================] - 23s 4ms/step - loss: 75811.2891 - val_loss: 75564.6484\n",
            "Epoch 12/128\n",
            "6321/6321 [==============================] - 24s 4ms/step - loss: 75744.2500 - val_loss: 75295.4219\n",
            "Epoch 13/128\n",
            "6321/6321 [==============================] - 24s 4ms/step - loss: 75723.9141 - val_loss: 75257.7344\n",
            "Epoch 14/128\n",
            "6321/6321 [==============================] - 23s 4ms/step - loss: 75707.6172 - val_loss: 76138.6797\n",
            "Epoch 15/128\n",
            "6321/6321 [==============================] - 24s 4ms/step - loss: 75673.8672 - val_loss: 75424.8672\n",
            "Epoch 16/128\n",
            "6321/6321 [==============================] - 22s 3ms/step - loss: 75674.5234 - val_loss: 75756.7422\n",
            "Epoch 17/128\n",
            "6321/6321 [==============================] - 23s 4ms/step - loss: 75619.7266 - val_loss: 75286.8516\n",
            "Epoch 18/128\n",
            "6321/6321 [==============================] - 24s 4ms/step - loss: 75595.1406 - val_loss: 75286.5781\n",
            "Epoch 19/128\n",
            "6321/6321 [==============================] - 22s 4ms/step - loss: 75608.4531 - val_loss: 76014.9531\n",
            "Epoch 20/128\n",
            "6321/6321 [==============================] - 22s 3ms/step - loss: 75621.6719 - val_loss: 75368.6406\n",
            "Epoch 21/128\n",
            "6321/6321 [==============================] - 23s 4ms/step - loss: 75536.0156 - val_loss: 75271.8281\n",
            "Epoch 22/128\n",
            "6321/6321 [==============================] - 23s 4ms/step - loss: 75537.8984 - val_loss: 76296.9297\n",
            "Epoch 23/128\n",
            "6321/6321 [==============================] - 22s 3ms/step - loss: 75536.9375 - val_loss: 75410.4766\n",
            "Epoch 24/128\n",
            "6321/6321 [==============================] - 23s 4ms/step - loss: 75541.6406 - val_loss: 76035.5547\n",
            "Epoch 25/128\n",
            "6321/6321 [==============================] - 24s 4ms/step - loss: 75491.2109 - val_loss: 75288.9062\n",
            "Epoch 26/128\n",
            "6321/6321 [==============================] - 24s 4ms/step - loss: 75482.8828 - val_loss: 75509.6484\n",
            "Epoch 27/128\n",
            "6321/6321 [==============================] - 22s 4ms/step - loss: 75541.6875 - val_loss: 75255.2188\n",
            "Epoch 28/128\n",
            "6321/6321 [==============================] - 24s 4ms/step - loss: 75530.5469 - val_loss: 75239.1250\n",
            "Epoch 29/128\n",
            "6321/6321 [==============================] - 23s 4ms/step - loss: 75509.1016 - val_loss: 75263.3203\n",
            "Epoch 30/128\n",
            "6321/6321 [==============================] - 22s 3ms/step - loss: 75526.2188 - val_loss: 75612.2578\n",
            "Epoch 31/128\n",
            "6321/6321 [==============================] - 25s 4ms/step - loss: 75471.2344 - val_loss: 75708.5000\n",
            "Epoch 32/128\n",
            "6321/6321 [==============================] - 25s 4ms/step - loss: 75470.5625 - val_loss: 75981.8125\n",
            "Epoch 33/128\n",
            "6321/6321 [==============================] - 23s 4ms/step - loss: 75498.8047 - val_loss: 77635.0781\n",
            "Epoch 34/128\n",
            "6321/6321 [==============================] - 23s 4ms/step - loss: 75444.1641 - val_loss: 75419.2344\n",
            "Epoch 35/128\n",
            "6321/6321 [==============================] - 23s 4ms/step - loss: 75439.4453 - val_loss: 76003.7734\n",
            "Epoch 36/128\n",
            "6321/6321 [==============================] - 24s 4ms/step - loss: 75422.0000 - val_loss: 75483.1562\n",
            "Epoch 37/128\n",
            "6321/6321 [==============================] - 24s 4ms/step - loss: 75436.7891 - val_loss: 75397.9531\n",
            "Epoch 38/128\n",
            "6321/6321 [==============================] - 22s 3ms/step - loss: 75423.5859 - val_loss: 76667.8438\n",
            "Epoch 39/128\n",
            "6321/6321 [==============================] - 25s 4ms/step - loss: 75444.8984 - val_loss: 75267.6250\n",
            "Epoch 40/128\n",
            "6321/6321 [==============================] - 24s 4ms/step - loss: 75439.5156 - val_loss: 75929.5000\n",
            "Epoch 41/128\n",
            "6321/6321 [==============================] - 24s 4ms/step - loss: 75385.8125 - val_loss: 75265.5469\n",
            "Epoch 42/128\n",
            "6321/6321 [==============================] - 24s 4ms/step - loss: 75408.7734 - val_loss: 76049.4922\n",
            "Epoch 43/128\n",
            "6321/6321 [==============================] - 22s 4ms/step - loss: 75403.7188 - val_loss: 75253.3047\n",
            "Epoch 44/128\n",
            "6321/6321 [==============================] - 24s 4ms/step - loss: 75403.3281 - val_loss: 75507.2500\n",
            "Epoch 45/128\n",
            "6321/6321 [==============================] - 23s 4ms/step - loss: 75386.8438 - val_loss: 76031.6953\n",
            "Epoch 46/128\n",
            "6321/6321 [==============================] - 23s 4ms/step - loss: 75384.7656 - val_loss: 75303.0547\n",
            "Epoch 47/128\n",
            "6321/6321 [==============================] - 23s 4ms/step - loss: 75417.2812 - val_loss: 75297.0391\n",
            "Epoch 48/128\n",
            "6321/6321 [==============================] - 24s 4ms/step - loss: 75365.6797 - val_loss: 75267.3047\n",
            "Epoch 49/128\n",
            "6321/6321 [==============================] - 24s 4ms/step - loss: 75372.2188 - val_loss: 75394.4609\n",
            "Epoch 50/128\n",
            "6321/6321 [==============================] - 24s 4ms/step - loss: 75373.6406 - val_loss: 75313.4531\n",
            "Epoch 51/128\n",
            "6321/6321 [==============================] - 24s 4ms/step - loss: 75355.1562 - val_loss: 75283.7344\n",
            "Epoch 52/128\n",
            "6321/6321 [==============================] - 23s 4ms/step - loss: 75366.4531 - val_loss: 75344.7656\n",
            "Epoch 53/128\n",
            "6321/6321 [==============================] - 23s 4ms/step - loss: 75382.0078 - val_loss: 75582.2969\n",
            "Epoch 54/128\n",
            "6321/6321 [==============================] - 25s 4ms/step - loss: 75323.5781 - val_loss: 75864.9766\n",
            "Epoch 55/128\n",
            "6321/6321 [==============================] - 25s 4ms/step - loss: 75339.7734 - val_loss: 75260.4219\n",
            "Epoch 56/128\n",
            "6321/6321 [==============================] - 25s 4ms/step - loss: 75312.6250 - val_loss: 75438.6406\n",
            "Epoch 57/128\n",
            "6321/6321 [==============================] - 23s 4ms/step - loss: 75319.2500 - val_loss: 75349.1875\n",
            "Epoch 58/128\n",
            "6321/6321 [==============================] - 22s 3ms/step - loss: 75355.9062 - val_loss: 75285.5938\n",
            "Epoch 59/128\n",
            "6321/6321 [==============================] - 25s 4ms/step - loss: 75329.2188 - val_loss: 75407.4062\n",
            "Epoch 60/128\n",
            "6321/6321 [==============================] - 23s 4ms/step - loss: 75329.2734 - val_loss: 75405.8984\n",
            "Epoch 61/128\n",
            "6321/6321 [==============================] - 22s 4ms/step - loss: 75287.0938 - val_loss: 75319.9922\n",
            "Epoch 62/128\n",
            "6321/6321 [==============================] - 22s 4ms/step - loss: 75314.3984 - val_loss: 75349.8750\n",
            "Epoch 63/128\n",
            "6321/6321 [==============================] - 23s 4ms/step - loss: 75303.6953 - val_loss: 75545.4844\n",
            "Epoch 64/128\n",
            "6321/6321 [==============================] - 23s 4ms/step - loss: 75279.8906 - val_loss: 75440.6172\n",
            "Epoch 65/128\n",
            "6321/6321 [==============================] - 22s 3ms/step - loss: 75277.5391 - val_loss: 75293.6328\n",
            "Epoch 66/128\n",
            "6321/6321 [==============================] - 25s 4ms/step - loss: 75281.3984 - val_loss: 75343.7734\n",
            "Epoch 67/128\n",
            "6321/6321 [==============================] - 22s 4ms/step - loss: 75292.7812 - val_loss: 75521.8125\n",
            "Epoch 68/128\n",
            "6321/6321 [==============================] - 22s 3ms/step - loss: 75289.2344 - val_loss: 75409.4375\n",
            "Epoch 69/128\n",
            "6321/6321 [==============================] - 25s 4ms/step - loss: 75271.9297 - val_loss: 75412.3359\n",
            "Epoch 70/128\n",
            "6321/6321 [==============================] - 23s 4ms/step - loss: 75273.4453 - val_loss: 75339.3047\n",
            "Epoch 71/128\n",
            "6321/6321 [==============================] - 22s 3ms/step - loss: 75262.3516 - val_loss: 75578.6406\n",
            "Epoch 72/128\n",
            "6321/6321 [==============================] - 23s 4ms/step - loss: 75274.9062 - val_loss: 75433.7031\n",
            "Epoch 73/128\n",
            "6321/6321 [==============================] - 25s 4ms/step - loss: 75261.2734 - val_loss: 75686.9844\n",
            "Epoch 74/128\n",
            "6321/6321 [==============================] - 23s 4ms/step - loss: 75245.5234 - val_loss: 75324.7422\n",
            "Epoch 75/128\n",
            "6321/6321 [==============================] - 21s 3ms/step - loss: 75252.8438 - val_loss: 75236.2344\n",
            "Epoch 76/128\n",
            "6321/6321 [==============================] - 23s 4ms/step - loss: 75255.8203 - val_loss: 75350.0625\n",
            "Epoch 77/128\n",
            "6321/6321 [==============================] - 23s 4ms/step - loss: 75249.2500 - val_loss: 75217.7656\n",
            "Epoch 78/128\n",
            "6321/6321 [==============================] - 22s 3ms/step - loss: 75239.0781 - val_loss: 76059.8516\n",
            "Epoch 79/128\n",
            "6321/6321 [==============================] - 23s 4ms/step - loss: 75247.3359 - val_loss: 75242.2344\n",
            "Epoch 80/128\n",
            "6321/6321 [==============================] - 23s 4ms/step - loss: 75225.9609 - val_loss: 75459.6328\n",
            "Epoch 81/128\n",
            "6321/6321 [==============================] - 24s 4ms/step - loss: 75207.2656 - val_loss: 75358.1094\n",
            "Epoch 82/128\n",
            "6321/6321 [==============================] - 24s 4ms/step - loss: 75249.7109 - val_loss: 75328.1250\n",
            "Epoch 83/128\n",
            "6321/6321 [==============================] - 25s 4ms/step - loss: 75238.8438 - val_loss: 75375.9219\n",
            "Epoch 84/128\n",
            "6321/6321 [==============================] - 24s 4ms/step - loss: 75215.2812 - val_loss: 75424.7734\n",
            "Epoch 85/128\n",
            "6321/6321 [==============================] - 23s 4ms/step - loss: 75212.0469 - val_loss: 75284.1719\n",
            "Epoch 86/128\n",
            "6321/6321 [==============================] - 22s 4ms/step - loss: 75230.7891 - val_loss: 75388.7500\n",
            "Epoch 87/128\n",
            "6321/6321 [==============================] - 23s 4ms/step - loss: 75216.1250 - val_loss: 75309.5391\n",
            "Epoch 88/128\n",
            "6321/6321 [==============================] - 23s 4ms/step - loss: 75233.0312 - val_loss: 75243.9453\n",
            "Epoch 89/128\n",
            "6321/6321 [==============================] - 22s 3ms/step - loss: 75210.3516 - val_loss: 75232.2266\n",
            "Epoch 90/128\n",
            "6321/6321 [==============================] - 23s 4ms/step - loss: 75227.2266 - val_loss: 75277.1172\n",
            "Epoch 91/128\n",
            "6321/6321 [==============================] - 23s 4ms/step - loss: 75265.3203 - val_loss: 75412.0156\n",
            "Epoch 92/128\n",
            "6321/6321 [==============================] - 22s 3ms/step - loss: 75223.6875 - val_loss: 75285.7266\n",
            "Epoch 93/128\n",
            "6321/6321 [==============================] - 24s 4ms/step - loss: 75273.9375 - val_loss: 75440.1094\n",
            "Epoch 94/128\n",
            "6321/6321 [==============================] - 24s 4ms/step - loss: 75205.4609 - val_loss: 75339.3750\n",
            "Epoch 95/128\n",
            "6321/6321 [==============================] - 24s 4ms/step - loss: 75228.6094 - val_loss: 75572.6172\n",
            "Epoch 96/128\n",
            "6321/6321 [==============================] - 25s 4ms/step - loss: 75224.7812 - val_loss: 75834.8125\n",
            "Epoch 97/128\n",
            "6321/6321 [==============================] - 24s 4ms/step - loss: 75201.3828 - val_loss: 75471.1094\n",
            "Epoch 98/128\n",
            "6321/6321 [==============================] - 25s 4ms/step - loss: 75204.6172 - val_loss: 75239.6641\n",
            "Epoch 99/128\n",
            "6321/6321 [==============================] - 24s 4ms/step - loss: 75227.2109 - val_loss: 75498.3984\n",
            "Epoch 100/128\n",
            "6321/6321 [==============================] - 23s 4ms/step - loss: 75211.7188 - val_loss: 75332.9844\n",
            "Epoch 101/128\n",
            "6321/6321 [==============================] - 24s 4ms/step - loss: 75214.1875 - val_loss: 75240.5625\n",
            "Epoch 102/128\n",
            "6321/6321 [==============================] - 24s 4ms/step - loss: 75201.7266 - val_loss: 75393.0156\n",
            "Epoch 103/128\n",
            "6321/6321 [==============================] - 23s 4ms/step - loss: 75237.7969 - val_loss: 75469.2031\n",
            "Epoch 104/128\n",
            "6321/6321 [==============================] - 23s 4ms/step - loss: 75217.7656 - val_loss: 75354.2812\n",
            "Epoch 105/128\n",
            "6321/6321 [==============================] - 23s 4ms/step - loss: 75215.1250 - val_loss: 75257.6484\n",
            "Epoch 106/128\n",
            "6321/6321 [==============================] - 24s 4ms/step - loss: 75177.3516 - val_loss: 75245.9766\n",
            "Epoch 107/128\n",
            "6321/6321 [==============================] - 22s 3ms/step - loss: 75202.9844 - val_loss: 75519.9219\n",
            "Epoch 108/128\n",
            "6321/6321 [==============================] - 23s 4ms/step - loss: 75190.4141 - val_loss: 75304.2188\n",
            "Epoch 109/128\n",
            "6321/6321 [==============================] - 24s 4ms/step - loss: 75194.5781 - val_loss: 75447.8125\n",
            "Epoch 110/128\n",
            "6321/6321 [==============================] - 22s 3ms/step - loss: 75207.3438 - val_loss: 75230.2578\n",
            "Epoch 111/128\n",
            "6321/6321 [==============================] - 25s 4ms/step - loss: 75191.4531 - val_loss: 75267.9453\n",
            "Epoch 112/128\n",
            "6321/6321 [==============================] - 24s 4ms/step - loss: 75192.1250 - val_loss: 75529.1406\n",
            "Epoch 113/128\n",
            "6321/6321 [==============================] - 23s 4ms/step - loss: 75197.2734 - val_loss: 75236.0703\n",
            "Epoch 114/128\n",
            "6321/6321 [==============================] - 25s 4ms/step - loss: 75184.3594 - val_loss: 75240.0391\n",
            "Epoch 115/128\n",
            "6321/6321 [==============================] - 24s 4ms/step - loss: 75184.7500 - val_loss: 75378.9844\n",
            "Epoch 116/128\n",
            "6321/6321 [==============================] - 25s 4ms/step - loss: 75196.8672 - val_loss: 75290.0859\n",
            "Epoch 117/128\n",
            "6321/6321 [==============================] - 24s 4ms/step - loss: 75221.1562 - val_loss: 75390.0156\n",
            "Epoch 118/128\n",
            "6321/6321 [==============================] - 23s 4ms/step - loss: 75198.1250 - val_loss: 75424.7812\n",
            "Epoch 119/128\n",
            "6321/6321 [==============================] - 24s 4ms/step - loss: 75183.5469 - val_loss: 75365.8672\n",
            "Epoch 120/128\n",
            "6321/6321 [==============================] - 25s 4ms/step - loss: 75201.5547 - val_loss: 75244.2578\n",
            "Epoch 121/128\n",
            "6321/6321 [==============================] - 25s 4ms/step - loss: 75181.5703 - val_loss: 75282.2109\n",
            "Epoch 122/128\n",
            "6321/6321 [==============================] - 24s 4ms/step - loss: 75180.1797 - val_loss: 75283.8438\n",
            "Epoch 123/128\n",
            "6321/6321 [==============================] - 24s 4ms/step - loss: 75181.6641 - val_loss: 75304.8438\n",
            "Epoch 124/128\n",
            "6321/6321 [==============================] - 23s 4ms/step - loss: 75188.9766 - val_loss: 75228.7891\n",
            "Epoch 125/128\n",
            "6321/6321 [==============================] - 24s 4ms/step - loss: 75184.3984 - val_loss: 75581.3750\n",
            "Epoch 126/128\n",
            "6321/6321 [==============================] - 23s 4ms/step - loss: 75184.2812 - val_loss: 75754.5078\n",
            "Epoch 127/128\n",
            "6321/6321 [==============================] - 24s 4ms/step - loss: 75210.5391 - val_loss: 75310.2891\n",
            "Epoch 128/128\n",
            "6321/6321 [==============================] - 22s 3ms/step - loss: 75173.1328 - val_loss: 75687.6797\n"
          ]
        }
      ]
    },
    {
      "cell_type": "code",
      "source": [
        "plt.figure(figsize=(12,8))\n",
        "plt.plot(history.history['loss'], label='loss')\n",
        "plt.plot(history.history['val_loss'], label='val_loss')\n",
        "plt.legend()\n",
        "plt.show()"
      ],
      "metadata": {
        "colab": {
          "base_uri": "https://localhost:8080/",
          "height": 483
        },
        "id": "HJ7aEA-BvJJn",
        "outputId": "fa476041-39e8-4544-c702-9a77cee7de63"
      },
      "execution_count": 17,
      "outputs": [
        {
          "output_type": "display_data",
          "data": {
            "text/plain": [
              "<Figure size 864x576 with 1 Axes>"
            ],
            "image/png": "[encoded data removed]"
          },
          "metadata": {
            "needs_background": "light"
          }
        }
      ]
    },
    {
      "cell_type": "code",
      "metadata": {
        "id": "OPxo7RqEolww",
        "colab": {
          "base_uri": "https://localhost:8080/"
        },
        "outputId": "eb26df8f-3414-4d76-9933-7cf5c5580cd8"
      },
      "source": [
        "pred = model.predict(x_test)\n",
        "for i in range(len(pred[:10])): # Выводим результаты\n",
        "    print('Данные -',x_test[i],'  Предсказание -',pred[i],'   Результат -', y_test[i])"
      ],
      "execution_count": 14,
      "outputs": [
        {
          "output_type": "stream",
          "name": "stdout",
          "text": [
            "4214/4214 [==============================] - 6s 2ms/step\n",
            "Данные - [ 2  1 50]   Предсказание - [900.73663]    Результат - 830\n",
            "Данные - [ 3  1 65]   Предсказание - [896.82587]    Результат - 990\n",
            "Данные - [ 7  0 62]   Предсказание - [828.14795]    Результат - 665\n",
            "Данные - [ 7  0 88]   Предсказание - [803.0296]    Результат - 1022\n",
            "Данные - [ 2  0 41]   Предсказание - [841.06036]    Результат - 302\n",
            "Данные - [  6   0 151]   Предсказание - [769.8623]    Результат - 710\n",
            "Данные - [  1   1 118]   Предсказание - [872.1733]    Результат - 945\n",
            "Данные - [ 3  1 65]   Предсказание - [896.82587]    Результат - 1175\n",
            "Данные - [ 3  0 75]   Предсказание - [796.0604]    Результат - 1025\n",
            "Данные - [  7   0 250]   Предсказание - [766.38824]    Результат - 450\n"
          ]
        }
      ]
    },
    {
      "cell_type": "code",
      "metadata": {
        "id": "gOWyiIRKooPY",
        "colab": {
          "base_uri": "https://localhost:8080/"
        },
        "outputId": "812bf599-6513-4a8a-ed68-d5c39fdec027"
      },
      "source": [
        "def func_predict(data): # Простая функция линейной зависимости\n",
        "    return (data[0]/data[2])*2400+(data[1]/data[2])*2400\n",
        "\n",
        "func_pred=[] # создаем пустой список\n",
        "for i in x_test: # в цикле заполняем списко предсказаниями функции на основе данных\n",
        "    func_pred.append(round(func_predict(i)))\n",
        "\n",
        "for i in range(len(x_test[:20])):# Выводим результаты\n",
        "    print('Данные -',x_test[i],'  Предсказание сети -',pred[i],' Предсказание функции' ,func_pred[i],'   Результат -', y_test[i])"
      ],
      "execution_count": 15,
      "outputs": [
        {
          "output_type": "stream",
          "name": "stdout",
          "text": [
            "Данные - [ 2  1 50]   Предсказание сети - [900.73663]  Предсказание функции 144    Результат - 830\n",
            "Данные - [ 3  1 65]   Предсказание сети - [896.82587]  Предсказание функции 148    Результат - 990\n",
            "Данные - [ 7  0 62]   Предсказание сети - [828.14795]  Предсказание функции 271    Результат - 665\n",
            "Данные - [ 7  0 88]   Предсказание сети - [803.0296]  Предсказание функции 191    Результат - 1022\n",
            "Данные - [ 2  0 41]   Предсказание сети - [841.06036]  Предсказание функции 117    Результат - 302\n",
            "Данные - [  6   0 151]   Предсказание сети - [769.8623]  Предсказание функции 95    Результат - 710\n",
            "Данные - [  1   1 118]   Предсказание сети - [872.1733]  Предсказание функции 41    Результат - 945\n",
            "Данные - [ 3  1 65]   Предсказание сети - [896.82587]  Предсказание функции 148    Результат - 1175\n",
            "Данные - [ 3  0 75]   Предсказание сети - [796.0604]  Предсказание функции 96    Результат - 1025\n",
            "Данные - [  7   0 250]   Предсказание сети - [766.38824]  Предсказание функции 67    Результат - 450\n",
            "Данные - [  6   0 404]   Предсказание сети - [837.49475]  Предсказание функции 36    Результат - 1410\n",
            "Данные - [ 5  0 53]   Предсказание сети - [803.5911]  Предсказание функции 226    Результат - 493\n",
            "Данные - [  3   0 296]   Предсказание сети - [797.3432]  Предсказание функции 24    Результат - 470\n",
            "Данные - [ 3  0 97]   Предсказание сети - [787.4529]  Предсказание функции 74    Результат - 1065\n",
            "Данные - [  6   0 117]   Предсказание сети - [781.1439]  Предсказание функции 123    Результат - 891\n",
            "Данные - [ 3  0 77]   Предсказание сети - [795.27795]  Предсказание функции 94    Результат - 515\n",
            "Данные - [ 2  0 99]   Предсказание сети - [784.7124]  Предсказание функции 48    Результат - 425\n",
            "Данные - [  4   1 288]   Предсказание сети - [867.35]  Предсказание функции 42    Результат - 700\n",
            "Данные - [  7   1 125]   Предсказание сети - [878.19464]  Предсказание функции 154    Результат - 1015\n",
            "Данные - [  4   0 281]   Предсказание сети - [798.0628]  Предсказание функции 34    Результат - 1435\n"
          ]
        }
      ]
    },
    {
      "cell_type": "code",
      "metadata": {
        "id": "SRlBksldorAD",
        "colab": {
          "base_uri": "https://localhost:8080/"
        },
        "outputId": "f63b36ec-c485-4d3d-beba-63f5bed98d7b"
      },
      "source": [
        "err = mean_squared_error(y_test,pred) # Считаем MSE для предикта сети\n",
        "err2 = mean_squared_error(y_test,func_pred)# Считаем MSE для предикта функции\n",
        "avg_error = mean_absolute_error(y_test,pred)# Получаем среднюю абсолютную ошибку\n",
        "print(\"MAE сети :\", avg_error, 'MSE сети', err)# выводим ошибки сети\n",
        "avg_error2 = mean_absolute_error(y_test,func_pred)#Получаем среднюю абсолютную ошибку\n",
        "print(\"MAE функции :\", avg_error2, 'MSE функции', err2)# выводим ошибки функции"
      ],
      "execution_count": 16,
      "outputs": [
        {
          "output_type": "stream",
          "name": "stdout",
          "text": [
            "MAE сети : 234.87964996722172 MSE сети 75687.69456271453\n",
            "MAE функции : 702.0791569642407 MSE функции 572810.2512644053\n"
          ]
        }
      ]
    }
  ]
}