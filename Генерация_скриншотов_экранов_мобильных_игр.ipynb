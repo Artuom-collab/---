{
  "nbformat": 4,
  "nbformat_minor": 0,
  "metadata": {
    "colab": {
      "provenance": [],
      "toc_visible": true,
      "include_colab_link": true
    },
    "kernelspec": {
      "name": "python3",
      "display_name": "Python 3"
    },
    "accelerator": "GPU",
    "gpuClass": "standard"
  },
  "cells": [
    {
      "cell_type": "markdown",
      "metadata": {
        "id": "view-in-github",
        "colab_type": "text"
      },
      "source": [
        "<a href=\"https://colab.research.google.com/github/ArtuomMerkulov/ArtuomMerkulov/blob/main/%D0%93%D0%B5%D0%BD%D0%B5%D1%80%D0%B0%D1%86%D0%B8%D1%8F_%D1%81%D0%BA%D1%80%D0%B8%D0%BD%D1%88%D0%BE%D1%82%D0%BE%D0%B2_%D1%8D%D0%BA%D1%80%D0%B0%D0%BD%D0%BE%D0%B2_%D0%BC%D0%BE%D0%B1%D0%B8%D0%BB%D1%8C%D0%BD%D1%8B%D1%85_%D0%B8%D0%B3%D1%80.ipynb\" target=\"_parent\"><img src=\"https://colab.research.google.com/assets/colab-badge.svg\" alt=\"Open In Colab\"/></a>"
      ]
    },
    {
      "cell_type": "markdown",
      "metadata": {
        "id": "dVG2Q2g7eQxA"
      },
      "source": [
        "# Генерация скриншотов экранов мобильных игр\n",
        "Для генерации использовал маску в качестве условия\n"
      ]
    },
    {
      "cell_type": "code",
      "source": [
        "!pip install keras==2.0 -q \n",
        "!pip install tensorflow==1.13.2 -q"
      ],
      "metadata": {
        "colab": {
          "base_uri": "https://localhost:8080/"
        },
        "id": "Jmcm9x4RK5vd",
        "outputId": "599c9f2b-003b-4e5e-ef0c-31de5f5d4aac"
      },
      "execution_count": 2,
      "outputs": [
        {
          "output_type": "stream",
          "name": "stdout",
          "text": [
            "\u001b[K     |████████████████████████████████| 191 kB 7.3 MB/s \n",
            "\u001b[K     |████████████████████████████████| 588.3 MB 20 kB/s \n",
            "\u001b[K     |████████████████████████████████| 439 kB 71.6 MB/s \n",
            "\u001b[K     |████████████████████████████████| 578.1 MB 8.0 kB/s \n",
            "\u001b[K     |████████████████████████████████| 5.9 MB 64.3 MB/s \n",
            "\u001b[K     |████████████████████████████████| 578.1 MB 6.6 kB/s \n",
            "\u001b[K     |████████████████████████████████| 511.8 MB 27 kB/s \n",
            "\u001b[K     |████████████████████████████████| 511.7 MB 31 kB/s \n",
            "\u001b[K     |████████████████████████████████| 511.7 MB 202 bytes/s \n",
            "\u001b[K     |████████████████████████████████| 498.0 MB 13 kB/s \n",
            "\u001b[K     |████████████████████████████████| 498.4 MB 25 kB/s \n",
            "\u001b[K     |████████████████████████████████| 498.0 MB 19 kB/s \n",
            "\u001b[K     |████████████████████████████████| 498.0 MB 31 kB/s \n",
            "\u001b[K     |████████████████████████████████| 497.6 MB 2.0 kB/s \n",
            "\u001b[K     |████████████████████████████████| 462 kB 68.6 MB/s \n",
            "\u001b[K     |████████████████████████████████| 496.0 MB 12 kB/s \n",
            "\u001b[K     |████████████████████████████████| 495.5 MB 18 kB/s \n",
            "\u001b[K     |████████████████████████████████| 495.5 MB 20 kB/s \n",
            "\u001b[K     |████████████████████████████████| 495.1 MB 8.9 kB/s \n",
            "\u001b[K     |████████████████████████████████| 489.6 MB 29 kB/s \n",
            "\u001b[K     |████████████████████████████████| 464.3 MB 38 kB/s \n",
            "\u001b[K     |████████████████████████████████| 132 kB 73.4 MB/s \n",
            "\u001b[K     |████████████████████████████████| 462 kB 61.3 MB/s \n",
            "\u001b[K     |████████████████████████████████| 5.6 MB 65.5 MB/s \n",
            "\u001b[K     |████████████████████████████████| 14.9 MB 65.5 MB/s \n",
            "\u001b[K     |████████████████████████████████| 464.3 MB 721 bytes/s \n",
            "\u001b[K     |████████████████████████████████| 463.9 MB 23 kB/s \n",
            "\u001b[K     |████████████████████████████████| 458.4 MB 40 kB/s \n",
            "\u001b[K     |████████████████████████████████| 458.4 MB 18 kB/s \n",
            "\u001b[K     |████████████████████████████████| 458.4 MB 34 kB/s \n",
            "\u001b[K     |████████████████████████████████| 460.4 MB 38 kB/s \n",
            "\u001b[K     |████████████████████████████████| 4.0 MB 65.6 MB/s \n",
            "\u001b[K     |████████████████████████████████| 462 kB 73.1 MB/s \n",
            "\u001b[K     |████████████████████████████████| 1.2 MB 67.5 MB/s \n",
            "\u001b[?25h  Building wheel for keras (setup.py) ... \u001b[?25l\u001b[?25hdone\n",
            "  Building wheel for termcolor (setup.py) ... \u001b[?25l\u001b[?25hdone\n",
            "  Building wheel for wrapt (setup.py) ... \u001b[?25l\u001b[?25hdone\n",
            "\u001b[31mERROR: pip's dependency resolver does not currently take into account all the packages that are installed. This behaviour is the source of the following dependency conflicts.\n",
            "xarray-einstats 0.2.2 requires numpy>=1.21, but you have numpy 1.19.5 which is incompatible.\n",
            "pydantic 1.10.2 requires typing-extensions>=4.1.0, but you have typing-extensions 3.7.4.3 which is incompatible.\n",
            "jaxlib 0.3.25+cuda11.cudnn805 requires numpy>=1.20, but you have numpy 1.19.5 which is incompatible.\n",
            "jax 0.3.25 requires numpy>=1.20, but you have numpy 1.19.5 which is incompatible.\n",
            "grpcio-status 1.48.2 requires grpcio>=1.48.2, but you have grpcio 1.34.1 which is incompatible.\n",
            "google-cloud-bigquery 3.3.6 requires grpcio<2.0dev,>=1.47.0, but you have grpcio 1.34.1 which is incompatible.\n",
            "cupy-cuda11x 11.0.0 requires numpy<1.26,>=1.20, but you have numpy 1.19.5 which is incompatible.\n",
            "cmdstanpy 1.0.8 requires numpy>=1.21, but you have numpy 1.19.5 which is incompatible.\u001b[0m\n",
            "\u001b[31mERROR: Could not find a version that satisfies the requirement tensorflow==1.13.2 (from versions: 2.2.0, 2.2.1, 2.2.2, 2.2.3, 2.3.0, 2.3.1, 2.3.2, 2.3.3, 2.3.4, 2.4.0, 2.4.1, 2.4.2, 2.4.3, 2.4.4, 2.5.0, 2.5.1, 2.5.2, 2.5.3, 2.6.0rc0, 2.6.0rc1, 2.6.0rc2, 2.6.0, 2.6.1, 2.6.2, 2.6.3, 2.6.4, 2.6.5, 2.7.0rc0, 2.7.0rc1, 2.7.0, 2.7.1, 2.7.2, 2.7.3, 2.7.4, 2.8.0rc0, 2.8.0rc1, 2.8.0, 2.8.1, 2.8.2, 2.8.3, 2.8.4, 2.9.0rc0, 2.9.0rc1, 2.9.0rc2, 2.9.0, 2.9.1, 2.9.2, 2.9.3, 2.10.0rc0, 2.10.0rc1, 2.10.0rc2, 2.10.0rc3, 2.10.0, 2.10.1, 2.11.0rc0, 2.11.0rc1, 2.11.0rc2, 2.11.0)\u001b[0m\n",
            "\u001b[31mERROR: No matching distribution found for tensorflow==1.13.2\u001b[0m\n"
          ]
        }
      ]
    },
    {
      "cell_type": "code",
      "metadata": {
        "id": "nkY7EkTkeQh-"
      },
      "source": [
        "import scipy\n",
        "\n",
        "from keras.layers import Input, Dense, Reshape, Flatten, Dropout, Concatenate, LeakyReLU\n",
        "from keras.layers import BatchNormalization, Add, add\n",
        "from keras.layers import UpSampling2D, Conv2D\n",
        "from keras.applications import vgg19\n",
        "from keras.utils import plot_model\n",
        "from keras.utils import plot_model\n",
        "from tensorflow.python.keras.preprocessing.image import img_to_array, load_img\n",
        "#from keras.preprocessing.image import img_to_array, load_img\n",
        "from keras.models import Sequential, Model\n",
        "from keras.models import Sequential, Model\n",
        "from keras.optimizers import Adam\n",
        "from keras.optimizers import Adam\n",
        "import matplotlib.pyplot as plt\n",
        "import numpy as np\n",
        "import os\n",
        "import keras.backend as K\n",
        "from tqdm import tqdm\n",
        "from tensorflow.python.platform.tf_logging import set_verbosity, FATAL\n",
        "set_verbosity(FATAL)\n",
        "os.environ[\"TF_CPP_MIN_LOG_LEVEL\"] = '0'"
      ],
      "execution_count": 31,
      "outputs": []
    },
    {
      "cell_type": "code",
      "metadata": {
        "id": "DyFNzIB0edRB",
        "outputId": "09331b13-db80-4554-b8f0-7eb2d9da53f6",
        "colab": {
          "base_uri": "https://localhost:8080/"
        }
      },
      "source": [
        "from google.colab import drive \n",
        "drive.mount('/content/drive')"
      ],
      "execution_count": 32,
      "outputs": [
        {
          "output_type": "stream",
          "name": "stdout",
          "text": [
            "Drive already mounted at /content/drive; to attempt to forcibly remount, call drive.mount(\"/content/drive\", force_remount=True).\n"
          ]
        }
      ]
    },
    {
      "cell_type": "code",
      "metadata": {
        "id": "MIUFi-vnKq2g",
        "colab": {
          "base_uri": "https://localhost:8080/"
        },
        "outputId": "b4a3434f-f21f-4018-a17f-18a1ae68c81e"
      },
      "source": [
        "!unrar x '/content/drive/MyDrive/Numpy/Mоbile game loading screen.rar'"
      ],
      "execution_count": 10,
      "outputs": [
        {
          "output_type": "stream",
          "name": "stdout",
          "text": [
            "\n",
            "UNRAR 5.50 freeware      Copyright (c) 1993-2017 Alexander Roshal\n",
            "\n",
            "\n",
            "Extracting from /content/drive/MyDrive/Numpy/Mоbile game loading screen.rar\n",
            "\n",
            "Creating    Mоbile game loading screen                                OK\n",
            "Extracting  Mоbile game loading screen/1010!.jpg                         \b\b\b\b  0%\b\b\b\b\b  OK \n",
            "Extracting  Mоbile game loading screen/8 Ball pool.jpg                   \b\b\b\b  0%\b\b\b\b\b  OK \n",
            "Extracting  Mоbile game loading screen/Amaze.jpg                         \b\b\b\b  0%\b\b\b\b\b  OK \n",
            "Extracting  Mоbile game loading screen/Animal transform race.jpg         \b\b\b\b  1%\b\b\b\b\b  OK \n",
            "Extracting  Mоbile game loading screen/Ball brick breaker.jpg            \b\b\b\b  1%\b\b\b\b\b  OK \n",
            "Extracting  Mоbile game loading screen/Beat racing.jpg                   \b\b\b\b  3%\b\b\b\b\b  OK \n",
            "Extracting  Mоbile game loading screen/Billiards city.jpg                \b\b\b\b  5%\b\b\b\b\b  OK \n",
            "Extracting  Mоbile game loading screen/Blob runner 3d.jpg                \b\b\b\b  5%\b\b\b\b\b  OK \n",
            "Extracting  Mоbile game loading screen/Bob's world.jpg                   \b\b\b\b  6%\b\b\b\b\b  OK \n",
            "Extracting  Mоbile game loading screen/Body race.jpg                     \b\b\b\b  6%\b\b\b\b\b  OK \n",
            "Extracting  Mоbile game loading screen/Bottle flip 3d.jpg                \b\b\b\b  7%\b\b\b\b\b  OK \n",
            "Extracting  Mоbile game loading screen/Brawl Stars.png                   \b\b\b\b 10%\b\b\b\b\b  OK \n",
            "Extracting  Mоbile game loading screen/Bridal Rush!.jpg                  \b\b\b\b 12%\b\b\b\b\b  OK \n",
            "Extracting  Mоbile game loading screen/Bridge race.jpg                   \b\b\b\b 12%\b\b\b\b\b  OK \n",
            "Extracting  Mоbile game loading screen/Call of duty mobile.jpg           \b\b\b\b 13%\b\b\b\b\b  OK \n",
            "Extracting  Mоbile game loading screen/Cannon shot.jpg                   \b\b\b\b 13%\b\b\b\b\b  OK \n",
            "Extracting  Mоbile game loading screen/Carpet roller - dress and rugs.jpg     \b\b\b\b 13%\b\b\b\b\b  OK \n",
            "Extracting  Mоbile game loading screen/Castle clash.png                  \b\b\b\b 15%\b\b\b\b 16%\b\b\b\b 18%\b\b\b\b 19%\b\b\b\b\b  OK \n",
            "Extracting  Mоbile game loading screen/Cheerleader run 3d.jpg            \b\b\b\b 19%\b\b\b\b\b  OK \n",
            "Extracting  Mоbile game loading screen/Clash of clans.jpg                \b\b\b\b 20%\b\b\b\b\b  OK \n",
            "Extracting  Mоbile game loading screen/Color crush.jpg                   \b\b\b\b 20%\b\b\b\b\b  OK \n",
            "Extracting  Mоbile game loading screen/Colour adventure.jpg              \b\b\b\b 20%\b\b\b\b\b  OK \n",
            "Extracting  Mоbile game loading screen/Comics Bob.jpg                    \b\b\b\b 22%\b\b\b\b\b  OK \n",
            "Extracting  Mоbile game loading screen/Cut and paint.jpg                 \b\b\b\b 22%\b\b\b\b\b  OK \n",
            "Extracting  Mоbile game loading screen/Dancing line origins.jpg          \b\b\b\b 22%\b\b\b\b\b  OK \n",
            "Extracting  Mоbile game loading screen/Dancing road.jpg                  \b\b\b\b 24%\b\b\b\b\b  OK \n",
            "Extracting  Mоbile game loading screen/Delete puzzle.jpg                 \b\b\b\b 24%\b\b\b\b\b  OK \n",
            "Extracting  Mоbile game loading screen/Draw it story.jpg                 \b\b\b\b 25%\b\b\b\b\b  OK \n",
            "Extracting  Mоbile game loading screen/Draw joust.jpg                    \b\b\b\b 25%\b\b\b\b\b  OK \n",
            "Extracting  Mоbile game loading screen/Drop number.jpg                   \b\b\b\b 27%\b\b\b\b\b  OK \n",
            "Extracting  Mоbile game loading screen/Dunk shot.jpg                     \b\b\b\b 27%\b\b\b\b\b  OK \n",
            "Extracting  Mоbile game loading screen/Epic race 3d.jpg                  \b\b\b\b 28%\b\b\b\b\b  OK \n",
            "Extracting  Mоbile game loading screen/Fidget toys 3d.jpg                \b\b\b\b 29%\b\b\b\b 30%\b\b\b\b 31%\b\b\b\b\b  OK \n",
            "Extracting  Mоbile game loading screen/Fruit Block - puzzle legend.jpg     \b\b\b\b 35%\b\b\b\b\b  OK \n",
            "Extracting  Mоbile game loading screen/Fun race 3d.jpg                   \b\b\b\b 35%\b\b\b\b\b  OK \n",
            "Extracting  Mоbile game loading screen/Galaxy attack alien shooter.jpg     \b\b\b\b 36%\b\b\b\b\b  OK \n",
            "Extracting  Mоbile game loading screen/GardenScapes.jpg                  \b\b\b\b 36%\b\b\b\b\b  OK \n",
            "Extracting  Mоbile game loading screen/Giant rush.jpg                    \b\b\b\b 36%\b\b\b\b\b  OK \n",
            "Extracting  Mоbile game loading screen/Going balls.jpg                   \b\b\b\b 37%\b\b\b\b\b  OK \n",
            "Extracting  Mоbile game loading screen/Golf blitz.jpg                    \b\b\b\b 37%\b\b\b\b\b  OK \n",
            "Extracting  Mоbile game loading screen/Heel master.jpg                   \b\b\b\b 37%\b\b\b\b\b  OK \n",
            "Extracting  Mоbile game loading screen/Helix stack jump.jpg              \b\b\b\b 38%\b\b\b\b\b  OK \n",
            "Extracting  Mоbile game loading screen/Hide 'N seek.jpg                  \b\b\b\b 38%\b\b\b\b\b  OK \n",
            "Extracting  Mоbile game loading screen/hill climb racing 2.jpg           \b\b\b\b 43%\b\b\b\b\b  OK \n",
            "Extracting  Mоbile game loading screen/hill climb racing.jpg             \b\b\b\b 44%\b\b\b\b\b  OK \n",
            "Extracting  Mоbile game loading screen/Hit and knock down.jpg            \b\b\b\b 45%\b\b\b\b\b  OK \n",
            "Extracting  Mоbile game loading screen/Hit Master 3d.jpg                 \b\b\b\b 45%\b\b\b\b\b  OK \n",
            "Extracting  Mоbile game loading screen/Home pin - how to loot.jpg        \b\b\b\b 47%\b\b\b\b\b  OK \n",
            "Extracting  Mоbile game loading screen/Homescapes.jpeg                   \b\b\b\b 48%\b\b\b\b\b  OK \n",
            "Extracting  Mоbile game loading screen/Hop Ball 3.jpg                    \b\b\b\b 48%\b\b\b\b\b  OK \n",
            "Extracting  Mоbile game loading screen/IdleAnts.jpg                      \b\b\b\b 48%\b\b\b\b\b  OK \n",
            "Extracting  Mоbile game loading screen/Jelly shift.jpg                   \b\b\b\b 49%\b\b\b\b\b  OK \n",
            "Extracting  Mоbile game loading screen/Johnny Trigger.jpg                \b\b\b\b 51%\b\b\b\b\b  OK \n",
            "Extracting  Mоbile game loading screen/Join and clash.jpg                \b\b\b\b 51%\b\b\b\b\b  OK \n",
            "Extracting  Mоbile game loading screen/Join and strike.jpg               \b\b\b\b 51%\b\b\b\b\b  OK \n",
            "Extracting  Mоbile game loading screen/Kick the Buddy.jpg                \b\b\b\b 52%\b\b\b\b 53%\b\b\b\b 54%\b\b\b\b\b  OK \n",
            "Extracting  Mоbile game loading screen/Magic tiles 3.jpg                 \b\b\b\b 56%\b\b\b\b\b  OK \n",
            "Extracting  Mоbile game loading screen/Merge Block 3d.jpg                \b\b\b\b 57%\b\b\b\b 58%\b\b\b\b\b  OK \n",
            "Extracting  Mоbile game loading screen/Moto X3M.jpg                      \b\b\b\b 58%\b\b\b\b\b  OK \n",
            "Extracting  Mоbile game loading screen/Muscle rush.jpg                   \b\b\b\b 58%\b\b\b\b\b  OK \n",
            "Extracting  Mоbile game loading screen/Paper fold.jpg                    \b\b\b\b 59%\b\b\b\b\b  OK \n",
            "Extracting  Mоbile game loading screen/Paper's grade please!.jpg         \b\b\b\b 59%\b\b\b\b\b  OK \n",
            "Extracting  Mоbile game loading screen/Pencil Rush 3d.jpg                \b\b\b\b 60%\b\b\b\b\b  OK \n",
            "Extracting  Mоbile game loading screen/Perfect cream.jpg                 \b\b\b\b 61%\b\b\b\b\b  OK \n",
            "Extracting  Mоbile game loading screen/Pick me up 3d.jpg                 \b\b\b\b 61%\b\b\b\b\b  OK \n",
            "Extracting  Mоbile game loading screen/Plants vs zombies.jpg             \b\b\b\b 65%\b\b\b\b\b  OK \n",
            "Extracting  Mоbile game loading screen/Player Unknow's Battlegrounds mobile.jpg     \b\b\b\b 65%\b\b\b\b\b  OK \n",
            "Extracting  Mоbile game loading screen/Ramp car jumping.jpg              \b\b\b\b 66%\b\b\b\b\b  OK \n",
            "Extracting  Mоbile game loading screen/Red Ball 4.jpg                    \b\b\b\b 67%\b\b\b\b\b  OK \n",
            "Extracting  Mоbile game loading screen/Rider.jpg                         \b\b\b\b 69%\b\b\b\b\b  OK \n",
            "Extracting  Mоbile game loading screen/Rocket punch.jpg                  \b\b\b\b 69%\b\b\b\b\b  OK \n",
            "Extracting  Mоbile game loading screen/Roof rails.jpg                    \b\b\b\b 71%\b\b\b\b\b  OK \n",
            "Extracting  Mоbile game loading screen/Rope slash.jpg                    \b\b\b\b 71%\b\b\b\b\b  OK \n",
            "Extracting  Mоbile game loading screen/Shooting ball.jpg                 \b\b\b\b 74%\b\b\b\b\b  OK \n",
            "Extracting  Mоbile game loading screen/Shortcut run.jpg                  \b\b\b\b 74%\b\b\b\b\b  OK \n",
            "Extracting  Mоbile game loading screen/Sky roller.jpg                    \b\b\b\b 74%\b\b\b\b\b  OK \n",
            "Extracting  Mоbile game loading screen/Sling drift.jpg                   \b\b\b\b 74%\b\b\b\b\b  OK \n",
            "Extracting  Mоbile game loading screen/Smash colors 3d.jpg               \b\b\b\b 75%\b\b\b\b\b  OK \n",
            "Extracting  Mоbile game loading screen/Soap cutting.jpg                  \b\b\b\b 75%\b\b\b\b\b  OK \n",
            "Extracting  Mоbile game loading screen/Sort People Puzzle.jpg            \b\b\b\b 76%\b\b\b\b\b  OK \n",
            "Extracting  Mоbile game loading screen/Spiral roll.jpg                   \b\b\b\b 77%\b\b\b\b\b  OK \n",
            "Extracting  Mоbile game loading screen/Stack colors.jpg                  \b\b\b\b 78%\b\b\b\b\b  OK \n",
            "Extracting  Mоbile game loading screen/Stack rider.jpg                   \b\b\b\b 78%\b\b\b\b\b  OK \n",
            "Extracting  Mоbile game loading screen/Stacky dash.jpg                   \b\b\b\b 79%\b\b\b\b\b  OK \n",
            "Extracting  Mоbile game loading screen/Standoff 2.jpg                    \b\b\b\b 80%\b\b\b\b\b  OK \n",
            "Extracting  Mоbile game loading screen/Stealth master.jpg                \b\b\b\b 81%\b\b\b\b\b  OK \n",
            "Extracting  Mоbile game loading screen/Stickman Hook.jpg                 \b\b\b\b 82%\b\b\b\b\b  OK \n",
            "Extracting  Mоbile game loading screen/Sushi roll 3d.jpg                 \b\b\b\b 83%\b\b\b\b\b  OK \n",
            "Extracting  Mоbile game loading screen/Sword play.jpg                    \b\b\b\b 84%\b\b\b\b\b  OK \n",
            "Extracting  Mоbile game loading screen/Tangle Master 3d.jpg              \b\b\b\b 84%\b\b\b\b\b  OK \n",
            "Extracting  Mоbile game loading screen/Tank stars.jpg                    \b\b\b\b 87%\b\b\b\b\b  OK \n",
            "Extracting  Mоbile game loading screen/Taxi run.jpg                      \b\b\b\b 89%\b\b\b\b\b  OK \n",
            "Extracting  Mоbile game loading screen/Tile Master 3d.jpg                \b\b\b\b 90%\b\b\b\b\b  OK \n",
            "Extracting  Mоbile game loading screen/Tiles hop.jpg                     \b\b\b\b 91%\b\b\b\b\b  OK \n",
            "Extracting  Mоbile game loading screen/Zen idle - gravity meditation.jpg     \b\b\b\b 91%\b\b\b\b\b  OK \n",
            "Extracting  Mоbile game loading screen/Долина сладостей.jpg              \b\b\b\b 91%\b\b\b\b\b  OK \n",
            "Extracting  Mоbile game loading screen/Сальто к вершине.jpg              \b\b\b\b 91%\b\b\b\b\b  OK \n",
            "Extracting  Mоbile game loading screen/Слияние мастера.jpg               \b\b\b\b 94%\b\b\b\b\b  OK \n",
            "Extracting  Mоbile game loading screen/Слова из слова.jpg                \b\b\b\b 96%\b\b\b\b\b  OK \n",
            "Extracting  Mоbile game loading screen/Туземцы.jpg                       \b\b\b\b 99%\b\b\b\b\b  OK \n",
            "All OK\n"
          ]
        }
      ]
    },
    {
      "cell_type": "code",
      "metadata": {
        "id": "ESax035zf1co"
      },
      "source": [
        "img_shape = (128, 256, 3) #размер изображения\n",
        "height = img_shape[0]\n",
        "width = img_shape[1]"
      ],
      "execution_count": 33,
      "outputs": []
    },
    {
      "cell_type": "code",
      "metadata": {
        "id": "2f6Ut9cKKmyf",
        "outputId": "f0c694b9-d200-4b3e-ac9b-08aef7c6b869",
        "colab": {
          "base_uri": "https://localhost:8080/"
        }
      },
      "source": [
        "imgs = [] \n",
        "for image in sorted(os.listdir('/content/Mоbile game loading screen/')): #проходим по каждому файлу, получив список файлов в папке \n",
        "  print(image)\n",
        "  imgs.append(img_to_array(load_img('/content/Mоbile game loading screen/'+image, target_size=(height,width)))) #загружаем файл, устанавливаем нужный размер и сохраняем в оперативную память, как массив numpy\n",
        "imgs = np.stack(imgs).astype('uint8') #сохраняем итоговый массив изображений\n",
        "\n",
        "masks = []\n",
        "for image in sorted(os.listdir('/content/Mоbile game loading screen/')): #проходим по каждому файлу, получив список файлов в папке \n",
        "  masks.append(img_to_array(load_img('/content/Mоbile game loading screen/'+image, target_size=(height,width)))) #загружаем файл, устанавливаем нужный размер и сохраняем в оперативную память, как массив numpy\n",
        "masks = np.stack(masks).astype('uint8') #сохраняем итоговый массив масок"
      ],
      "execution_count": 34,
      "outputs": [
        {
          "output_type": "stream",
          "name": "stdout",
          "text": [
            "1010!.jpg\n",
            "8 Ball pool.jpg\n",
            "Amaze.jpg\n",
            "Animal transform race.jpg\n",
            "Ball brick breaker.jpg\n",
            "Beat racing.jpg\n",
            "Billiards city.jpg\n",
            "Blob runner 3d.jpg\n",
            "Bob's world.jpg\n",
            "Body race.jpg\n",
            "Bottle flip 3d.jpg\n",
            "Brawl Stars.png\n",
            "Bridal Rush!.jpg\n",
            "Bridge race.jpg\n",
            "Call of duty mobile.jpg\n",
            "Cannon shot.jpg\n",
            "Carpet roller - dress and rugs.jpg\n",
            "Castle clash.png\n",
            "Cheerleader run 3d.jpg\n",
            "Clash of clans.jpg\n",
            "Color crush.jpg\n",
            "Colour adventure.jpg\n",
            "Comics Bob.jpg\n",
            "Cut and paint.jpg\n",
            "Dancing line origins.jpg\n",
            "Dancing road.jpg\n",
            "Delete puzzle.jpg\n",
            "Draw it story.jpg\n",
            "Draw joust.jpg\n",
            "Drop number.jpg\n",
            "Dunk shot.jpg\n",
            "Epic race 3d.jpg\n",
            "Fidget toys 3d.jpg\n",
            "Fruit Block - puzzle legend.jpg\n",
            "Fun race 3d.jpg\n",
            "Galaxy attack alien shooter.jpg\n",
            "GardenScapes.jpg\n",
            "Giant rush.jpg\n",
            "Going balls.jpg\n",
            "Golf blitz.jpg\n",
            "Heel master.jpg\n",
            "Helix stack jump.jpg\n",
            "Hide 'N seek.jpg\n",
            "Hit Master 3d.jpg\n",
            "Hit and knock down.jpg\n",
            "Home pin - how to loot.jpg\n",
            "Homescapes.jpeg\n",
            "Hop Ball 3.jpg\n",
            "IdleAnts.jpg\n",
            "Jelly shift.jpg\n",
            "Johnny Trigger.jpg\n",
            "Join and clash.jpg\n",
            "Join and strike.jpg\n",
            "Kick the Buddy.jpg\n",
            "Magic tiles 3.jpg\n",
            "Merge Block 3d.jpg\n",
            "Moto X3M.jpg\n",
            "Muscle rush.jpg\n",
            "Paper fold.jpg\n",
            "Paper's grade please!.jpg\n",
            "Pencil Rush 3d.jpg\n",
            "Perfect cream.jpg\n",
            "Pick me up 3d.jpg\n",
            "Plants vs zombies.jpg\n",
            "Player Unknow's Battlegrounds mobile.jpg\n",
            "Ramp car jumping.jpg\n",
            "Red Ball 4.jpg\n",
            "Rider.jpg\n",
            "Rocket punch.jpg\n",
            "Roof rails.jpg\n",
            "Rope slash.jpg\n",
            "Shooting ball.jpg\n",
            "Shortcut run.jpg\n",
            "Sky roller.jpg\n",
            "Sling drift.jpg\n",
            "Smash colors 3d.jpg\n",
            "Soap cutting.jpg\n",
            "Sort People Puzzle.jpg\n",
            "Spiral roll.jpg\n",
            "Stack colors.jpg\n",
            "Stack rider.jpg\n",
            "Stacky dash.jpg\n",
            "Standoff 2.jpg\n",
            "Stealth master.jpg\n",
            "Stickman Hook.jpg\n",
            "Sushi roll 3d.jpg\n",
            "Sword play.jpg\n",
            "Tangle Master 3d.jpg\n",
            "Tank stars.jpg\n",
            "Taxi run.jpg\n",
            "Tile Master 3d.jpg\n",
            "Tiles hop.jpg\n",
            "Zen idle - gravity meditation.jpg\n",
            "hill climb racing 2.jpg\n",
            "hill climb racing.jpg\n",
            "Долина сладостей.jpg\n",
            "Сальто к вершине.jpg\n",
            "Слияние мастера.jpg\n",
            "Слова из слова.jpg\n",
            "Туземцы.jpg\n"
          ]
        }
      ]
    },
    {
      "cell_type": "code",
      "metadata": {
        "id": "8ZBLLTs5f8Y0"
      },
      "source": [
        "def build_generator():\n",
        "    gf = 64 #минимальное число фильтров\n",
        "    \n",
        "    def conv2d(layer_input, filters, f_size=4, bn=True): #слой с понижением разрешения (encoder)\n",
        "        \n",
        "        d = Conv2D(filters, kernel_size=f_size, strides=2, padding='same')(layer_input) #strides = 2 уменьшает разрешение в 2 раза при padding='same'\n",
        "        d = LeakyReLU(alpha=0.2)(d)\n",
        "        if bn:\n",
        "            d = BatchNormalization(momentum=0.8)(d)\n",
        "        return d\n",
        "\n",
        "    def deconv2d(layer_input, skip_input, filters, f_size=4, dropout_rate=0): #слой с повышением разрешения (decoder) принимает на вход предыдущий слой и skip-слой от encoder'а\n",
        "        u = UpSampling2D(size=2)(layer_input) #увеличивам разрешение в 2 раза\n",
        "        u = Conv2D(filters, kernel_size=f_size, strides=1, padding='same', activation='relu')(u) #strides=1, padding='same',  поэтому разрешение сохраняется\n",
        "        if dropout_rate:\n",
        "            u = Dropout(dropout_rate)(u)\n",
        "        u = BatchNormalization(momentum=0.8)(u)\n",
        "        u = Concatenate()([u, skip_input]) #соединяем skip-слой и слой decoder'а\n",
        "        return u\n",
        "\n",
        "    d0 = Input(shape=img_shape, name=\"condition\") #входное изображение (условие)\n",
        "\n",
        "    # Часть encoder'a\n",
        "    d1 = conv2d(d0, gf, bn=False)\n",
        "    d2 = conv2d(d1, gf*2)\n",
        "    d3 = conv2d(d2, gf*4) #чем меньше размер карт активаций\n",
        "    d4 = conv2d(d3, gf*8) #тем больше должно быть фильтров в сверточном слое\n",
        "    d5 = conv2d(d4, gf*8)\n",
        "    d6 = conv2d(d5, gf*8)\n",
        "    d7 = conv2d(d6, gf*8)\n",
        "\n",
        "    # Часть decoder'a\n",
        "    u1 = deconv2d(d7, d6, gf*8)\n",
        "    u2 = deconv2d(u1, d5, gf*8) \n",
        "    u3 = deconv2d(u2, d4, gf*8) #чем больше размер карт активаций\n",
        "    u4 = deconv2d(u3, d3, gf*4) #тем меньше должно быть фильтров в сверточном слое\n",
        "    u5 = deconv2d(u4, d2, gf*2)\n",
        "    u6 = deconv2d(u5, d1, gf)\n",
        "\n",
        "    u7 = UpSampling2D(size=2)(u6)\n",
        "    output_img = Conv2D(3, kernel_size=4, strides=1, padding='same', activation='tanh', name='G_output')(u7) \n",
        "\n",
        "    return Model(d0, output_img, name=\"G\")"
      ],
      "execution_count": 35,
      "outputs": []
    },
    {
      "cell_type": "code",
      "metadata": {
        "id": "SCOzsFZTp4uE",
        "outputId": "27361ab9-f2ac-42d0-ba05-a9491b94bcaa",
        "colab": {
          "base_uri": "https://localhost:8080/"
        }
      },
      "source": [
        "gen = build_generator() #создаем генератор\n",
        "gen.summary()"
      ],
      "execution_count": 36,
      "outputs": [
        {
          "output_type": "stream",
          "name": "stdout",
          "text": [
            "Model: \"G\"\n",
            "__________________________________________________________________________________________________\n",
            " Layer (type)                   Output Shape         Param #     Connected to                     \n",
            "==================================================================================================\n",
            " condition (InputLayer)         [(None, 128, 256, 3  0           []                               \n",
            "                                )]                                                                \n",
            "                                                                                                  \n",
            " conv2d (Conv2D)                (None, 64, 128, 64)  3136        ['condition[0][0]']              \n",
            "                                                                                                  \n",
            " leaky_re_lu (LeakyReLU)        (None, 64, 128, 64)  0           ['conv2d[0][0]']                 \n",
            "                                                                                                  \n",
            " conv2d_1 (Conv2D)              (None, 32, 64, 128)  131200      ['leaky_re_lu[0][0]']            \n",
            "                                                                                                  \n",
            " leaky_re_lu_1 (LeakyReLU)      (None, 32, 64, 128)  0           ['conv2d_1[0][0]']               \n",
            "                                                                                                  \n",
            " batch_normalization_15 (BatchN  (None, 32, 64, 128)  512        ['leaky_re_lu_1[0][0]']          \n",
            " ormalization)                                                                                    \n",
            "                                                                                                  \n",
            " conv2d_2 (Conv2D)              (None, 16, 32, 256)  524544      ['batch_normalization_15[0][0]'] \n",
            "                                                                                                  \n",
            " leaky_re_lu_2 (LeakyReLU)      (None, 16, 32, 256)  0           ['conv2d_2[0][0]']               \n",
            "                                                                                                  \n",
            " batch_normalization_16 (BatchN  (None, 16, 32, 256)  1024       ['leaky_re_lu_2[0][0]']          \n",
            " ormalization)                                                                                    \n",
            "                                                                                                  \n",
            " conv2d_3 (Conv2D)              (None, 8, 16, 512)   2097664     ['batch_normalization_16[0][0]'] \n",
            "                                                                                                  \n",
            " leaky_re_lu_3 (LeakyReLU)      (None, 8, 16, 512)   0           ['conv2d_3[0][0]']               \n",
            "                                                                                                  \n",
            " batch_normalization_17 (BatchN  (None, 8, 16, 512)  2048        ['leaky_re_lu_3[0][0]']          \n",
            " ormalization)                                                                                    \n",
            "                                                                                                  \n",
            " conv2d_4 (Conv2D)              (None, 4, 8, 512)    4194816     ['batch_normalization_17[0][0]'] \n",
            "                                                                                                  \n",
            " leaky_re_lu_4 (LeakyReLU)      (None, 4, 8, 512)    0           ['conv2d_4[0][0]']               \n",
            "                                                                                                  \n",
            " batch_normalization_18 (BatchN  (None, 4, 8, 512)   2048        ['leaky_re_lu_4[0][0]']          \n",
            " ormalization)                                                                                    \n",
            "                                                                                                  \n",
            " conv2d_5 (Conv2D)              (None, 2, 4, 512)    4194816     ['batch_normalization_18[0][0]'] \n",
            "                                                                                                  \n",
            " leaky_re_lu_5 (LeakyReLU)      (None, 2, 4, 512)    0           ['conv2d_5[0][0]']               \n",
            "                                                                                                  \n",
            " batch_normalization_19 (BatchN  (None, 2, 4, 512)   2048        ['leaky_re_lu_5[0][0]']          \n",
            " ormalization)                                                                                    \n",
            "                                                                                                  \n",
            " conv2d_6 (Conv2D)              (None, 1, 2, 512)    4194816     ['batch_normalization_19[0][0]'] \n",
            "                                                                                                  \n",
            " leaky_re_lu_6 (LeakyReLU)      (None, 1, 2, 512)    0           ['conv2d_6[0][0]']               \n",
            "                                                                                                  \n",
            " batch_normalization_20 (BatchN  (None, 1, 2, 512)   2048        ['leaky_re_lu_6[0][0]']          \n",
            " ormalization)                                                                                    \n",
            "                                                                                                  \n",
            " up_sampling2d (UpSampling2D)   (None, 2, 4, 512)    0           ['batch_normalization_20[0][0]'] \n",
            "                                                                                                  \n",
            " conv2d_7 (Conv2D)              (None, 2, 4, 512)    4194816     ['up_sampling2d[0][0]']          \n",
            "                                                                                                  \n",
            " batch_normalization_21 (BatchN  (None, 2, 4, 512)   2048        ['conv2d_7[0][0]']               \n",
            " ormalization)                                                                                    \n",
            "                                                                                                  \n",
            " concatenate (Concatenate)      (None, 2, 4, 1024)   0           ['batch_normalization_21[0][0]', \n",
            "                                                                  'batch_normalization_19[0][0]'] \n",
            "                                                                                                  \n",
            " up_sampling2d_1 (UpSampling2D)  (None, 4, 8, 1024)  0           ['concatenate[0][0]']            \n",
            "                                                                                                  \n",
            " conv2d_8 (Conv2D)              (None, 4, 8, 512)    8389120     ['up_sampling2d_1[0][0]']        \n",
            "                                                                                                  \n",
            " batch_normalization_22 (BatchN  (None, 4, 8, 512)   2048        ['conv2d_8[0][0]']               \n",
            " ormalization)                                                                                    \n",
            "                                                                                                  \n",
            " concatenate_1 (Concatenate)    (None, 4, 8, 1024)   0           ['batch_normalization_22[0][0]', \n",
            "                                                                  'batch_normalization_18[0][0]'] \n",
            "                                                                                                  \n",
            " up_sampling2d_2 (UpSampling2D)  (None, 8, 16, 1024)  0          ['concatenate_1[0][0]']          \n",
            "                                                                                                  \n",
            " conv2d_9 (Conv2D)              (None, 8, 16, 512)   8389120     ['up_sampling2d_2[0][0]']        \n",
            "                                                                                                  \n",
            " batch_normalization_23 (BatchN  (None, 8, 16, 512)  2048        ['conv2d_9[0][0]']               \n",
            " ormalization)                                                                                    \n",
            "                                                                                                  \n",
            " concatenate_2 (Concatenate)    (None, 8, 16, 1024)  0           ['batch_normalization_23[0][0]', \n",
            "                                                                  'batch_normalization_17[0][0]'] \n",
            "                                                                                                  \n",
            " up_sampling2d_3 (UpSampling2D)  (None, 16, 32, 1024  0          ['concatenate_2[0][0]']          \n",
            "                                )                                                                 \n",
            "                                                                                                  \n",
            " conv2d_10 (Conv2D)             (None, 16, 32, 256)  4194560     ['up_sampling2d_3[0][0]']        \n",
            "                                                                                                  \n",
            " batch_normalization_24 (BatchN  (None, 16, 32, 256)  1024       ['conv2d_10[0][0]']              \n",
            " ormalization)                                                                                    \n",
            "                                                                                                  \n",
            " concatenate_3 (Concatenate)    (None, 16, 32, 512)  0           ['batch_normalization_24[0][0]', \n",
            "                                                                  'batch_normalization_16[0][0]'] \n",
            "                                                                                                  \n",
            " up_sampling2d_4 (UpSampling2D)  (None, 32, 64, 512)  0          ['concatenate_3[0][0]']          \n",
            "                                                                                                  \n",
            " conv2d_11 (Conv2D)             (None, 32, 64, 128)  1048704     ['up_sampling2d_4[0][0]']        \n",
            "                                                                                                  \n",
            " batch_normalization_25 (BatchN  (None, 32, 64, 128)  512        ['conv2d_11[0][0]']              \n",
            " ormalization)                                                                                    \n",
            "                                                                                                  \n",
            " concatenate_4 (Concatenate)    (None, 32, 64, 256)  0           ['batch_normalization_25[0][0]', \n",
            "                                                                  'batch_normalization_15[0][0]'] \n",
            "                                                                                                  \n",
            " up_sampling2d_5 (UpSampling2D)  (None, 64, 128, 256  0          ['concatenate_4[0][0]']          \n",
            "                                )                                                                 \n",
            "                                                                                                  \n",
            " conv2d_12 (Conv2D)             (None, 64, 128, 64)  262208      ['up_sampling2d_5[0][0]']        \n",
            "                                                                                                  \n",
            " batch_normalization_26 (BatchN  (None, 64, 128, 64)  256        ['conv2d_12[0][0]']              \n",
            " ormalization)                                                                                    \n",
            "                                                                                                  \n",
            " concatenate_5 (Concatenate)    (None, 64, 128, 128  0           ['batch_normalization_26[0][0]', \n",
            "                                )                                 'leaky_re_lu[0][0]']            \n",
            "                                                                                                  \n",
            " up_sampling2d_6 (UpSampling2D)  (None, 128, 256, 12  0          ['concatenate_5[0][0]']          \n",
            "                                8)                                                                \n",
            "                                                                                                  \n",
            " G_output (Conv2D)              (None, 128, 256, 3)  6147        ['up_sampling2d_6[0][0]']        \n",
            "                                                                                                  \n",
            "==================================================================================================\n",
            "Total params: 41,843,331\n",
            "Trainable params: 41,834,499\n",
            "Non-trainable params: 8,832\n",
            "__________________________________________________________________________________________________\n"
          ]
        }
      ]
    },
    {
      "cell_type": "code",
      "metadata": {
        "id": "cXzldNDmgJf3"
      },
      "source": [
        "def build_discriminator():\n",
        "  \n",
        "  df = 64 #минимальное число фильтров\n",
        "  def d_layer(layer_input, filters, f_size=4, bn=True): #слой дискриминатора с понижением разрешения\n",
        "      \n",
        "      d = Conv2D(filters, kernel_size=f_size, strides=2, padding='same')(layer_input) #размер карт активаций будет уменьшен в 2 раза, так как strides=2 при padding='same'\n",
        "      d = LeakyReLU(alpha=0.2)(d)\n",
        "      if bn:\n",
        "          d = BatchNormalization(momentum=0.8)(d)\n",
        "      return d\n",
        "\n",
        "  image = Input(shape=img_shape, name=\"real_or_fake_A\") #на вход дискриминатору подается либо реальное изображение, либо фейковое\n",
        "  condition = Input(shape=img_shape, name=\"condition\") #и дополнительно изображение-условие\n",
        "\n",
        "  combined_imgs = Concatenate(axis=-1)([image, condition]) #объединяем оба входа в 1 слой\n",
        "\n",
        "  d1 = d_layer(combined_imgs, df, bn=False)\n",
        "  d2 = d_layer(d1, df*2)\n",
        "  d3 = d_layer(d2, df*4) #уменьшаем размер карт активации, увеличивая их число\n",
        "  d4 = d_layer(d3, df*8)\n",
        "\n",
        "  validity = Conv2D(1, kernel_size=4, strides=1, padding='same', name='D_output', activation='sigmoid')(d4) #на выходе будет двумерный массив, каждый элемент которого определяет, подлинность части изображения (patch GAN)\n",
        "                                                                                                            #0 отвечает за фейковые изображения, 1 за подлинные, поэтому используем sigmoid\n",
        "\n",
        "  return Model([image, condition], validity, name='D')"
      ],
      "execution_count": 37,
      "outputs": []
    },
    {
      "cell_type": "code",
      "metadata": {
        "id": "rV8hYXwFC5J-",
        "outputId": "6d39dc4d-811d-4d67-f1dd-68aa2c8b6e0f",
        "colab": {
          "base_uri": "https://localhost:8080/"
        }
      },
      "source": [
        "dis = build_discriminator()\n",
        "dis.summary()"
      ],
      "execution_count": 38,
      "outputs": [
        {
          "output_type": "stream",
          "name": "stdout",
          "text": [
            "Model: \"D\"\n",
            "__________________________________________________________________________________________________\n",
            " Layer (type)                   Output Shape         Param #     Connected to                     \n",
            "==================================================================================================\n",
            " real_or_fake_A (InputLayer)    [(None, 128, 256, 3  0           []                               \n",
            "                                )]                                                                \n",
            "                                                                                                  \n",
            " condition (InputLayer)         [(None, 128, 256, 3  0           []                               \n",
            "                                )]                                                                \n",
            "                                                                                                  \n",
            " concatenate_6 (Concatenate)    (None, 128, 256, 6)  0           ['real_or_fake_A[0][0]',         \n",
            "                                                                  'condition[0][0]']              \n",
            "                                                                                                  \n",
            " conv2d_13 (Conv2D)             (None, 64, 128, 64)  6208        ['concatenate_6[0][0]']          \n",
            "                                                                                                  \n",
            " leaky_re_lu_7 (LeakyReLU)      (None, 64, 128, 64)  0           ['conv2d_13[0][0]']              \n",
            "                                                                                                  \n",
            " conv2d_14 (Conv2D)             (None, 32, 64, 128)  131200      ['leaky_re_lu_7[0][0]']          \n",
            "                                                                                                  \n",
            " leaky_re_lu_8 (LeakyReLU)      (None, 32, 64, 128)  0           ['conv2d_14[0][0]']              \n",
            "                                                                                                  \n",
            " batch_normalization_27 (BatchN  (None, 32, 64, 128)  512        ['leaky_re_lu_8[0][0]']          \n",
            " ormalization)                                                                                    \n",
            "                                                                                                  \n",
            " conv2d_15 (Conv2D)             (None, 16, 32, 256)  524544      ['batch_normalization_27[0][0]'] \n",
            "                                                                                                  \n",
            " leaky_re_lu_9 (LeakyReLU)      (None, 16, 32, 256)  0           ['conv2d_15[0][0]']              \n",
            "                                                                                                  \n",
            " batch_normalization_28 (BatchN  (None, 16, 32, 256)  1024       ['leaky_re_lu_9[0][0]']          \n",
            " ormalization)                                                                                    \n",
            "                                                                                                  \n",
            " conv2d_16 (Conv2D)             (None, 8, 16, 512)   2097664     ['batch_normalization_28[0][0]'] \n",
            "                                                                                                  \n",
            " leaky_re_lu_10 (LeakyReLU)     (None, 8, 16, 512)   0           ['conv2d_16[0][0]']              \n",
            "                                                                                                  \n",
            " batch_normalization_29 (BatchN  (None, 8, 16, 512)  2048        ['leaky_re_lu_10[0][0]']         \n",
            " ormalization)                                                                                    \n",
            "                                                                                                  \n",
            " D_output (Conv2D)              (None, 8, 16, 1)     8193        ['batch_normalization_29[0][0]'] \n",
            "                                                                                                  \n",
            "==================================================================================================\n",
            "Total params: 2,771,393\n",
            "Trainable params: 2,769,601\n",
            "Non-trainable params: 1,792\n",
            "__________________________________________________________________________________________________\n"
          ]
        }
      ]
    },
    {
      "cell_type": "code",
      "metadata": {
        "id": "Mf6o9d-OgMik"
      },
      "source": [
        "def build_vgg():\n",
        "  #для feature loss создаем vgg модель\n",
        "  vgg_in = Input(img_shape)\n",
        "  vgg = vgg19.VGG19(include_top=False, input_shape=img_shape, input_tensor=vgg_in) #скачиваем архитектуру и веса \n",
        "  vgg_out = vgg.get_layer('block5_conv4').output #получаем последний сверточный слой\n",
        "  vgg = Model(vgg_in, vgg_out, name='vgg')\n",
        "  vgg.trainable = False #модель уже предобучена, поэтому ее необходимо заморозить\n",
        "\n",
        "  return vgg"
      ],
      "execution_count": 39,
      "outputs": []
    },
    {
      "cell_type": "code",
      "metadata": {
        "id": "haIL0irRrF2G",
        "outputId": "651e2275-754c-475b-e931-6f8d210c6bfc",
        "colab": {
          "base_uri": "https://localhost:8080/"
        }
      },
      "source": [
        "vgg = build_vgg()\n",
        "vgg.summary()"
      ],
      "execution_count": 40,
      "outputs": [
        {
          "output_type": "stream",
          "name": "stdout",
          "text": [
            "Model: \"vgg\"\n",
            "_________________________________________________________________\n",
            " Layer (type)                Output Shape              Param #   \n",
            "=================================================================\n",
            " input_1 (InputLayer)        [(None, 128, 256, 3)]     0         \n",
            "                                                                 \n",
            " block1_conv1 (Conv2D)       (None, 128, 256, 64)      1792      \n",
            "                                                                 \n",
            " block1_conv2 (Conv2D)       (None, 128, 256, 64)      36928     \n",
            "                                                                 \n",
            " block1_pool (MaxPooling2D)  (None, 64, 128, 64)       0         \n",
            "                                                                 \n",
            " block2_conv1 (Conv2D)       (None, 64, 128, 128)      73856     \n",
            "                                                                 \n",
            " block2_conv2 (Conv2D)       (None, 64, 128, 128)      147584    \n",
            "                                                                 \n",
            " block2_pool (MaxPooling2D)  (None, 32, 64, 128)       0         \n",
            "                                                                 \n",
            " block3_conv1 (Conv2D)       (None, 32, 64, 256)       295168    \n",
            "                                                                 \n",
            " block3_conv2 (Conv2D)       (None, 32, 64, 256)       590080    \n",
            "                                                                 \n",
            " block3_conv3 (Conv2D)       (None, 32, 64, 256)       590080    \n",
            "                                                                 \n",
            " block3_conv4 (Conv2D)       (None, 32, 64, 256)       590080    \n",
            "                                                                 \n",
            " block3_pool (MaxPooling2D)  (None, 16, 32, 256)       0         \n",
            "                                                                 \n",
            " block4_conv1 (Conv2D)       (None, 16, 32, 512)       1180160   \n",
            "                                                                 \n",
            " block4_conv2 (Conv2D)       (None, 16, 32, 512)       2359808   \n",
            "                                                                 \n",
            " block4_conv3 (Conv2D)       (None, 16, 32, 512)       2359808   \n",
            "                                                                 \n",
            " block4_conv4 (Conv2D)       (None, 16, 32, 512)       2359808   \n",
            "                                                                 \n",
            " block4_pool (MaxPooling2D)  (None, 8, 16, 512)        0         \n",
            "                                                                 \n",
            " block5_conv1 (Conv2D)       (None, 8, 16, 512)        2359808   \n",
            "                                                                 \n",
            " block5_conv2 (Conv2D)       (None, 8, 16, 512)        2359808   \n",
            "                                                                 \n",
            " block5_conv3 (Conv2D)       (None, 8, 16, 512)        2359808   \n",
            "                                                                 \n",
            " block5_conv4 (Conv2D)       (None, 8, 16, 512)        2359808   \n",
            "                                                                 \n",
            "=================================================================\n",
            "Total params: 20,024,384\n",
            "Trainable params: 0\n",
            "Non-trainable params: 20,024,384\n",
            "_________________________________________________________________\n"
          ]
        }
      ]
    },
    {
      "cell_type": "code",
      "metadata": {
        "id": "TYtVXz4zgRIc"
      },
      "source": [
        "def build_gan(generator, discriminator, vgg):\n",
        "  discriminator.trainable = False #замораживаем дискриминатор\n",
        "\n",
        "  condition = Input(img_shape, name='Condition') #вход изображения-условия\n",
        "  fake_img = generator(condition) #изображение, полученное от генератора\n",
        "\n",
        "  fake_features = vgg(fake_img) #карты активации, полученные от фейкового изображения\n",
        "\n",
        "  fake_validity = discriminator([fake_img, condition]) #соединяем генератор и дискриминатор\n",
        "\n",
        "  gan = Model(condition, [fake_validity, fake_img, fake_features]) #получаем gan с тремя выходами: первый отвечает за \"правдоподобность\", второй за изображение от генератора, третий за карты активации\n",
        "\n",
        "  return gan"
      ],
      "execution_count": 41,
      "outputs": []
    },
    {
      "cell_type": "code",
      "metadata": {
        "id": "fBVviW6WswHk",
        "outputId": "3747bd84-1a58-4f79-fad0-7727c0dd2a09",
        "colab": {
          "base_uri": "https://localhost:8080/"
        }
      },
      "source": [
        "dis.output_shape[1:]"
      ],
      "execution_count": 42,
      "outputs": [
        {
          "output_type": "execute_result",
          "data": {
            "text/plain": [
              "(8, 16, 1)"
            ]
          },
          "metadata": {},
          "execution_count": 42
        }
      ]
    },
    {
      "cell_type": "code",
      "metadata": {
        "id": "2cJSBjGysa6n",
        "outputId": "54ef6826-0b59-4885-debf-b4fbb2da37f7",
        "colab": {
          "base_uri": "https://localhost:8080/"
        }
      },
      "source": [
        "(np.ones((128, *dis.output_shape[1:]))).shape"
      ],
      "execution_count": 43,
      "outputs": [
        {
          "output_type": "execute_result",
          "data": {
            "text/plain": [
              "(128, 8, 16, 1)"
            ]
          },
          "metadata": {},
          "execution_count": 43
        }
      ]
    },
    {
      "cell_type": "code",
      "metadata": {
        "id": "elIEYwCxgTwM"
      },
      "source": [
        "def train(generator, discriminator, gan, vgg, imgs, masks, epochs, batch_size):\n",
        "\n",
        "  for epoch in range(epochs): \n",
        "    idx = np.random.choice(imgs.shape[0], imgs.shape[0], replace=False) #перемешиваем индексы, чтобы batch'и всегда были разными\n",
        "\n",
        "    with tqdm(total=imgs.shape[0]) as pbar: #для отслеживания создаем progressbar\n",
        "      for batch in range(imgs.shape[0]//batch_size):\n",
        "        \n",
        "        #для тренировки дискриминатора применяем label smoothing\n",
        "        #размерность Y: (размер батча, высота последнего слоя дискриминатора, ширина, 1)\n",
        "        y_real = np.ones((batch_size, *discriminator.output_shape[1:])) - np.random.random_sample((batch_size, *discriminator.output_shape[1:]))*0.2\n",
        "        y_fake = np.random.random_sample((batch_size, *discriminator.output_shape[1:]))*0.2\n",
        "\n",
        "        idx_batch = idx[batch*batch_size:(batch+1)*batch_size] #получаем индексы для одного batch'а\n",
        "\n",
        "        real_imgs = (imgs[idx_batch]/127.5)-1 #получаем истинные изображения и нормализуем их\n",
        "        condition = (masks[idx_batch]/127.5)-1 #получаем маски и нормализуем их\n",
        "\n",
        "        fake_imgs = generator.predict(condition) #генерируем изображения по маскам\n",
        "\n",
        "        #тренируем дискриминатор       \n",
        "        d_loss_real = discriminator.train_on_batch([real_imgs, condition], y_real)\n",
        "        d_loss_fake = discriminator.train_on_batch([fake_imgs, condition], y_fake)\n",
        "        d_loss_total = 0.5*np.add(d_loss_real, d_loss_fake)\n",
        "   \n",
        "        #тренируем генератор\n",
        "        real_features = vgg.predict(real_imgs)\n",
        "        y_real = np.ones((batch_size, *discriminator.output_shape[1:]))\n",
        "\n",
        "        g_loss = gan.train_on_batch(condition, [y_real, real_imgs, real_features])\n",
        "        pbar.update(batch_size) #обновляем progressbar\n",
        "        pbar.set_description(\"Epoch: {}/{}, Discriminator loss: {}, Generator loss:{}\".format(epoch+1, epochs, d_loss_total[0], g_loss))"
      ],
      "execution_count": 44,
      "outputs": []
    },
    {
      "cell_type": "markdown",
      "metadata": {
        "id": "OHKpZo-LOF25"
      },
      "source": []
    },
    {
      "cell_type": "code",
      "metadata": {
        "id": "4yOi_b9ygUjW",
        "outputId": "edeffc67-fa45-4cfa-9985-61cf79e2ef77",
        "colab": {
          "base_uri": "https://localhost:8080/"
        }
      },
      "source": [
        "gen = build_generator() #создаем генератор\n",
        "\n",
        "dis = build_discriminator() #создаем дискриминатор\n",
        "dis.compile(loss='binary_crossentropy', optimizer=Adam(lr=1e-4, beta_1=0.5), metrics=['accuracy'])\n",
        "\n",
        "vgg = build_vgg() #создаем vgg модель\n",
        "\n",
        "gan = build_gan(gen, dis, vgg) #создаем gan\n",
        "gan.compile(loss=['binary_crossentropy', 'mse', 'mse'], loss_weights=[1,100,10], optimizer=Adam(lr=1e-4, beta_1=0.5)) #вклад разницы между пикселями в 10 раз больше, чем вклад от feature loss и в 100 раз больше, чем вклад от GAN"
      ],
      "execution_count": 45,
      "outputs": [
        {
          "output_type": "stream",
          "name": "stderr",
          "text": [
            "/usr/local/lib/python3.8/dist-packages/keras/optimizers/optimizer_v2/adam.py:110: UserWarning: The `lr` argument is deprecated, use `learning_rate` instead.\n"
          ]
        }
      ]
    },
    {
      "cell_type": "code",
      "metadata": {
        "id": "jU3hdfNUQsk7",
        "outputId": "ac3ca80d-34eb-4475-d9db-166594d826a8",
        "colab": {
          "base_uri": "https://localhost:8080/"
        }
      },
      "source": [
        "gen.summary()"
      ],
      "execution_count": 46,
      "outputs": [
        {
          "output_type": "stream",
          "name": "stdout",
          "text": [
            "Model: \"G\"\n",
            "__________________________________________________________________________________________________\n",
            " Layer (type)                   Output Shape         Param #     Connected to                     \n",
            "==================================================================================================\n",
            " condition (InputLayer)         [(None, 128, 256, 3  0           []                               \n",
            "                                )]                                                                \n",
            "                                                                                                  \n",
            " conv2d_17 (Conv2D)             (None, 64, 128, 64)  3136        ['condition[0][0]']              \n",
            "                                                                                                  \n",
            " leaky_re_lu_11 (LeakyReLU)     (None, 64, 128, 64)  0           ['conv2d_17[0][0]']              \n",
            "                                                                                                  \n",
            " conv2d_18 (Conv2D)             (None, 32, 64, 128)  131200      ['leaky_re_lu_11[0][0]']         \n",
            "                                                                                                  \n",
            " leaky_re_lu_12 (LeakyReLU)     (None, 32, 64, 128)  0           ['conv2d_18[0][0]']              \n",
            "                                                                                                  \n",
            " batch_normalization_30 (BatchN  (None, 32, 64, 128)  512        ['leaky_re_lu_12[0][0]']         \n",
            " ormalization)                                                                                    \n",
            "                                                                                                  \n",
            " conv2d_19 (Conv2D)             (None, 16, 32, 256)  524544      ['batch_normalization_30[0][0]'] \n",
            "                                                                                                  \n",
            " leaky_re_lu_13 (LeakyReLU)     (None, 16, 32, 256)  0           ['conv2d_19[0][0]']              \n",
            "                                                                                                  \n",
            " batch_normalization_31 (BatchN  (None, 16, 32, 256)  1024       ['leaky_re_lu_13[0][0]']         \n",
            " ormalization)                                                                                    \n",
            "                                                                                                  \n",
            " conv2d_20 (Conv2D)             (None, 8, 16, 512)   2097664     ['batch_normalization_31[0][0]'] \n",
            "                                                                                                  \n",
            " leaky_re_lu_14 (LeakyReLU)     (None, 8, 16, 512)   0           ['conv2d_20[0][0]']              \n",
            "                                                                                                  \n",
            " batch_normalization_32 (BatchN  (None, 8, 16, 512)  2048        ['leaky_re_lu_14[0][0]']         \n",
            " ormalization)                                                                                    \n",
            "                                                                                                  \n",
            " conv2d_21 (Conv2D)             (None, 4, 8, 512)    4194816     ['batch_normalization_32[0][0]'] \n",
            "                                                                                                  \n",
            " leaky_re_lu_15 (LeakyReLU)     (None, 4, 8, 512)    0           ['conv2d_21[0][0]']              \n",
            "                                                                                                  \n",
            " batch_normalization_33 (BatchN  (None, 4, 8, 512)   2048        ['leaky_re_lu_15[0][0]']         \n",
            " ormalization)                                                                                    \n",
            "                                                                                                  \n",
            " conv2d_22 (Conv2D)             (None, 2, 4, 512)    4194816     ['batch_normalization_33[0][0]'] \n",
            "                                                                                                  \n",
            " leaky_re_lu_16 (LeakyReLU)     (None, 2, 4, 512)    0           ['conv2d_22[0][0]']              \n",
            "                                                                                                  \n",
            " batch_normalization_34 (BatchN  (None, 2, 4, 512)   2048        ['leaky_re_lu_16[0][0]']         \n",
            " ormalization)                                                                                    \n",
            "                                                                                                  \n",
            " conv2d_23 (Conv2D)             (None, 1, 2, 512)    4194816     ['batch_normalization_34[0][0]'] \n",
            "                                                                                                  \n",
            " leaky_re_lu_17 (LeakyReLU)     (None, 1, 2, 512)    0           ['conv2d_23[0][0]']              \n",
            "                                                                                                  \n",
            " batch_normalization_35 (BatchN  (None, 1, 2, 512)   2048        ['leaky_re_lu_17[0][0]']         \n",
            " ormalization)                                                                                    \n",
            "                                                                                                  \n",
            " up_sampling2d_7 (UpSampling2D)  (None, 2, 4, 512)   0           ['batch_normalization_35[0][0]'] \n",
            "                                                                                                  \n",
            " conv2d_24 (Conv2D)             (None, 2, 4, 512)    4194816     ['up_sampling2d_7[0][0]']        \n",
            "                                                                                                  \n",
            " batch_normalization_36 (BatchN  (None, 2, 4, 512)   2048        ['conv2d_24[0][0]']              \n",
            " ormalization)                                                                                    \n",
            "                                                                                                  \n",
            " concatenate_7 (Concatenate)    (None, 2, 4, 1024)   0           ['batch_normalization_36[0][0]', \n",
            "                                                                  'batch_normalization_34[0][0]'] \n",
            "                                                                                                  \n",
            " up_sampling2d_8 (UpSampling2D)  (None, 4, 8, 1024)  0           ['concatenate_7[0][0]']          \n",
            "                                                                                                  \n",
            " conv2d_25 (Conv2D)             (None, 4, 8, 512)    8389120     ['up_sampling2d_8[0][0]']        \n",
            "                                                                                                  \n",
            " batch_normalization_37 (BatchN  (None, 4, 8, 512)   2048        ['conv2d_25[0][0]']              \n",
            " ormalization)                                                                                    \n",
            "                                                                                                  \n",
            " concatenate_8 (Concatenate)    (None, 4, 8, 1024)   0           ['batch_normalization_37[0][0]', \n",
            "                                                                  'batch_normalization_33[0][0]'] \n",
            "                                                                                                  \n",
            " up_sampling2d_9 (UpSampling2D)  (None, 8, 16, 1024)  0          ['concatenate_8[0][0]']          \n",
            "                                                                                                  \n",
            " conv2d_26 (Conv2D)             (None, 8, 16, 512)   8389120     ['up_sampling2d_9[0][0]']        \n",
            "                                                                                                  \n",
            " batch_normalization_38 (BatchN  (None, 8, 16, 512)  2048        ['conv2d_26[0][0]']              \n",
            " ormalization)                                                                                    \n",
            "                                                                                                  \n",
            " concatenate_9 (Concatenate)    (None, 8, 16, 1024)  0           ['batch_normalization_38[0][0]', \n",
            "                                                                  'batch_normalization_32[0][0]'] \n",
            "                                                                                                  \n",
            " up_sampling2d_10 (UpSampling2D  (None, 16, 32, 1024  0          ['concatenate_9[0][0]']          \n",
            " )                              )                                                                 \n",
            "                                                                                                  \n",
            " conv2d_27 (Conv2D)             (None, 16, 32, 256)  4194560     ['up_sampling2d_10[0][0]']       \n",
            "                                                                                                  \n",
            " batch_normalization_39 (BatchN  (None, 16, 32, 256)  1024       ['conv2d_27[0][0]']              \n",
            " ormalization)                                                                                    \n",
            "                                                                                                  \n",
            " concatenate_10 (Concatenate)   (None, 16, 32, 512)  0           ['batch_normalization_39[0][0]', \n",
            "                                                                  'batch_normalization_31[0][0]'] \n",
            "                                                                                                  \n",
            " up_sampling2d_11 (UpSampling2D  (None, 32, 64, 512)  0          ['concatenate_10[0][0]']         \n",
            " )                                                                                                \n",
            "                                                                                                  \n",
            " conv2d_28 (Conv2D)             (None, 32, 64, 128)  1048704     ['up_sampling2d_11[0][0]']       \n",
            "                                                                                                  \n",
            " batch_normalization_40 (BatchN  (None, 32, 64, 128)  512        ['conv2d_28[0][0]']              \n",
            " ormalization)                                                                                    \n",
            "                                                                                                  \n",
            " concatenate_11 (Concatenate)   (None, 32, 64, 256)  0           ['batch_normalization_40[0][0]', \n",
            "                                                                  'batch_normalization_30[0][0]'] \n",
            "                                                                                                  \n",
            " up_sampling2d_12 (UpSampling2D  (None, 64, 128, 256  0          ['concatenate_11[0][0]']         \n",
            " )                              )                                                                 \n",
            "                                                                                                  \n",
            " conv2d_29 (Conv2D)             (None, 64, 128, 64)  262208      ['up_sampling2d_12[0][0]']       \n",
            "                                                                                                  \n",
            " batch_normalization_41 (BatchN  (None, 64, 128, 64)  256        ['conv2d_29[0][0]']              \n",
            " ormalization)                                                                                    \n",
            "                                                                                                  \n",
            " concatenate_12 (Concatenate)   (None, 64, 128, 128  0           ['batch_normalization_41[0][0]', \n",
            "                                )                                 'leaky_re_lu_11[0][0]']         \n",
            "                                                                                                  \n",
            " up_sampling2d_13 (UpSampling2D  (None, 128, 256, 12  0          ['concatenate_12[0][0]']         \n",
            " )                              8)                                                                \n",
            "                                                                                                  \n",
            " G_output (Conv2D)              (None, 128, 256, 3)  6147        ['up_sampling2d_13[0][0]']       \n",
            "                                                                                                  \n",
            "==================================================================================================\n",
            "Total params: 41,843,331\n",
            "Trainable params: 41,834,499\n",
            "Non-trainable params: 8,832\n",
            "__________________________________________________________________________________________________\n"
          ]
        }
      ]
    },
    {
      "cell_type": "code",
      "metadata": {
        "id": "91C6UT64QmIT",
        "outputId": "1fa388a1-d9a6-4db7-b7c4-0eeb20f120cb",
        "colab": {
          "base_uri": "https://localhost:8080/"
        }
      },
      "source": [
        "dis.summary()"
      ],
      "execution_count": 47,
      "outputs": [
        {
          "output_type": "stream",
          "name": "stdout",
          "text": [
            "Model: \"D\"\n",
            "__________________________________________________________________________________________________\n",
            " Layer (type)                   Output Shape         Param #     Connected to                     \n",
            "==================================================================================================\n",
            " real_or_fake_A (InputLayer)    [(None, 128, 256, 3  0           []                               \n",
            "                                )]                                                                \n",
            "                                                                                                  \n",
            " condition (InputLayer)         [(None, 128, 256, 3  0           []                               \n",
            "                                )]                                                                \n",
            "                                                                                                  \n",
            " concatenate_13 (Concatenate)   (None, 128, 256, 6)  0           ['real_or_fake_A[0][0]',         \n",
            "                                                                  'condition[0][0]']              \n",
            "                                                                                                  \n",
            " conv2d_30 (Conv2D)             (None, 64, 128, 64)  6208        ['concatenate_13[0][0]']         \n",
            "                                                                                                  \n",
            " leaky_re_lu_18 (LeakyReLU)     (None, 64, 128, 64)  0           ['conv2d_30[0][0]']              \n",
            "                                                                                                  \n",
            " conv2d_31 (Conv2D)             (None, 32, 64, 128)  131200      ['leaky_re_lu_18[0][0]']         \n",
            "                                                                                                  \n",
            " leaky_re_lu_19 (LeakyReLU)     (None, 32, 64, 128)  0           ['conv2d_31[0][0]']              \n",
            "                                                                                                  \n",
            " batch_normalization_42 (BatchN  (None, 32, 64, 128)  512        ['leaky_re_lu_19[0][0]']         \n",
            " ormalization)                                                                                    \n",
            "                                                                                                  \n",
            " conv2d_32 (Conv2D)             (None, 16, 32, 256)  524544      ['batch_normalization_42[0][0]'] \n",
            "                                                                                                  \n",
            " leaky_re_lu_20 (LeakyReLU)     (None, 16, 32, 256)  0           ['conv2d_32[0][0]']              \n",
            "                                                                                                  \n",
            " batch_normalization_43 (BatchN  (None, 16, 32, 256)  1024       ['leaky_re_lu_20[0][0]']         \n",
            " ormalization)                                                                                    \n",
            "                                                                                                  \n",
            " conv2d_33 (Conv2D)             (None, 8, 16, 512)   2097664     ['batch_normalization_43[0][0]'] \n",
            "                                                                                                  \n",
            " leaky_re_lu_21 (LeakyReLU)     (None, 8, 16, 512)   0           ['conv2d_33[0][0]']              \n",
            "                                                                                                  \n",
            " batch_normalization_44 (BatchN  (None, 8, 16, 512)  2048        ['leaky_re_lu_21[0][0]']         \n",
            " ormalization)                                                                                    \n",
            "                                                                                                  \n",
            " D_output (Conv2D)              (None, 8, 16, 1)     8193        ['batch_normalization_44[0][0]'] \n",
            "                                                                                                  \n",
            "==================================================================================================\n",
            "Total params: 2,771,393\n",
            "Trainable params: 0\n",
            "Non-trainable params: 2,771,393\n",
            "__________________________________________________________________________________________________\n"
          ]
        }
      ]
    },
    {
      "cell_type": "code",
      "metadata": {
        "id": "E7RZcd5cQ0Eo",
        "outputId": "b047db05-0c53-48e5-fe5b-f773fecb7006",
        "colab": {
          "base_uri": "https://localhost:8080/"
        }
      },
      "source": [
        "vgg.summary()"
      ],
      "execution_count": 48,
      "outputs": [
        {
          "output_type": "stream",
          "name": "stdout",
          "text": [
            "Model: \"vgg\"\n",
            "_________________________________________________________________\n",
            " Layer (type)                Output Shape              Param #   \n",
            "=================================================================\n",
            " input_2 (InputLayer)        [(None, 128, 256, 3)]     0         \n",
            "                                                                 \n",
            " block1_conv1 (Conv2D)       (None, 128, 256, 64)      1792      \n",
            "                                                                 \n",
            " block1_conv2 (Conv2D)       (None, 128, 256, 64)      36928     \n",
            "                                                                 \n",
            " block1_pool (MaxPooling2D)  (None, 64, 128, 64)       0         \n",
            "                                                                 \n",
            " block2_conv1 (Conv2D)       (None, 64, 128, 128)      73856     \n",
            "                                                                 \n",
            " block2_conv2 (Conv2D)       (None, 64, 128, 128)      147584    \n",
            "                                                                 \n",
            " block2_pool (MaxPooling2D)  (None, 32, 64, 128)       0         \n",
            "                                                                 \n",
            " block3_conv1 (Conv2D)       (None, 32, 64, 256)       295168    \n",
            "                                                                 \n",
            " block3_conv2 (Conv2D)       (None, 32, 64, 256)       590080    \n",
            "                                                                 \n",
            " block3_conv3 (Conv2D)       (None, 32, 64, 256)       590080    \n",
            "                                                                 \n",
            " block3_conv4 (Conv2D)       (None, 32, 64, 256)       590080    \n",
            "                                                                 \n",
            " block3_pool (MaxPooling2D)  (None, 16, 32, 256)       0         \n",
            "                                                                 \n",
            " block4_conv1 (Conv2D)       (None, 16, 32, 512)       1180160   \n",
            "                                                                 \n",
            " block4_conv2 (Conv2D)       (None, 16, 32, 512)       2359808   \n",
            "                                                                 \n",
            " block4_conv3 (Conv2D)       (None, 16, 32, 512)       2359808   \n",
            "                                                                 \n",
            " block4_conv4 (Conv2D)       (None, 16, 32, 512)       2359808   \n",
            "                                                                 \n",
            " block4_pool (MaxPooling2D)  (None, 8, 16, 512)        0         \n",
            "                                                                 \n",
            " block5_conv1 (Conv2D)       (None, 8, 16, 512)        2359808   \n",
            "                                                                 \n",
            " block5_conv2 (Conv2D)       (None, 8, 16, 512)        2359808   \n",
            "                                                                 \n",
            " block5_conv3 (Conv2D)       (None, 8, 16, 512)        2359808   \n",
            "                                                                 \n",
            " block5_conv4 (Conv2D)       (None, 8, 16, 512)        2359808   \n",
            "                                                                 \n",
            "=================================================================\n",
            "Total params: 20,024,384\n",
            "Trainable params: 0\n",
            "Non-trainable params: 20,024,384\n",
            "_________________________________________________________________\n"
          ]
        }
      ]
    },
    {
      "cell_type": "code",
      "metadata": {
        "id": "FRkYvCZ9gZml",
        "outputId": "70128f8a-0d59-4e9a-b704-7e680fa7fa3e",
        "colab": {
          "base_uri": "https://localhost:8080/"
        }
      },
      "source": [
        "train(gen, dis, gan, vgg, imgs, masks, 99, 100) #тренируем модель"
      ],
      "execution_count": 56,
      "outputs": [
        {
          "output_type": "stream",
          "name": "stderr",
          "text": [
            "\r  0%|          | 0/100 [00:00<?, ?it/s]"
          ]
        },
        {
          "output_type": "stream",
          "name": "stdout",
          "text": [
            "4/4 [==============================] - 1s 172ms/step\n",
            "4/4 [==============================] - 0s 103ms/step\n"
          ]
        },
        {
          "output_type": "stream",
          "name": "stderr",
          "text": [
            "Epoch: 1/99, Discriminator loss: 0.6495406031608582, Generator loss:[3.9037039279937744, 1.199299931526184, 0.024991970509290695, 0.020520711317658424]: 100%|██████████| 100/100 [00:05<00:00, 19.58it/s]\n",
            "  0%|          | 0/100 [00:00<?, ?it/s]"
          ]
        },
        {
          "output_type": "stream",
          "name": "stdout",
          "text": [
            "4/4 [==============================] - 0s 149ms/step\n",
            "4/4 [==============================] - 0s 104ms/step\n"
          ]
        },
        {
          "output_type": "stream",
          "name": "stderr",
          "text": [
            "Epoch: 2/99, Discriminator loss: 0.7199539840221405, Generator loss:[3.6222469806671143, 0.980134904384613, 0.024377144873142242, 0.020439743995666504]: 100%|██████████| 100/100 [00:04<00:00, 21.56it/s]\n",
            "  0%|          | 0/100 [00:00<?, ?it/s]"
          ]
        },
        {
          "output_type": "stream",
          "name": "stdout",
          "text": [
            "4/4 [==============================] - 0s 149ms/step\n",
            "4/4 [==============================] - 0s 104ms/step\n"
          ]
        },
        {
          "output_type": "stream",
          "name": "stderr",
          "text": [
            "Epoch: 3/99, Discriminator loss: 0.6112990379333496, Generator loss:[3.57588529586792, 0.9622830152511597, 0.02410714142024517, 0.020288800820708275]: 100%|██████████| 100/100 [00:04<00:00, 22.83it/s]\n",
            "  0%|          | 0/100 [00:00<?, ?it/s]"
          ]
        },
        {
          "output_type": "stream",
          "name": "stdout",
          "text": [
            "4/4 [==============================] - 0s 151ms/step\n",
            "4/4 [==============================] - 0s 104ms/step\n"
          ]
        },
        {
          "output_type": "stream",
          "name": "stderr",
          "text": [
            "Epoch: 4/99, Discriminator loss: 0.6313011646270752, Generator loss:[3.4781429767608643, 0.8694225549697876, 0.024068553000688553, 0.020186491310596466]: 100%|██████████| 100/100 [00:04<00:00, 22.28it/s]\n",
            "  0%|          | 0/100 [00:00<?, ?it/s]"
          ]
        },
        {
          "output_type": "stream",
          "name": "stdout",
          "text": [
            "4/4 [==============================] - 0s 152ms/step\n",
            "4/4 [==============================] - 0s 105ms/step\n"
          ]
        },
        {
          "output_type": "stream",
          "name": "stderr",
          "text": [
            "Epoch: 5/99, Discriminator loss: 0.6039506494998932, Generator loss:[3.5058834552764893, 0.908003032207489, 0.02397298254072666, 0.020058203488588333]: 100%|██████████| 100/100 [00:04<00:00, 20.96it/s]\n",
            "  0%|          | 0/100 [00:00<?, ?it/s]"
          ]
        },
        {
          "output_type": "stream",
          "name": "stdout",
          "text": [
            "4/4 [==============================] - 0s 152ms/step\n",
            "4/4 [==============================] - 0s 104ms/step\n"
          ]
        },
        {
          "output_type": "stream",
          "name": "stderr",
          "text": [
            "Epoch: 6/99, Discriminator loss: 0.5951606631278992, Generator loss:[3.481067419052124, 0.8618613481521606, 0.02418837510049343, 0.02003687620162964]: 100%|██████████| 100/100 [00:04<00:00, 21.01it/s]\n",
            "  0%|          | 0/100 [00:00<?, ?it/s]"
          ]
        },
        {
          "output_type": "stream",
          "name": "stdout",
          "text": [
            "4/4 [==============================] - 0s 151ms/step\n",
            "4/4 [==============================] - 0s 105ms/step\n"
          ]
        },
        {
          "output_type": "stream",
          "name": "stderr",
          "text": [
            "Epoch: 7/99, Discriminator loss: 0.5787728428840637, Generator loss:[3.528346061706543, 0.888018012046814, 0.024405838921666145, 0.01997443288564682]: 100%|██████████| 100/100 [00:04<00:00, 22.25it/s]\n",
            "  0%|          | 0/100 [00:00<?, ?it/s]"
          ]
        },
        {
          "output_type": "stream",
          "name": "stdout",
          "text": [
            "4/4 [==============================] - 0s 152ms/step\n",
            "4/4 [==============================] - 0s 105ms/step\n"
          ]
        },
        {
          "output_type": "stream",
          "name": "stderr",
          "text": [
            "Epoch: 8/99, Discriminator loss: 0.588447242975235, Generator loss:[3.4670803546905518, 0.8724678158760071, 0.023960206657648087, 0.01985918916761875]: 100%|██████████| 100/100 [00:04<00:00, 22.75it/s]\n",
            "  0%|          | 0/100 [00:00<?, ?it/s]"
          ]
        },
        {
          "output_type": "stream",
          "name": "stdout",
          "text": [
            "4/4 [==============================] - 0s 153ms/step\n",
            "4/4 [==============================] - 0s 105ms/step\n"
          ]
        },
        {
          "output_type": "stream",
          "name": "stderr",
          "text": [
            "Epoch: 9/99, Discriminator loss: 0.5787462592124939, Generator loss:[3.4616854190826416, 0.8924201130867004, 0.02372042089700699, 0.019722329452633858]: 100%|██████████| 100/100 [00:04<00:00, 21.29it/s]\n",
            "  0%|          | 0/100 [00:00<?, ?it/s]"
          ]
        },
        {
          "output_type": "stream",
          "name": "stdout",
          "text": [
            "4/4 [==============================] - 0s 154ms/step\n",
            "4/4 [==============================] - 0s 107ms/step\n"
          ]
        },
        {
          "output_type": "stream",
          "name": "stderr",
          "text": [
            "Epoch: 10/99, Discriminator loss: 0.5830864608287811, Generator loss:[3.4501280784606934, 0.8870552182197571, 0.02366369031369686, 0.019670404493808746]: 100%|██████████| 100/100 [00:04<00:00, 22.16it/s]\n",
            "  0%|          | 0/100 [00:00<?, ?it/s]"
          ]
        },
        {
          "output_type": "stream",
          "name": "stdout",
          "text": [
            "4/4 [==============================] - 0s 155ms/step\n",
            "4/4 [==============================] - 0s 106ms/step\n"
          ]
        },
        {
          "output_type": "stream",
          "name": "stderr",
          "text": [
            "Epoch: 11/99, Discriminator loss: 0.5886769592761993, Generator loss:[3.4841971397399902, 0.9284403920173645, 0.023600734770298004, 0.01956832967698574]: 100%|██████████| 100/100 [00:04<00:00, 22.51it/s]\n",
            "  0%|          | 0/100 [00:00<?, ?it/s]"
          ]
        },
        {
          "output_type": "stream",
          "name": "stdout",
          "text": [
            "4/4 [==============================] - 0s 154ms/step\n",
            "4/4 [==============================] - 0s 105ms/step\n"
          ]
        },
        {
          "output_type": "stream",
          "name": "stderr",
          "text": [
            "Epoch: 12/99, Discriminator loss: 0.6139492392539978, Generator loss:[3.461850166320801, 0.9146305918693542, 0.023521466180682182, 0.01950732246041298]: 100%|██████████| 100/100 [00:04<00:00, 22.58it/s]\n",
            "  0%|          | 0/100 [00:00<?, ?it/s]"
          ]
        },
        {
          "output_type": "stream",
          "name": "stdout",
          "text": [
            "4/4 [==============================] - 0s 153ms/step\n",
            "4/4 [==============================] - 0s 106ms/step\n"
          ]
        },
        {
          "output_type": "stream",
          "name": "stderr",
          "text": [
            "Epoch: 13/99, Discriminator loss: 0.6214083433151245, Generator loss:[3.505441188812256, 0.9674270749092102, 0.023442506790161133, 0.019376374781131744]: 100%|██████████| 100/100 [00:04<00:00, 20.91it/s]\n",
            "  0%|          | 0/100 [00:00<?, ?it/s]"
          ]
        },
        {
          "output_type": "stream",
          "name": "stdout",
          "text": [
            "4/4 [==============================] - 0s 155ms/step\n",
            "4/4 [==============================] - 0s 106ms/step\n"
          ]
        },
        {
          "output_type": "stream",
          "name": "stderr",
          "text": [
            "Epoch: 14/99, Discriminator loss: 0.646785169839859, Generator loss:[3.663100004196167, 1.1250314712524414, 0.02344745211303234, 0.019332345575094223]: 100%|██████████| 100/100 [00:04<00:00, 20.76it/s]\n",
            "  0%|          | 0/100 [00:00<?, ?it/s]"
          ]
        },
        {
          "output_type": "stream",
          "name": "stdout",
          "text": [
            "4/4 [==============================] - 0s 155ms/step\n",
            "4/4 [==============================] - 0s 106ms/step\n"
          ]
        },
        {
          "output_type": "stream",
          "name": "stderr",
          "text": [
            "Epoch: 15/99, Discriminator loss: 0.671120285987854, Generator loss:[3.5143723487854004, 0.9583123922348022, 0.02362973242998123, 0.019308628514409065]: 100%|██████████| 100/100 [00:04<00:00, 22.42it/s]\n",
            "  0%|          | 0/100 [00:00<?, ?it/s]"
          ]
        },
        {
          "output_type": "stream",
          "name": "stdout",
          "text": [
            "4/4 [==============================] - 0s 153ms/step\n",
            "4/4 [==============================] - 0s 105ms/step\n"
          ]
        },
        {
          "output_type": "stream",
          "name": "stderr",
          "text": [
            "Epoch: 16/99, Discriminator loss: 0.6047716736793518, Generator loss:[3.4197874069213867, 0.8438678979873657, 0.023848235607147217, 0.01910957135260105]: 100%|██████████| 100/100 [00:04<00:00, 20.75it/s]\n",
            "  0%|          | 0/100 [00:00<?, ?it/s]"
          ]
        },
        {
          "output_type": "stream",
          "name": "stdout",
          "text": [
            "4/4 [==============================] - 0s 154ms/step\n",
            "4/4 [==============================] - 0s 106ms/step\n"
          ]
        },
        {
          "output_type": "stream",
          "name": "stderr",
          "text": [
            "Epoch: 17/99, Discriminator loss: 0.5976806282997131, Generator loss:[3.499321699142456, 0.9600598216056824, 0.023482978343963623, 0.019096363335847855]: 100%|██████████| 100/100 [00:04<00:00, 21.78it/s]\n",
            "  0%|          | 0/100 [00:00<?, ?it/s]"
          ]
        },
        {
          "output_type": "stream",
          "name": "stdout",
          "text": [
            "4/4 [==============================] - 0s 156ms/step\n",
            "4/4 [==============================] - 0s 108ms/step\n"
          ]
        },
        {
          "output_type": "stream",
          "name": "stderr",
          "text": [
            "Epoch: 18/99, Discriminator loss: 0.6136932373046875, Generator loss:[3.3909385204315186, 0.8665754795074463, 0.02334212139248848, 0.019015071913599968]: 100%|██████████| 100/100 [00:04<00:00, 21.08it/s]\n",
            "  0%|          | 0/100 [00:00<?, ?it/s]"
          ]
        },
        {
          "output_type": "stream",
          "name": "stdout",
          "text": [
            "4/4 [==============================] - 0s 158ms/step\n",
            "4/4 [==============================] - 0s 108ms/step\n"
          ]
        },
        {
          "output_type": "stream",
          "name": "stderr",
          "text": [
            "Epoch: 19/99, Discriminator loss: 0.5960163176059723, Generator loss:[3.4016165733337402, 0.8968105912208557, 0.02316223457455635, 0.018858276307582855]: 100%|██████████| 100/100 [00:04<00:00, 22.15it/s]\n",
            "  0%|          | 0/100 [00:00<?, ?it/s]"
          ]
        },
        {
          "output_type": "stream",
          "name": "stdout",
          "text": [
            "4/4 [==============================] - 0s 155ms/step\n",
            "4/4 [==============================] - 0s 107ms/step\n"
          ]
        },
        {
          "output_type": "stream",
          "name": "stderr",
          "text": [
            "Epoch: 20/99, Discriminator loss: 0.5793469846248627, Generator loss:[3.3841848373413086, 0.8914784789085388, 0.02304837852716446, 0.018786828964948654]: 100%|██████████| 100/100 [00:04<00:00, 20.64it/s]\n",
            "  0%|          | 0/100 [00:00<?, ?it/s]"
          ]
        },
        {
          "output_type": "stream",
          "name": "stdout",
          "text": [
            "4/4 [==============================] - 0s 155ms/step\n",
            "4/4 [==============================] - 0s 107ms/step\n"
          ]
        },
        {
          "output_type": "stream",
          "name": "stderr",
          "text": [
            "Epoch: 21/99, Discriminator loss: 0.5780526399612427, Generator loss:[3.380194902420044, 0.894920289516449, 0.02297920547425747, 0.01873541623353958]: 100%|██████████| 100/100 [00:04<00:00, 21.71it/s]\n",
            "  0%|          | 0/100 [00:00<?, ?it/s]"
          ]
        },
        {
          "output_type": "stream",
          "name": "stdout",
          "text": [
            "4/4 [==============================] - 0s 157ms/step\n",
            "4/4 [==============================] - 0s 108ms/step\n"
          ]
        },
        {
          "output_type": "stream",
          "name": "stderr",
          "text": [
            "Epoch: 22/99, Discriminator loss: 0.576876699924469, Generator loss:[3.372501850128174, 0.8878915309906006, 0.02297935076057911, 0.01866752654314041]: 100%|██████████| 100/100 [00:04<00:00, 20.70it/s]\n",
            "  0%|          | 0/100 [00:00<?, ?it/s]"
          ]
        },
        {
          "output_type": "stream",
          "name": "stdout",
          "text": [
            "4/4 [==============================] - 0s 157ms/step\n",
            "4/4 [==============================] - 0s 107ms/step\n"
          ]
        },
        {
          "output_type": "stream",
          "name": "stderr",
          "text": [
            "Epoch: 23/99, Discriminator loss: 0.5811696350574493, Generator loss:[3.425175666809082, 0.9221435785293579, 0.0231678057461977, 0.01862517185509205]: 100%|██████████| 100/100 [00:04<00:00, 22.07it/s]\n",
            "  0%|          | 0/100 [00:00<?, ?it/s]"
          ]
        },
        {
          "output_type": "stream",
          "name": "stdout",
          "text": [
            "4/4 [==============================] - 0s 156ms/step\n",
            "4/4 [==============================] - 0s 108ms/step\n"
          ]
        },
        {
          "output_type": "stream",
          "name": "stderr",
          "text": [
            "Epoch: 24/99, Discriminator loss: 0.573024183511734, Generator loss:[3.474525213241577, 0.9162742495536804, 0.02371617965400219, 0.01866328716278076]: 100%|██████████| 100/100 [00:04<00:00, 21.96it/s]\n",
            "  0%|          | 0/100 [00:00<?, ?it/s]"
          ]
        },
        {
          "output_type": "stream",
          "name": "stdout",
          "text": [
            "4/4 [==============================] - 0s 157ms/step\n",
            "4/4 [==============================] - 0s 107ms/step\n"
          ]
        },
        {
          "output_type": "stream",
          "name": "stderr",
          "text": [
            "Epoch: 25/99, Discriminator loss: 0.6053905785083771, Generator loss:[3.431382656097412, 0.9338531494140625, 0.02312028408050537, 0.018550105392932892]: 100%|██████████| 100/100 [00:04<00:00, 20.86it/s]\n",
            "  0%|          | 0/100 [00:00<?, ?it/s]"
          ]
        },
        {
          "output_type": "stream",
          "name": "stdout",
          "text": [
            "4/4 [==============================] - 0s 156ms/step\n",
            "4/4 [==============================] - 0s 108ms/step\n"
          ]
        },
        {
          "output_type": "stream",
          "name": "stderr",
          "text": [
            "Epoch: 26/99, Discriminator loss: 0.6360315978527069, Generator loss:[3.3947184085845947, 0.9276171922683716, 0.022829407826066017, 0.018416045233607292]: 100%|██████████| 100/100 [00:04<00:00, 21.56it/s]\n",
            "  0%|          | 0/100 [00:00<?, ?it/s]"
          ]
        },
        {
          "output_type": "stream",
          "name": "stdout",
          "text": [
            "4/4 [==============================] - 1s 159ms/step\n",
            "4/4 [==============================] - 0s 108ms/step\n"
          ]
        },
        {
          "output_type": "stream",
          "name": "stderr",
          "text": [
            "Epoch: 27/99, Discriminator loss: 0.5974400639533997, Generator loss:[3.4223523139953613, 0.9597740769386292, 0.0227937214076519, 0.018320616334676743]: 100%|██████████| 100/100 [00:04<00:00, 21.68it/s]\n",
            "  0%|          | 0/100 [00:00<?, ?it/s]"
          ]
        },
        {
          "output_type": "stream",
          "name": "stdout",
          "text": [
            "4/4 [==============================] - 1s 159ms/step\n",
            "4/4 [==============================] - 0s 108ms/step\n"
          ]
        },
        {
          "output_type": "stream",
          "name": "stderr",
          "text": [
            "Epoch: 28/99, Discriminator loss: 0.6365247070789337, Generator loss:[3.405379295349121, 0.9233845472335815, 0.022992469370365143, 0.018274787813425064]: 100%|██████████| 100/100 [00:04<00:00, 21.97it/s]\n",
            "  0%|          | 0/100 [00:00<?, ?it/s]"
          ]
        },
        {
          "output_type": "stream",
          "name": "stdout",
          "text": [
            "4/4 [==============================] - 0s 157ms/step\n",
            "4/4 [==============================] - 0s 108ms/step\n"
          ]
        },
        {
          "output_type": "stream",
          "name": "stderr",
          "text": [
            "Epoch: 29/99, Discriminator loss: 0.5751127600669861, Generator loss:[3.436642646789551, 0.9172375202178955, 0.023381022736430168, 0.018130287528038025]: 100%|██████████| 100/100 [00:07<00:00, 13.83it/s]\n",
            "  0%|          | 0/100 [00:00<?, ?it/s]"
          ]
        },
        {
          "output_type": "stream",
          "name": "stdout",
          "text": [
            "4/4 [==============================] - 1s 185ms/step\n",
            "4/4 [==============================] - 0s 108ms/step\n"
          ]
        },
        {
          "output_type": "stream",
          "name": "stderr",
          "text": [
            "Epoch: 30/99, Discriminator loss: 0.5847109854221344, Generator loss:[3.301435947418213, 0.8690425157546997, 0.02252018265426159, 0.01803751476109028]: 100%|██████████| 100/100 [00:05<00:00, 19.04it/s]\n",
            "  0%|          | 0/100 [00:00<?, ?it/s]"
          ]
        },
        {
          "output_type": "stream",
          "name": "stdout",
          "text": [
            "4/4 [==============================] - 1s 159ms/step\n",
            "4/4 [==============================] - 0s 112ms/step\n"
          ]
        },
        {
          "output_type": "stream",
          "name": "stderr",
          "text": [
            "Epoch: 31/99, Discriminator loss: 0.5755462348461151, Generator loss:[3.373173713684082, 0.9465954303741455, 0.022468464449048042, 0.017973193898797035]: 100%|██████████| 100/100 [00:05<00:00, 19.79it/s]\n",
            "  0%|          | 0/100 [00:00<?, ?it/s]"
          ]
        },
        {
          "output_type": "stream",
          "name": "stdout",
          "text": [
            "4/4 [==============================] - 1s 157ms/step\n",
            "4/4 [==============================] - 0s 109ms/step\n"
          ]
        },
        {
          "output_type": "stream",
          "name": "stderr",
          "text": [
            "Epoch: 32/99, Discriminator loss: 0.5941801369190216, Generator loss:[3.3250839710235596, 0.8948126435279846, 0.02251657284796238, 0.01786140725016594]: 100%|██████████| 100/100 [00:04<00:00, 20.45it/s]\n",
            "  0%|          | 0/100 [00:00<?, ?it/s]"
          ]
        },
        {
          "output_type": "stream",
          "name": "stdout",
          "text": [
            "4/4 [==============================] - 1s 159ms/step\n",
            "4/4 [==============================] - 0s 109ms/step\n"
          ]
        },
        {
          "output_type": "stream",
          "name": "stderr",
          "text": [
            "Epoch: 33/99, Discriminator loss: 0.6247782707214355, Generator loss:[3.4796032905578613, 1.031266689300537, 0.022698383778333664, 0.017849832773208618]: 100%|██████████| 100/100 [00:04<00:00, 21.28it/s]\n",
            "  0%|          | 0/100 [00:00<?, ?it/s]"
          ]
        },
        {
          "output_type": "stream",
          "name": "stdout",
          "text": [
            "4/4 [==============================] - 1s 158ms/step\n",
            "4/4 [==============================] - 0s 109ms/step\n"
          ]
        },
        {
          "output_type": "stream",
          "name": "stderr",
          "text": [
            "Epoch: 34/99, Discriminator loss: 0.6123135387897491, Generator loss:[3.3882052898406982, 0.9142128229141235, 0.022953493520617485, 0.017864305526018143]: 100%|██████████| 100/100 [00:04<00:00, 20.38it/s]\n",
            "  0%|          | 0/100 [00:00<?, ?it/s]"
          ]
        },
        {
          "output_type": "stream",
          "name": "stdout",
          "text": [
            "4/4 [==============================] - 1s 161ms/step\n",
            "4/4 [==============================] - 0s 109ms/step\n"
          ]
        },
        {
          "output_type": "stream",
          "name": "stderr",
          "text": [
            "Epoch: 35/99, Discriminator loss: 0.608613133430481, Generator loss:[3.3117122650146484, 0.8886113166809082, 0.022458529099822044, 0.01772480458021164]: 100%|██████████| 100/100 [00:04<00:00, 21.30it/s]\n",
            "  0%|          | 0/100 [00:00<?, ?it/s]"
          ]
        },
        {
          "output_type": "stream",
          "name": "stdout",
          "text": [
            "4/4 [==============================] - 1s 160ms/step\n",
            "4/4 [==============================] - 0s 110ms/step\n"
          ]
        },
        {
          "output_type": "stream",
          "name": "stderr",
          "text": [
            "Epoch: 36/99, Discriminator loss: 0.5747496485710144, Generator loss:[3.320413827896118, 0.9141542315483093, 0.02230064384639263, 0.017619505524635315]: 100%|██████████| 100/100 [00:04<00:00, 21.19it/s]\n",
            "  0%|          | 0/100 [00:00<?, ?it/s]"
          ]
        },
        {
          "output_type": "stream",
          "name": "stdout",
          "text": [
            "4/4 [==============================] - 1s 160ms/step\n",
            "4/4 [==============================] - 0s 111ms/step\n"
          ]
        },
        {
          "output_type": "stream",
          "name": "stderr",
          "text": [
            "Epoch: 37/99, Discriminator loss: 0.558682918548584, Generator loss:[3.3354408740997314, 0.9223753213882446, 0.022374998778104782, 0.017556549981236458]: 100%|██████████| 100/100 [00:04<00:00, 21.35it/s]\n",
            "  0%|          | 0/100 [00:00<?, ?it/s]"
          ]
        },
        {
          "output_type": "stream",
          "name": "stdout",
          "text": [
            "4/4 [==============================] - 1s 161ms/step\n",
            "4/4 [==============================] - 0s 109ms/step\n"
          ]
        },
        {
          "output_type": "stream",
          "name": "stderr",
          "text": [
            "Epoch: 38/99, Discriminator loss: 0.5737349390983582, Generator loss:[3.2928175926208496, 0.8891478776931763, 0.022288132458925247, 0.01748569682240486]: 100%|██████████| 100/100 [00:04<00:00, 21.39it/s]\n",
            "  0%|          | 0/100 [00:00<?, ?it/s]"
          ]
        },
        {
          "output_type": "stream",
          "name": "stdout",
          "text": [
            "4/4 [==============================] - 1s 160ms/step\n",
            "4/4 [==============================] - 0s 110ms/step\n"
          ]
        },
        {
          "output_type": "stream",
          "name": "stderr",
          "text": [
            "Epoch: 39/99, Discriminator loss: 0.5534271597862244, Generator loss:[3.321528673171997, 0.9266788959503174, 0.02221832238137722, 0.017301755025982857]: 100%|██████████| 100/100 [00:04<00:00, 21.20it/s]\n",
            "  0%|          | 0/100 [00:00<?, ?it/s]"
          ]
        },
        {
          "output_type": "stream",
          "name": "stdout",
          "text": [
            "4/4 [==============================] - 1s 159ms/step\n",
            "4/4 [==============================] - 0s 109ms/step\n"
          ]
        },
        {
          "output_type": "stream",
          "name": "stderr",
          "text": [
            "Epoch: 40/99, Discriminator loss: 0.5673394501209259, Generator loss:[3.2604544162750244, 0.8870222568511963, 0.022007925435900688, 0.01726396381855011]: 100%|██████████| 100/100 [00:04<00:00, 21.75it/s]\n",
            "  0%|          | 0/100 [00:00<?, ?it/s]"
          ]
        },
        {
          "output_type": "stream",
          "name": "stdout",
          "text": [
            "4/4 [==============================] - 1s 159ms/step\n",
            "4/4 [==============================] - 0s 108ms/step\n"
          ]
        },
        {
          "output_type": "stream",
          "name": "stderr",
          "text": [
            "Epoch: 41/99, Discriminator loss: 0.6064433455467224, Generator loss:[3.346763849258423, 0.9844740033149719, 0.02191217429935932, 0.017107242718338966]: 100%|██████████| 100/100 [00:05<00:00, 19.47it/s]\n",
            "  0%|          | 0/100 [00:00<?, ?it/s]"
          ]
        },
        {
          "output_type": "stream",
          "name": "stdout",
          "text": [
            "4/4 [==============================] - 1s 160ms/step\n",
            "4/4 [==============================] - 0s 109ms/step\n"
          ]
        },
        {
          "output_type": "stream",
          "name": "stderr",
          "text": [
            "Epoch: 42/99, Discriminator loss: 0.6479901969432831, Generator loss:[3.381100654602051, 1.0214163064956665, 0.02188534289598465, 0.017115045338869095]: 100%|██████████| 100/100 [00:07<00:00, 13.19it/s]\n",
            "  0%|          | 0/100 [00:00<?, ?it/s]"
          ]
        },
        {
          "output_type": "stream",
          "name": "stdout",
          "text": [
            "4/4 [==============================] - 1s 179ms/step\n",
            "4/4 [==============================] - 0s 109ms/step\n"
          ]
        },
        {
          "output_type": "stream",
          "name": "stderr",
          "text": [
            "Epoch: 43/99, Discriminator loss: 0.7482810318470001, Generator loss:[3.551387071609497, 1.1875089406967163, 0.021945348009467125, 0.016934312880039215]: 100%|██████████| 100/100 [00:04<00:00, 21.70it/s]\n",
            "  0%|          | 0/100 [00:00<?, ?it/s]"
          ]
        },
        {
          "output_type": "stream",
          "name": "stdout",
          "text": [
            "4/4 [==============================] - 0s 157ms/step\n",
            "4/4 [==============================] - 0s 110ms/step\n"
          ]
        },
        {
          "output_type": "stream",
          "name": "stderr",
          "text": [
            "Epoch: 44/99, Discriminator loss: 0.6793571412563324, Generator loss:[3.3352279663085938, 0.9782480597496033, 0.02187792956829071, 0.016918687149882317]: 100%|██████████| 100/100 [00:04<00:00, 21.51it/s]\n",
            "  0%|          | 0/100 [00:00<?, ?it/s]"
          ]
        },
        {
          "output_type": "stream",
          "name": "stdout",
          "text": [
            "4/4 [==============================] - 1s 158ms/step\n",
            "4/4 [==============================] - 0s 108ms/step\n"
          ]
        },
        {
          "output_type": "stream",
          "name": "stderr",
          "text": [
            "Epoch: 45/99, Discriminator loss: 0.6315944790840149, Generator loss:[3.3184854984283447, 0.9755668640136719, 0.021742723882198334, 0.016864633187651634]: 100%|██████████| 100/100 [00:04<00:00, 20.83it/s]\n",
            "  0%|          | 0/100 [00:00<?, ?it/s]"
          ]
        },
        {
          "output_type": "stream",
          "name": "stdout",
          "text": [
            "4/4 [==============================] - 1s 158ms/step\n",
            "4/4 [==============================] - 0s 108ms/step\n"
          ]
        },
        {
          "output_type": "stream",
          "name": "stderr",
          "text": [
            "Epoch: 46/99, Discriminator loss: 0.5921282470226288, Generator loss:[3.2574715614318848, 0.9029838442802429, 0.02185608074069023, 0.016887960955500603]: 100%|██████████| 100/100 [00:04<00:00, 21.52it/s]\n",
            "  0%|          | 0/100 [00:00<?, ?it/s]"
          ]
        },
        {
          "output_type": "stream",
          "name": "stdout",
          "text": [
            "4/4 [==============================] - 1s 159ms/step\n",
            "4/4 [==============================] - 0s 111ms/step\n"
          ]
        },
        {
          "output_type": "stream",
          "name": "stderr",
          "text": [
            "Epoch: 47/99, Discriminator loss: 0.57164466381073, Generator loss:[3.250201463699341, 0.8822268843650818, 0.022002115845680237, 0.016776299104094505]: 100%|██████████| 100/100 [00:04<00:00, 21.51it/s]\n",
            "  0%|          | 0/100 [00:00<?, ?it/s]"
          ]
        },
        {
          "output_type": "stream",
          "name": "stdout",
          "text": [
            "4/4 [==============================] - 1s 158ms/step\n",
            "4/4 [==============================] - 0s 110ms/step\n"
          ]
        },
        {
          "output_type": "stream",
          "name": "stderr",
          "text": [
            "Epoch: 48/99, Discriminator loss: 0.5492585301399231, Generator loss:[3.2959423065185547, 0.877297580242157, 0.022504696622490883, 0.016817506402730942]: 100%|██████████| 100/100 [00:04<00:00, 21.88it/s]\n",
            "  0%|          | 0/100 [00:00<?, ?it/s]"
          ]
        },
        {
          "output_type": "stream",
          "name": "stdout",
          "text": [
            "4/4 [==============================] - 1s 159ms/step\n",
            "4/4 [==============================] - 0s 109ms/step\n"
          ]
        },
        {
          "output_type": "stream",
          "name": "stderr",
          "text": [
            "Epoch: 49/99, Discriminator loss: 0.5486510992050171, Generator loss:[3.225273847579956, 0.89056795835495, 0.021686725318431854, 0.016603320837020874]: 100%|██████████| 100/100 [00:04<00:00, 21.74it/s]\n",
            "  0%|          | 0/100 [00:00<?, ?it/s]"
          ]
        },
        {
          "output_type": "stream",
          "name": "stdout",
          "text": [
            "4/4 [==============================] - 1s 161ms/step\n",
            "4/4 [==============================] - 0s 109ms/step\n"
          ]
        },
        {
          "output_type": "stream",
          "name": "stderr",
          "text": [
            "Epoch: 50/99, Discriminator loss: 0.553782045841217, Generator loss:[3.2150025367736816, 0.8938469886779785, 0.021556291729211807, 0.016552608460187912]: 100%|██████████| 100/100 [00:04<00:00, 20.59it/s]\n",
            "  0%|          | 0/100 [00:00<?, ?it/s]"
          ]
        },
        {
          "output_type": "stream",
          "name": "stdout",
          "text": [
            "4/4 [==============================] - 1s 160ms/step\n",
            "4/4 [==============================] - 0s 110ms/step\n"
          ]
        },
        {
          "output_type": "stream",
          "name": "stderr",
          "text": [
            "Epoch: 51/99, Discriminator loss: 0.5698908567428589, Generator loss:[3.246426582336426, 0.9306741952896118, 0.021505407989025116, 0.016521157696843147]: 100%|██████████| 100/100 [00:04<00:00, 20.68it/s]\n",
            "  0%|          | 0/100 [00:00<?, ?it/s]"
          ]
        },
        {
          "output_type": "stream",
          "name": "stdout",
          "text": [
            "4/4 [==============================] - 1s 160ms/step\n",
            "4/4 [==============================] - 0s 110ms/step\n"
          ]
        },
        {
          "output_type": "stream",
          "name": "stderr",
          "text": [
            "Epoch: 52/99, Discriminator loss: 0.6097011864185333, Generator loss:[3.1925458908081055, 0.8941417932510376, 0.021358057856559753, 0.016259806230664253]: 100%|██████████| 100/100 [00:04<00:00, 20.51it/s]\n",
            "  0%|          | 0/100 [00:00<?, ?it/s]"
          ]
        },
        {
          "output_type": "stream",
          "name": "stdout",
          "text": [
            "4/4 [==============================] - 1s 160ms/step\n",
            "4/4 [==============================] - 0s 110ms/step\n"
          ]
        },
        {
          "output_type": "stream",
          "name": "stderr",
          "text": [
            "Epoch: 53/99, Discriminator loss: 0.6099444329738617, Generator loss:[3.233656883239746, 0.9330493211746216, 0.0213836170732975, 0.016224564984440804]: 100%|██████████| 100/100 [00:04<00:00, 21.36it/s]\n",
            "  0%|          | 0/100 [00:00<?, ?it/s]"
          ]
        },
        {
          "output_type": "stream",
          "name": "stdout",
          "text": [
            "4/4 [==============================] - 1s 160ms/step\n",
            "4/4 [==============================] - 0s 110ms/step\n"
          ]
        },
        {
          "output_type": "stream",
          "name": "stderr",
          "text": [
            "Epoch: 54/99, Discriminator loss: 0.5596303939819336, Generator loss:[3.168280839920044, 0.8840345740318298, 0.02122776210308075, 0.01614701747894287]: 100%|██████████| 100/100 [00:04<00:00, 20.93it/s]\n",
            "  0%|          | 0/100 [00:00<?, ?it/s]"
          ]
        },
        {
          "output_type": "stream",
          "name": "stdout",
          "text": [
            "4/4 [==============================] - 1s 160ms/step\n",
            "4/4 [==============================] - 0s 110ms/step\n"
          ]
        },
        {
          "output_type": "stream",
          "name": "stderr",
          "text": [
            "Epoch: 55/99, Discriminator loss: 0.5578780174255371, Generator loss:[3.174867630004883, 0.8996521234512329, 0.02114400453865528, 0.01608152687549591]: 100%|██████████| 100/100 [00:04<00:00, 20.29it/s]\n",
            "  0%|          | 0/100 [00:00<?, ?it/s]"
          ]
        },
        {
          "output_type": "stream",
          "name": "stdout",
          "text": [
            "4/4 [==============================] - 1s 160ms/step\n",
            "4/4 [==============================] - 0s 111ms/step\n"
          ]
        },
        {
          "output_type": "stream",
          "name": "stderr",
          "text": [
            "Epoch: 56/99, Discriminator loss: 0.5464634597301483, Generator loss:[3.1833510398864746, 0.9173648953437805, 0.021062495186924934, 0.01597365364432335]: 100%|██████████| 100/100 [00:04<00:00, 20.52it/s]\n",
            "  0%|          | 0/100 [00:00<?, ?it/s]"
          ]
        },
        {
          "output_type": "stream",
          "name": "stdout",
          "text": [
            "4/4 [==============================] - 1s 160ms/step\n",
            "4/4 [==============================] - 0s 109ms/step\n"
          ]
        },
        {
          "output_type": "stream",
          "name": "stderr",
          "text": [
            "Epoch: 57/99, Discriminator loss: 0.5411001741886139, Generator loss:[3.1758594512939453, 0.908202052116394, 0.02107972651720047, 0.015968453139066696]: 100%|██████████| 100/100 [00:04<00:00, 21.68it/s]\n",
            "  0%|          | 0/100 [00:00<?, ?it/s]"
          ]
        },
        {
          "output_type": "stream",
          "name": "stdout",
          "text": [
            "4/4 [==============================] - 1s 162ms/step\n",
            "4/4 [==============================] - 0s 110ms/step\n"
          ]
        },
        {
          "output_type": "stream",
          "name": "stderr",
          "text": [
            "Epoch: 58/99, Discriminator loss: 0.5402773022651672, Generator loss:[3.162071943283081, 0.8940263986587524, 0.021095113828778267, 0.015853406861424446]: 100%|██████████| 100/100 [00:04<00:00, 21.23it/s]\n",
            "  0%|          | 0/100 [00:00<?, ?it/s]"
          ]
        },
        {
          "output_type": "stream",
          "name": "stdout",
          "text": [
            "4/4 [==============================] - 1s 161ms/step\n",
            "4/4 [==============================] - 0s 109ms/step\n"
          ]
        },
        {
          "output_type": "stream",
          "name": "stderr",
          "text": [
            "Epoch: 59/99, Discriminator loss: 0.540169894695282, Generator loss:[3.237788200378418, 0.9322468638420105, 0.021462982520461082, 0.015924302861094475]: 100%|██████████| 100/100 [00:04<00:00, 20.07it/s]\n",
            "  0%|          | 0/100 [00:00<?, ?it/s]"
          ]
        },
        {
          "output_type": "stream",
          "name": "stdout",
          "text": [
            "4/4 [==============================] - 1s 161ms/step\n",
            "4/4 [==============================] - 0s 109ms/step\n"
          ]
        },
        {
          "output_type": "stream",
          "name": "stderr",
          "text": [
            "Epoch: 60/99, Discriminator loss: 0.5458380877971649, Generator loss:[3.3134098052978516, 0.9516050815582275, 0.022026993334293365, 0.01591053046286106]: 100%|██████████| 100/100 [00:04<00:00, 21.45it/s]\n",
            "  0%|          | 0/100 [00:00<?, ?it/s]"
          ]
        },
        {
          "output_type": "stream",
          "name": "stdout",
          "text": [
            "4/4 [==============================] - 1s 163ms/step\n",
            "4/4 [==============================] - 0s 109ms/step\n"
          ]
        },
        {
          "output_type": "stream",
          "name": "stderr",
          "text": [
            "Epoch: 61/99, Discriminator loss: 0.5637040734291077, Generator loss:[3.2171337604522705, 0.9371501803398132, 0.02121780812740326, 0.015820255503058434]: 100%|██████████| 100/100 [00:04<00:00, 21.34it/s]\n",
            "  0%|          | 0/100 [00:00<?, ?it/s]"
          ]
        },
        {
          "output_type": "stream",
          "name": "stdout",
          "text": [
            "4/4 [==============================] - 1s 161ms/step\n",
            "4/4 [==============================] - 0s 111ms/step\n"
          ]
        },
        {
          "output_type": "stream",
          "name": "stderr",
          "text": [
            "Epoch: 62/99, Discriminator loss: 0.603185772895813, Generator loss:[3.3055906295776367, 1.0488569736480713, 0.020996926352381706, 0.015704117715358734]: 100%|██████████| 100/100 [00:04<00:00, 20.48it/s]\n",
            "  0%|          | 0/100 [00:00<?, ?it/s]"
          ]
        },
        {
          "output_type": "stream",
          "name": "stdout",
          "text": [
            "4/4 [==============================] - 1s 161ms/step\n",
            "4/4 [==============================] - 0s 110ms/step\n"
          ]
        },
        {
          "output_type": "stream",
          "name": "stderr",
          "text": [
            "Epoch: 63/99, Discriminator loss: 0.6267324090003967, Generator loss:[3.126499891281128, 0.8777179718017578, 0.020930126309394836, 0.01557694561779499]: 100%|██████████| 100/100 [00:04<00:00, 20.17it/s]\n",
            "  0%|          | 0/100 [00:00<?, ?it/s]"
          ]
        },
        {
          "output_type": "stream",
          "name": "stdout",
          "text": [
            "4/4 [==============================] - 1s 162ms/step\n",
            "4/4 [==============================] - 0s 110ms/step\n"
          ]
        },
        {
          "output_type": "stream",
          "name": "stderr",
          "text": [
            "Epoch: 64/99, Discriminator loss: 0.5726334452629089, Generator loss:[3.127497673034668, 0.8880679607391357, 0.02084527537226677, 0.015490226447582245]: 100%|██████████| 100/100 [00:04<00:00, 20.54it/s]\n",
            "  0%|          | 0/100 [00:00<?, ?it/s]"
          ]
        },
        {
          "output_type": "stream",
          "name": "stdout",
          "text": [
            "4/4 [==============================] - 1s 160ms/step\n",
            "4/4 [==============================] - 0s 111ms/step\n"
          ]
        },
        {
          "output_type": "stream",
          "name": "stderr",
          "text": [
            "Epoch: 65/99, Discriminator loss: 0.5617761015892029, Generator loss:[3.245333194732666, 1.001662015914917, 0.020894477143883705, 0.015422348864376545]: 100%|██████████| 100/100 [00:04<00:00, 20.52it/s]\n",
            "  0%|          | 0/100 [00:00<?, ?it/s]"
          ]
        },
        {
          "output_type": "stream",
          "name": "stdout",
          "text": [
            "4/4 [==============================] - 1s 159ms/step\n",
            "4/4 [==============================] - 0s 111ms/step\n"
          ]
        },
        {
          "output_type": "stream",
          "name": "stderr",
          "text": [
            "Epoch: 66/99, Discriminator loss: 0.5595290064811707, Generator loss:[3.156704902648926, 0.8936783075332642, 0.021074892953038216, 0.015553724020719528]: 100%|██████████| 100/100 [00:05<00:00, 18.65it/s]\n",
            "  0%|          | 0/100 [00:00<?, ?it/s]"
          ]
        },
        {
          "output_type": "stream",
          "name": "stdout",
          "text": [
            "4/4 [==============================] - 1s 160ms/step\n",
            "4/4 [==============================] - 0s 110ms/step\n"
          ]
        },
        {
          "output_type": "stream",
          "name": "stderr",
          "text": [
            "Epoch: 67/99, Discriminator loss: 0.5160408169031143, Generator loss:[3.166781425476074, 0.8902398943901062, 0.021231256425380707, 0.015341587364673615]: 100%|██████████| 100/100 [00:04<00:00, 20.67it/s]\n",
            "  0%|          | 0/100 [00:00<?, ?it/s]"
          ]
        },
        {
          "output_type": "stream",
          "name": "stdout",
          "text": [
            "4/4 [==============================] - 1s 161ms/step\n",
            "4/4 [==============================] - 0s 111ms/step\n"
          ]
        },
        {
          "output_type": "stream",
          "name": "stderr",
          "text": [
            "Epoch: 68/99, Discriminator loss: 0.5216014385223389, Generator loss:[3.1169843673706055, 0.9042791724205017, 0.020605409517884254, 0.015216432511806488]: 100%|██████████| 100/100 [00:04<00:00, 20.30it/s]\n",
            "  0%|          | 0/100 [00:00<?, ?it/s]"
          ]
        },
        {
          "output_type": "stream",
          "name": "stdout",
          "text": [
            "4/4 [==============================] - 1s 160ms/step\n",
            "4/4 [==============================] - 0s 110ms/step\n"
          ]
        },
        {
          "output_type": "stream",
          "name": "stderr",
          "text": [
            "Epoch: 69/99, Discriminator loss: 0.5033605545759201, Generator loss:[3.098836898803711, 0.8830509185791016, 0.020638957619667053, 0.015189018100500107]: 100%|██████████| 100/100 [00:04<00:00, 21.28it/s]\n",
            "  0%|          | 0/100 [00:00<?, ?it/s]"
          ]
        },
        {
          "output_type": "stream",
          "name": "stdout",
          "text": [
            "4/4 [==============================] - 1s 159ms/step\n",
            "4/4 [==============================] - 0s 109ms/step\n"
          ]
        },
        {
          "output_type": "stream",
          "name": "stderr",
          "text": [
            "Epoch: 70/99, Discriminator loss: 0.5120110958814621, Generator loss:[3.1223878860473633, 0.9055128693580627, 0.020646367222070694, 0.015223870053887367]: 100%|██████████| 100/100 [00:04<00:00, 21.68it/s]\n",
            "  0%|          | 0/100 [00:00<?, ?it/s]"
          ]
        },
        {
          "output_type": "stream",
          "name": "stdout",
          "text": [
            "4/4 [==============================] - 1s 161ms/step\n",
            "4/4 [==============================] - 0s 109ms/step\n"
          ]
        },
        {
          "output_type": "stream",
          "name": "stderr",
          "text": [
            "Epoch: 71/99, Discriminator loss: 0.50131955742836, Generator loss:[3.144912004470825, 0.8981262445449829, 0.020949484780430794, 0.015183704905211926]: 100%|██████████| 100/100 [00:04<00:00, 21.65it/s]\n",
            "  0%|          | 0/100 [00:00<?, ?it/s]"
          ]
        },
        {
          "output_type": "stream",
          "name": "stdout",
          "text": [
            "4/4 [==============================] - 1s 160ms/step\n",
            "4/4 [==============================] - 0s 111ms/step\n"
          ]
        },
        {
          "output_type": "stream",
          "name": "stderr",
          "text": [
            "Epoch: 72/99, Discriminator loss: 0.5265679061412811, Generator loss:[3.1462061405181885, 0.9271637797355652, 0.020676271989941597, 0.015141499228775501]: 100%|██████████| 100/100 [00:06<00:00, 14.29it/s]\n",
            "  0%|          | 0/100 [00:00<?, ?it/s]"
          ]
        },
        {
          "output_type": "stream",
          "name": "stdout",
          "text": [
            "4/4 [==============================] - 1s 180ms/step\n",
            "4/4 [==============================] - 0s 110ms/step\n"
          ]
        },
        {
          "output_type": "stream",
          "name": "stderr",
          "text": [
            "Epoch: 73/99, Discriminator loss: 0.5650302171707153, Generator loss:[3.1660337448120117, 0.9517227411270142, 0.02064516581594944, 0.014979450963437557]: 100%|██████████| 100/100 [00:04<00:00, 21.24it/s]\n",
            "  0%|          | 0/100 [00:00<?, ?it/s]"
          ]
        },
        {
          "output_type": "stream",
          "name": "stdout",
          "text": [
            "4/4 [==============================] - 1s 161ms/step\n",
            "4/4 [==============================] - 0s 111ms/step\n"
          ]
        },
        {
          "output_type": "stream",
          "name": "stderr",
          "text": [
            "Epoch: 74/99, Discriminator loss: 0.6334329843521118, Generator loss:[3.199530601501465, 0.9886134266853333, 0.02062329836189747, 0.014858735725283623]: 100%|██████████| 100/100 [00:04<00:00, 20.60it/s]\n",
            "  0%|          | 0/100 [00:00<?, ?it/s]"
          ]
        },
        {
          "output_type": "stream",
          "name": "stdout",
          "text": [
            "4/4 [==============================] - 1s 161ms/step\n",
            "4/4 [==============================] - 0s 109ms/step\n"
          ]
        },
        {
          "output_type": "stream",
          "name": "stderr",
          "text": [
            "Epoch: 75/99, Discriminator loss: 0.7678944766521454, Generator loss:[3.562617778778076, 1.3808709383010864, 0.02034689486026764, 0.014705761335790157]: 100%|██████████| 100/100 [00:04<00:00, 21.69it/s]\n",
            "  0%|          | 0/100 [00:00<?, ?it/s]"
          ]
        },
        {
          "output_type": "stream",
          "name": "stdout",
          "text": [
            "4/4 [==============================] - 1s 161ms/step\n",
            "4/4 [==============================] - 0s 110ms/step\n"
          ]
        },
        {
          "output_type": "stream",
          "name": "stderr",
          "text": [
            "Epoch: 76/99, Discriminator loss: 0.758517324924469, Generator loss:[3.2773494720458984, 1.1111781597137451, 0.020199110731482506, 0.0146260354667902]: 100%|██████████| 100/100 [00:04<00:00, 21.30it/s]\n",
            "  0%|          | 0/100 [00:00<?, ?it/s]"
          ]
        },
        {
          "output_type": "stream",
          "name": "stdout",
          "text": [
            "4/4 [==============================] - 1s 161ms/step\n",
            "4/4 [==============================] - 0s 110ms/step\n"
          ]
        },
        {
          "output_type": "stream",
          "name": "stderr",
          "text": [
            "Epoch: 77/99, Discriminator loss: 0.5985029935836792, Generator loss:[3.116461992263794, 0.8634419441223145, 0.021028518676757812, 0.015016832388937473]: 100%|██████████| 100/100 [00:04<00:00, 21.60it/s]\n",
            "  0%|          | 0/100 [00:00<?, ?it/s]"
          ]
        },
        {
          "output_type": "stream",
          "name": "stdout",
          "text": [
            "4/4 [==============================] - 1s 160ms/step\n",
            "4/4 [==============================] - 0s 111ms/step\n"
          ]
        },
        {
          "output_type": "stream",
          "name": "stderr",
          "text": [
            "Epoch: 78/99, Discriminator loss: 0.5568139255046844, Generator loss:[3.1983649730682373, 0.9249456524848938, 0.02126307785511017, 0.014711163938045502]: 100%|██████████| 100/100 [00:04<00:00, 20.51it/s]\n",
            "  0%|          | 0/100 [00:00<?, ?it/s]"
          ]
        },
        {
          "output_type": "stream",
          "name": "stdout",
          "text": [
            "4/4 [==============================] - 1s 160ms/step\n",
            "4/4 [==============================] - 0s 110ms/step\n"
          ]
        },
        {
          "output_type": "stream",
          "name": "stderr",
          "text": [
            "Epoch: 79/99, Discriminator loss: 0.5211315900087357, Generator loss:[3.0643677711486816, 0.8559960722923279, 0.02060631290078163, 0.014774048700928688]: 100%|██████████| 100/100 [00:04<00:00, 20.35it/s]\n",
            "  0%|          | 0/100 [00:00<?, ?it/s]"
          ]
        },
        {
          "output_type": "stream",
          "name": "stdout",
          "text": [
            "4/4 [==============================] - 1s 161ms/step\n",
            "4/4 [==============================] - 0s 110ms/step\n"
          ]
        },
        {
          "output_type": "stream",
          "name": "stderr",
          "text": [
            "Epoch: 80/99, Discriminator loss: 0.5079172998666763, Generator loss:[3.106759548187256, 0.9440544247627258, 0.020168256014585495, 0.014587972313165665]: 100%|██████████| 100/100 [00:04<00:00, 21.29it/s]\n",
            "  0%|          | 0/100 [00:00<?, ?it/s]"
          ]
        },
        {
          "output_type": "stream",
          "name": "stdout",
          "text": [
            "4/4 [==============================] - 1s 160ms/step\n",
            "4/4 [==============================] - 0s 111ms/step\n"
          ]
        },
        {
          "output_type": "stream",
          "name": "stderr",
          "text": [
            "Epoch: 81/99, Discriminator loss: 0.5040619820356369, Generator loss:[3.042799472808838, 0.857196033000946, 0.020405011251568794, 0.014510196633636951]: 100%|██████████| 100/100 [00:04<00:00, 21.76it/s]\n",
            "  0%|          | 0/100 [00:00<?, ?it/s]"
          ]
        },
        {
          "output_type": "stream",
          "name": "stdout",
          "text": [
            "4/4 [==============================] - 1s 160ms/step\n",
            "4/4 [==============================] - 0s 109ms/step\n"
          ]
        },
        {
          "output_type": "stream",
          "name": "stderr",
          "text": [
            "Epoch: 82/99, Discriminator loss: 0.5053929686546326, Generator loss:[3.1230788230895996, 0.9661611914634705, 0.020134098827838898, 0.014350793324410915]: 100%|██████████| 100/100 [00:04<00:00, 20.36it/s]\n",
            "  0%|          | 0/100 [00:00<?, ?it/s]"
          ]
        },
        {
          "output_type": "stream",
          "name": "stdout",
          "text": [
            "4/4 [==============================] - 1s 160ms/step\n",
            "4/4 [==============================] - 0s 109ms/step\n"
          ]
        },
        {
          "output_type": "stream",
          "name": "stderr",
          "text": [
            "Epoch: 83/99, Discriminator loss: 0.5149806439876556, Generator loss:[3.0541722774505615, 0.8964759707450867, 0.020147230476140976, 0.014297327026724815]: 100%|██████████| 100/100 [00:04<00:00, 21.55it/s]\n",
            "  0%|          | 0/100 [00:00<?, ?it/s]"
          ]
        },
        {
          "output_type": "stream",
          "name": "stdout",
          "text": [
            "4/4 [==============================] - 1s 162ms/step\n",
            "4/4 [==============================] - 0s 110ms/step\n"
          ]
        },
        {
          "output_type": "stream",
          "name": "stderr",
          "text": [
            "Epoch: 84/99, Discriminator loss: 0.5033915787935257, Generator loss:[3.122469186782837, 0.9488336443901062, 0.02029450237751007, 0.01441853679716587]: 100%|██████████| 100/100 [00:04<00:00, 20.79it/s]\n",
            "  0%|          | 0/100 [00:00<?, ?it/s]"
          ]
        },
        {
          "output_type": "stream",
          "name": "stdout",
          "text": [
            "4/4 [==============================] - 1s 160ms/step\n",
            "4/4 [==============================] - 0s 110ms/step\n"
          ]
        },
        {
          "output_type": "stream",
          "name": "stderr",
          "text": [
            "Epoch: 85/99, Discriminator loss: 0.5104685425758362, Generator loss:[3.055610418319702, 0.901366114616394, 0.02012316882610321, 0.014192738570272923]: 100%|██████████| 100/100 [00:04<00:00, 21.69it/s]\n",
            "  0%|          | 0/100 [00:00<?, ?it/s]"
          ]
        },
        {
          "output_type": "stream",
          "name": "stdout",
          "text": [
            "4/4 [==============================] - 1s 163ms/step\n",
            "4/4 [==============================] - 0s 111ms/step\n"
          ]
        },
        {
          "output_type": "stream",
          "name": "stderr",
          "text": [
            "Epoch: 86/99, Discriminator loss: 0.5422171652317047, Generator loss:[3.0888030529022217, 0.9477462768554688, 0.01999949850142002, 0.014110689051449299]: 100%|██████████| 100/100 [00:04<00:00, 20.23it/s]\n",
            "  0%|          | 0/100 [00:00<?, ?it/s]"
          ]
        },
        {
          "output_type": "stream",
          "name": "stdout",
          "text": [
            "4/4 [==============================] - 1s 162ms/step\n",
            "4/4 [==============================] - 0s 110ms/step\n"
          ]
        },
        {
          "output_type": "stream",
          "name": "stderr",
          "text": [
            "Epoch: 87/99, Discriminator loss: 0.5275806784629822, Generator loss:[3.151088237762451, 0.9957953095436096, 0.020141221582889557, 0.014117074199020863]: 100%|██████████| 100/100 [00:04<00:00, 21.51it/s]\n",
            "  0%|          | 0/100 [00:00<?, ?it/s]"
          ]
        },
        {
          "output_type": "stream",
          "name": "stdout",
          "text": [
            "4/4 [==============================] - 1s 161ms/step\n",
            "4/4 [==============================] - 0s 110ms/step\n"
          ]
        },
        {
          "output_type": "stream",
          "name": "stderr",
          "text": [
            "Epoch: 88/99, Discriminator loss: 0.5339182913303375, Generator loss:[3.070272922515869, 0.9354209899902344, 0.01994258724153042, 0.014059271663427353]: 100%|██████████| 100/100 [00:04<00:00, 21.20it/s]\n",
            "  0%|          | 0/100 [00:00<?, ?it/s]"
          ]
        },
        {
          "output_type": "stream",
          "name": "stdout",
          "text": [
            "4/4 [==============================] - 1s 160ms/step\n",
            "4/4 [==============================] - 0s 110ms/step\n"
          ]
        },
        {
          "output_type": "stream",
          "name": "stderr",
          "text": [
            "Epoch: 89/99, Discriminator loss: 0.5134073197841644, Generator loss:[3.096583843231201, 0.9738404154777527, 0.01983790472149849, 0.013895297423005104]: 100%|██████████| 100/100 [00:04<00:00, 21.35it/s]\n",
            "  0%|          | 0/100 [00:00<?, ?it/s]"
          ]
        },
        {
          "output_type": "stream",
          "name": "stdout",
          "text": [
            "4/4 [==============================] - 1s 161ms/step\n",
            "4/4 [==============================] - 0s 110ms/step\n"
          ]
        },
        {
          "output_type": "stream",
          "name": "stderr",
          "text": [
            "Epoch: 90/99, Discriminator loss: 0.5155374705791473, Generator loss:[3.029573678970337, 0.9221782684326172, 0.019688574597239494, 0.013853807002305984]: 100%|██████████| 100/100 [00:04<00:00, 20.57it/s]\n",
            "  0%|          | 0/100 [00:00<?, ?it/s]"
          ]
        },
        {
          "output_type": "stream",
          "name": "stdout",
          "text": [
            "4/4 [==============================] - 1s 160ms/step\n",
            "4/4 [==============================] - 0s 110ms/step\n"
          ]
        },
        {
          "output_type": "stream",
          "name": "stderr",
          "text": [
            "Epoch: 91/99, Discriminator loss: 0.51667919754982, Generator loss:[3.0199692249298096, 0.9114709496498108, 0.019708707928657532, 0.013762766495347023]: 100%|██████████| 100/100 [00:04<00:00, 21.31it/s]\n",
            "  0%|          | 0/100 [00:00<?, ?it/s]"
          ]
        },
        {
          "output_type": "stream",
          "name": "stdout",
          "text": [
            "4/4 [==============================] - 1s 161ms/step\n",
            "4/4 [==============================] - 0s 111ms/step\n"
          ]
        },
        {
          "output_type": "stream",
          "name": "stderr",
          "text": [
            "Epoch: 92/99, Discriminator loss: 0.5780608355998993, Generator loss:[3.0598971843719482, 0.966401994228363, 0.019572103396058083, 0.01362848561257124]: 100%|██████████| 100/100 [00:04<00:00, 21.59it/s]\n",
            "  0%|          | 0/100 [00:00<?, ?it/s]"
          ]
        },
        {
          "output_type": "stream",
          "name": "stdout",
          "text": [
            "4/4 [==============================] - 1s 160ms/step\n",
            "4/4 [==============================] - 0s 111ms/step\n"
          ]
        },
        {
          "output_type": "stream",
          "name": "stderr",
          "text": [
            "Epoch: 93/99, Discriminator loss: 0.5421989262104034, Generator loss:[2.9484620094299316, 0.864229142665863, 0.019481735303997993, 0.013605914078652859]: 100%|██████████| 100/100 [00:04<00:00, 20.33it/s]\n",
            "  0%|          | 0/100 [00:00<?, ?it/s]"
          ]
        },
        {
          "output_type": "stream",
          "name": "stdout",
          "text": [
            "4/4 [==============================] - 1s 159ms/step\n",
            "4/4 [==============================] - 0s 112ms/step\n"
          ]
        },
        {
          "output_type": "stream",
          "name": "stderr",
          "text": [
            "Epoch: 94/99, Discriminator loss: 0.533819854259491, Generator loss:[3.048509120941162, 0.946423351764679, 0.019658686593174934, 0.01362170185893774]: 100%|██████████| 100/100 [00:04<00:00, 20.51it/s]\n",
            "  0%|          | 0/100 [00:00<?, ?it/s]"
          ]
        },
        {
          "output_type": "stream",
          "name": "stdout",
          "text": [
            "4/4 [==============================] - 1s 161ms/step\n",
            "4/4 [==============================] - 0s 110ms/step\n"
          ]
        },
        {
          "output_type": "stream",
          "name": "stderr",
          "text": [
            "Epoch: 95/99, Discriminator loss: 0.5516567230224609, Generator loss:[3.028160810470581, 0.9265035390853882, 0.019654251635074615, 0.013623193837702274]: 100%|██████████| 100/100 [00:04<00:00, 20.26it/s]\n",
            "  0%|          | 0/100 [00:00<?, ?it/s]"
          ]
        },
        {
          "output_type": "stream",
          "name": "stdout",
          "text": [
            "4/4 [==============================] - 1s 162ms/step\n",
            "4/4 [==============================] - 0s 110ms/step\n"
          ]
        },
        {
          "output_type": "stream",
          "name": "stderr",
          "text": [
            "Epoch: 96/99, Discriminator loss: 0.5383005440235138, Generator loss:[3.0662431716918945, 0.9813179969787598, 0.01948920451104641, 0.013600463978946209]: 100%|██████████| 100/100 [00:04<00:00, 20.61it/s]\n",
            "  0%|          | 0/100 [00:00<?, ?it/s]"
          ]
        },
        {
          "output_type": "stream",
          "name": "stdout",
          "text": [
            "4/4 [==============================] - 1s 160ms/step\n",
            "4/4 [==============================] - 0s 110ms/step\n"
          ]
        },
        {
          "output_type": "stream",
          "name": "stderr",
          "text": [
            "Epoch: 97/99, Discriminator loss: 0.5264228582382202, Generator loss:[2.9604527950286865, 0.8885742425918579, 0.019379252567887306, 0.01339535228908062]: 100%|██████████| 100/100 [00:04<00:00, 21.58it/s]\n",
            "  0%|          | 0/100 [00:00<?, ?it/s]"
          ]
        },
        {
          "output_type": "stream",
          "name": "stdout",
          "text": [
            "4/4 [==============================] - 1s 162ms/step\n",
            "4/4 [==============================] - 0s 111ms/step\n"
          ]
        },
        {
          "output_type": "stream",
          "name": "stderr",
          "text": [
            "Epoch: 98/99, Discriminator loss: 0.6830814778804779, Generator loss:[3.180699348449707, 1.0993775129318237, 0.019471293315291405, 0.013419251888990402]: 100%|██████████| 100/100 [00:04<00:00, 20.58it/s]\n",
            "  0%|          | 0/100 [00:00<?, ?it/s]"
          ]
        },
        {
          "output_type": "stream",
          "name": "stdout",
          "text": [
            "4/4 [==============================] - 1s 160ms/step\n",
            "4/4 [==============================] - 0s 110ms/step\n"
          ]
        },
        {
          "output_type": "stream",
          "name": "stderr",
          "text": [
            "Epoch: 99/99, Discriminator loss: 0.5818499475717545, Generator loss:[3.04010009765625, 0.9429940581321716, 0.019635209813714027, 0.013358504511415958]: 100%|██████████| 100/100 [00:04<00:00, 21.33it/s]\n"
          ]
        }
      ]
    },
    {
      "cell_type": "code",
      "metadata": {
        "id": "XdnEey6xgcS2"
      },
      "source": [
        "def sample_image(generator, imgs, masks, idx): \n",
        "    fig, ax = plt.subplots(1, 3, figsize=(15,5))\n",
        "\n",
        "    ax[0].imshow(masks[idx]) \n",
        "    #ax[0].set_title()\n",
        "    \n",
        "    condition = masks[idx]/150.5-1\n",
        "    generated = (generator.predict(condition[None])+1)*150.5 \n",
        "\n",
        "    ax[1].imshow(generated[0].astype('uint8')) #показываем сгенерированное изображение\n",
        "    ax[1].set_title('сгенерированное изображение')\n",
        "\n",
        "    ax[2].imshow(imgs[idx]) #показываем исходное изображение\n",
        "    ax[2].set_title('реальное изображение')"
      ],
      "execution_count": 101,
      "outputs": []
    },
    {
      "cell_type": "code",
      "metadata": {
        "id": "vJWAvY-zgfpk",
        "outputId": "ea4f31cf-6846-41d2-9f67-d39b2b00530d",
        "colab": {
          "base_uri": "https://localhost:8080/",
          "height": 687
        }
      },
      "source": [
        "for i in [5,30,55,80]:\n",
        "   sample_image(gen, imgs, masks, i)"
      ],
      "execution_count": 114,
      "outputs": [
        {
          "output_type": "stream",
          "name": "stdout",
          "text": [
            "1/1 [==============================] - 0s 18ms/step\n",
            "1/1 [==============================] - 0s 17ms/step\n",
            "1/1 [==============================] - 0s 18ms/step\n",
            "1/1 [==============================] - 0s 17ms/step\n"
          ]
        },
        {
          "output_type": "display_data",
          "data": {
            "text/plain": [
              "<Figure size 1080x360 with 3 Axes>"
            ],
            "image/png": "[encoded data removed]"
          },
          "metadata": {
            "needs_background": "light"
          }
        },
        {
          "output_type": "display_data",
          "data": {
            "text/plain": [
              "<Figure size 1080x360 with 3 Axes>"
            ],
            "image/png": "[encoded data removed]"
          },
          "metadata": {
            "needs_background": "light"
          }
        },
        {
          "output_type": "display_data",
          "data": {
            "text/plain": [
              "<Figure size 1080x360 with 3 Axes>"
            ],
            "image/png": "[encoded data removed]"
          },
          "metadata": {
            "needs_background": "light"
          }
        },
        {
          "output_type": "display_data",
          "data": {
            "text/plain": [
              "<Figure size 1080x360 with 3 Axes>"
            ],
            "image/png": "[encoded data removed]"
          },
          "metadata": {
            "needs_background": "light"
          }
        }
      ]
    },
    {
      "cell_type": "code",
      "metadata": {
        "id": "aIzMimTTNEs9",
        "outputId": "a3692553-3bcc-4188-f939-e82b186f0498",
        "colab": {
          "base_uri": "https://localhost:8080/"
        }
      },
      "source": [
        "A = np.matrix(np.random.randint(-5,5,(5,10)))\n",
        "X = np.matrix(np.random.randint(5,10,(5,10)))\n",
        "C = np.matrix(np.random.randint(10,15,(5,10)))\n",
        "AX = np.dot(A, X.T)\n",
        "Y = AX.dot(C)\n",
        "Y.shape"
      ],
      "execution_count": 120,
      "outputs": [
        {
          "output_type": "execute_result",
          "data": {
            "text/plain": [
              "(5, 10)"
            ]
          },
          "metadata": {},
          "execution_count": 120
        }
      ]
    },
    {
      "cell_type": "code",
      "metadata": {
        "id": "eAsFAeQIuA_r",
        "outputId": "129d827f-64ee-43e6-961a-9cb1875d1938",
        "colab": {
          "base_uri": "https://localhost:8080/"
        }
      },
      "source": [
        "Y=A@X.T@C\n",
        "Y.shape"
      ],
      "execution_count": 121,
      "outputs": [
        {
          "output_type": "execute_result",
          "data": {
            "text/plain": [
              "(5, 10)"
            ]
          },
          "metadata": {},
          "execution_count": 121
        }
      ]
    }
  ]
}