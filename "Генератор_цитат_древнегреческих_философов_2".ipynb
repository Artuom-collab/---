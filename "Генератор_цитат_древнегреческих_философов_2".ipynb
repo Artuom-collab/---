{
  "cells": [
    {
      "cell_type": "markdown",
      "metadata": {
        "id": "view-in-github",
        "colab_type": "text"
      },
      "source": [
        "<a href=\"https://colab.research.google.com/github/ArtuomMerkulov/ArtuomMerkulov/blob/main/%22%D0%93%D0%B5%D0%BD%D0%B5%D1%80%D0%B0%D1%82%D0%BE%D1%80_%D1%86%D0%B8%D1%82%D0%B0%D1%82_%D0%B4%D1%80%D0%B5%D0%B2%D0%BD%D0%B5%D0%B3%D1%80%D0%B5%D1%87%D0%B5%D1%81%D0%BA%D0%B8%D1%85_%D1%84%D0%B8%D0%BB%D0%BE%D1%81%D0%BE%D1%84%D0%BE%D0%B2_2%22.ipynb\" target=\"_parent\"><img src=\"https://colab.research.google.com/assets/colab-badge.svg\" alt=\"Open In Colab\"/></a>"
      ]
    },
    {
      "cell_type": "code",
      "source": [
        "import numpy\n",
        "from keras.models import Sequential\n",
        "from keras.layers import Dense\n",
        "from keras.layers import Dropout\n",
        "from keras.layers import LSTM\n",
        "from keras.callbacks import ModelCheckpoint\n",
        "import matplotlib.pyplot as plt \n",
        "%matplotlib inline\n",
        "import seaborn as sns\n",
        "sns.set_style('darkgrid')\n",
        "from keras.utils import np_utils"
      ],
      "metadata": {
        "id": "kCd0-vwbHM1g"
      },
      "execution_count": 1,
      "outputs": []
    },
    {
      "cell_type": "code",
      "source": [
        "from google.colab import files\n",
        "from google.colab import drive\n",
        "drive.mount('/content/drive')"
      ],
      "metadata": {
        "id": "7wfSnS5jHXt8",
        "colab": {
          "base_uri": "https://localhost:8080/"
        },
        "outputId": "bdd9960d-2553-44c0-a83f-d72ff5931ab7"
      },
      "execution_count": 2,
      "outputs": [
        {
          "output_type": "stream",
          "name": "stdout",
          "text": [
            "Mounted at /content/drive\n"
          ]
        }
      ]
    },
    {
      "cell_type": "code",
      "source": [
        "filename = \"/content/drive/MyDrive/Numpy/philosophy_dataset.txt\"\n",
        "raw_text = open(filename).read()\n",
        "raw_text = raw_text.lower()"
      ],
      "metadata": {
        "id": "hH4vwrbDHTlz"
      },
      "execution_count": 3,
      "outputs": []
    },
    {
      "cell_type": "code",
      "source": [
        "chars = sorted(list(set(raw_text)))\n",
        "char_to_int = dict((c, i) for i, c in enumerate(chars))\n",
        "print(char_to_int)"
      ],
      "metadata": {
        "colab": {
          "base_uri": "https://localhost:8080/"
        },
        "id": "neTrwW8fIYIB",
        "outputId": "c9b56cf2-e8c0-40f2-f459-285d78d368b2"
      },
      "execution_count": 4,
      "outputs": [
        {
          "output_type": "stream",
          "name": "stdout",
          "text": [
            "{'\\n': 0, '\\x0c': 1, ' ': 2, '!': 3, '(': 4, ')': 5, ',': 6, '-': 7, '.': 8, ':': 9, ';': 10, '?': 11, 'c': 12, '«': 13, '»': 14, 'а': 15, 'б': 16, 'в': 17, 'г': 18, 'д': 19, 'е': 20, 'ж': 21, 'з': 22, 'и': 23, 'й': 24, 'к': 25, 'л': 26, 'м': 27, 'н': 28, 'о': 29, 'п': 30, 'р': 31, 'с': 32, 'т': 33, 'у': 34, 'ф': 35, 'х': 36, 'ц': 37, 'ч': 38, 'ш': 39, 'щ': 40, 'ъ': 41, 'ы': 42, 'ь': 43, 'э': 44, 'ю': 45, 'я': 46, 'ё': 47, '–': 48, '—': 49, '…': 50}\n"
          ]
        }
      ]
    },
    {
      "cell_type": "code",
      "source": [
        "n_chars = len(raw_text)\n",
        "n_vocab = len(chars)\n",
        "print(\"Total Characters: \", n_chars)\n",
        "print(\"Total Vocab: \", n_vocab)"
      ],
      "metadata": {
        "colab": {
          "base_uri": "https://localhost:8080/"
        },
        "id": "vS1m0RIsI-iU",
        "outputId": "adc1eec6-2fb1-4b4e-d639-6a3f0730b8de"
      },
      "execution_count": 5,
      "outputs": [
        {
          "output_type": "stream",
          "name": "stdout",
          "text": [
            "Total Characters:  21016\n",
            "Total Vocab:  51\n"
          ]
        }
      ]
    },
    {
      "cell_type": "code",
      "source": [
        "seq_length = 1000\n",
        "dataX = []\n",
        "dataY = []\n",
        "for i in range(0, n_chars - seq_length, 1):\n",
        "\tseq_in = raw_text[i:i + seq_length]\n",
        "\tseq_out = raw_text[i + seq_length]\n",
        "\tdataX.append([char_to_int[char] for char in seq_in])\n",
        "\tdataY.append(char_to_int[seq_out])\n",
        "n_patterns = len(dataX)\n",
        "print(\"Total Patterns: \", n_patterns)"
      ],
      "metadata": {
        "colab": {
          "base_uri": "https://localhost:8080/"
        },
        "id": "mwD7AsOfJYk-",
        "outputId": "95c8f7a5-bdcd-40bc-cf3e-4893daf5ad79"
      },
      "execution_count": 6,
      "outputs": [
        {
          "output_type": "stream",
          "name": "stdout",
          "text": [
            "Total Patterns:  20016\n"
          ]
        }
      ]
    },
    {
      "cell_type": "code",
      "source": [
        "X = numpy.reshape(dataX, (n_patterns, seq_length, 1))\n",
        "# normalize\n",
        "X = X / float(n_vocab)\n",
        "# one hot encode the output variable\n",
        "y = np_utils.to_categorical(dataY)"
      ],
      "metadata": {
        "id": "pC7Mhl4iJoNX"
      },
      "execution_count": 7,
      "outputs": []
    },
    {
      "cell_type": "code",
      "source": [
        "model = Sequential()\n",
        "model.add(LSTM(512, input_shape=(X.shape[1], X.shape[2])))\n",
        "model.add(Dropout(0.2))\n",
        "#model.add(LSTM(256))\n",
        "#model.add(Dropout(0.2))\n",
        "model.add(Dense(y.shape[1], activation='softmax'))\n",
        "model.compile(loss='categorical_crossentropy', optimizer='adam')"
      ],
      "metadata": {
        "id": "cRIs8nk1Jy1Z"
      },
      "execution_count": 8,
      "outputs": []
    },
    {
      "cell_type": "code",
      "source": [
        "filepath=\"weights-improvement-{epoch:02d}-{loss:.4f}.hdf5\"\n",
        "checkpoint = ModelCheckpoint(filepath, monitor='loss', verbose=1, save_best_only=True, mode='min')\n",
        "callbacks_list = [checkpoint]"
      ],
      "metadata": {
        "id": "yibzp39qKO0f"
      },
      "execution_count": 9,
      "outputs": []
    },
    {
      "cell_type": "code",
      "source": [
        "x = model.fit(X, y, epochs=70, batch_size=256, callbacks=callbacks_list)"
      ],
      "metadata": {
        "colab": {
          "base_uri": "https://localhost:8080/"
        },
        "id": "0xlfACRTKQ5C",
        "outputId": "66213341-0aed-45b5-d4ef-166ff4d8c8d2"
      },
      "execution_count": 10,
      "outputs": [
        {
          "output_type": "stream",
          "name": "stdout",
          "text": [
            "Epoch 1/70\n",
            "79/79 [==============================] - ETA: 0s - loss: 3.2862\n",
            "Epoch 1: loss improved from inf to 3.28617, saving model to weights-improvement-01-3.2862.hdf5\n",
            "79/79 [==============================] - 55s 618ms/step - loss: 3.2862\n",
            "Epoch 2/70\n",
            "79/79 [==============================] - ETA: 0s - loss: 3.2227\n",
            "Epoch 2: loss improved from 3.28617 to 3.22274, saving model to weights-improvement-02-3.2227.hdf5\n",
            "79/79 [==============================] - 47s 591ms/step - loss: 3.2227\n",
            "Epoch 3/70\n",
            "79/79 [==============================] - ETA: 0s - loss: 3.2173\n",
            "Epoch 3: loss improved from 3.22274 to 3.21726, saving model to weights-improvement-03-3.2173.hdf5\n",
            "79/79 [==============================] - 48s 603ms/step - loss: 3.2173\n",
            "Epoch 4/70\n",
            "79/79 [==============================] - ETA: 0s - loss: 3.2106\n",
            "Epoch 4: loss improved from 3.21726 to 3.21065, saving model to weights-improvement-04-3.2106.hdf5\n",
            "79/79 [==============================] - 47s 599ms/step - loss: 3.2106\n",
            "Epoch 5/70\n",
            "79/79 [==============================] - ETA: 0s - loss: 3.2044\n",
            "Epoch 5: loss improved from 3.21065 to 3.20443, saving model to weights-improvement-05-3.2044.hdf5\n",
            "79/79 [==============================] - 48s 602ms/step - loss: 3.2044\n",
            "Epoch 6/70\n",
            "79/79 [==============================] - ETA: 0s - loss: 3.2013\n",
            "Epoch 6: loss improved from 3.20443 to 3.20132, saving model to weights-improvement-06-3.2013.hdf5\n",
            "79/79 [==============================] - 47s 601ms/step - loss: 3.2013\n",
            "Epoch 7/70\n",
            "79/79 [==============================] - ETA: 0s - loss: 3.1861\n",
            "Epoch 7: loss improved from 3.20132 to 3.18609, saving model to weights-improvement-07-3.1861.hdf5\n",
            "79/79 [==============================] - 47s 599ms/step - loss: 3.1861\n",
            "Epoch 8/70\n",
            "79/79 [==============================] - ETA: 0s - loss: 3.1555\n",
            "Epoch 8: loss improved from 3.18609 to 3.15546, saving model to weights-improvement-08-3.1555.hdf5\n",
            "79/79 [==============================] - 48s 602ms/step - loss: 3.1555\n",
            "Epoch 9/70\n",
            "79/79 [==============================] - ETA: 0s - loss: 3.1176\n",
            "Epoch 9: loss improved from 3.15546 to 3.11758, saving model to weights-improvement-09-3.1176.hdf5\n",
            "79/79 [==============================] - 48s 606ms/step - loss: 3.1176\n",
            "Epoch 10/70\n",
            "79/79 [==============================] - ETA: 0s - loss: 3.0881\n",
            "Epoch 10: loss improved from 3.11758 to 3.08809, saving model to weights-improvement-10-3.0881.hdf5\n",
            "79/79 [==============================] - 48s 609ms/step - loss: 3.0881\n",
            "Epoch 11/70\n",
            "79/79 [==============================] - ETA: 0s - loss: 3.0647\n",
            "Epoch 11: loss improved from 3.08809 to 3.06466, saving model to weights-improvement-11-3.0647.hdf5\n",
            "79/79 [==============================] - 48s 611ms/step - loss: 3.0647\n",
            "Epoch 12/70\n",
            "79/79 [==============================] - ETA: 0s - loss: 3.0519\n",
            "Epoch 12: loss improved from 3.06466 to 3.05185, saving model to weights-improvement-12-3.0519.hdf5\n",
            "79/79 [==============================] - 48s 608ms/step - loss: 3.0519\n",
            "Epoch 13/70\n",
            "79/79 [==============================] - ETA: 0s - loss: 3.0335\n",
            "Epoch 13: loss improved from 3.05185 to 3.03349, saving model to weights-improvement-13-3.0335.hdf5\n",
            "79/79 [==============================] - 49s 617ms/step - loss: 3.0335\n",
            "Epoch 14/70\n",
            "79/79 [==============================] - ETA: 0s - loss: 3.0182\n",
            "Epoch 14: loss improved from 3.03349 to 3.01823, saving model to weights-improvement-14-3.0182.hdf5\n",
            "79/79 [==============================] - 49s 621ms/step - loss: 3.0182\n",
            "Epoch 15/70\n",
            "79/79 [==============================] - ETA: 0s - loss: 3.0008\n",
            "Epoch 15: loss improved from 3.01823 to 3.00080, saving model to weights-improvement-15-3.0008.hdf5\n",
            "79/79 [==============================] - 51s 641ms/step - loss: 3.0008\n",
            "Epoch 16/70\n",
            "79/79 [==============================] - ETA: 0s - loss: 2.9865\n",
            "Epoch 16: loss improved from 3.00080 to 2.98649, saving model to weights-improvement-16-2.9865.hdf5\n",
            "79/79 [==============================] - 50s 639ms/step - loss: 2.9865\n",
            "Epoch 17/70\n",
            "79/79 [==============================] - ETA: 0s - loss: 2.9704\n",
            "Epoch 17: loss improved from 2.98649 to 2.97035, saving model to weights-improvement-17-2.9704.hdf5\n",
            "79/79 [==============================] - 50s 637ms/step - loss: 2.9704\n",
            "Epoch 18/70\n",
            "79/79 [==============================] - ETA: 0s - loss: 2.9587\n",
            "Epoch 18: loss improved from 2.97035 to 2.95867, saving model to weights-improvement-18-2.9587.hdf5\n",
            "79/79 [==============================] - 50s 634ms/step - loss: 2.9587\n",
            "Epoch 19/70\n",
            "79/79 [==============================] - ETA: 0s - loss: 2.9427\n",
            "Epoch 19: loss improved from 2.95867 to 2.94274, saving model to weights-improvement-19-2.9427.hdf5\n",
            "79/79 [==============================] - 50s 635ms/step - loss: 2.9427\n",
            "Epoch 20/70\n",
            "79/79 [==============================] - ETA: 0s - loss: 2.9180\n",
            "Epoch 20: loss improved from 2.94274 to 2.91797, saving model to weights-improvement-20-2.9180.hdf5\n",
            "79/79 [==============================] - 50s 638ms/step - loss: 2.9180\n",
            "Epoch 21/70\n",
            "79/79 [==============================] - ETA: 0s - loss: 2.8975\n",
            "Epoch 21: loss improved from 2.91797 to 2.89755, saving model to weights-improvement-21-2.8975.hdf5\n",
            "79/79 [==============================] - 50s 637ms/step - loss: 2.8975\n",
            "Epoch 22/70\n",
            "79/79 [==============================] - ETA: 0s - loss: 2.8706\n",
            "Epoch 22: loss improved from 2.89755 to 2.87056, saving model to weights-improvement-22-2.8706.hdf5\n",
            "79/79 [==============================] - 50s 638ms/step - loss: 2.8706\n",
            "Epoch 23/70\n",
            "79/79 [==============================] - ETA: 0s - loss: 2.8412\n",
            "Epoch 23: loss improved from 2.87056 to 2.84117, saving model to weights-improvement-23-2.8412.hdf5\n",
            "79/79 [==============================] - 50s 637ms/step - loss: 2.8412\n",
            "Epoch 24/70\n",
            "79/79 [==============================] - ETA: 0s - loss: 2.8061\n",
            "Epoch 24: loss improved from 2.84117 to 2.80606, saving model to weights-improvement-24-2.8061.hdf5\n",
            "79/79 [==============================] - 50s 636ms/step - loss: 2.8061\n",
            "Epoch 25/70\n",
            "79/79 [==============================] - ETA: 0s - loss: 2.7608\n",
            "Epoch 25: loss improved from 2.80606 to 2.76081, saving model to weights-improvement-25-2.7608.hdf5\n",
            "79/79 [==============================] - 51s 642ms/step - loss: 2.7608\n",
            "Epoch 26/70\n",
            "79/79 [==============================] - ETA: 0s - loss: 2.7198\n",
            "Epoch 26: loss improved from 2.76081 to 2.71985, saving model to weights-improvement-26-2.7198.hdf5\n",
            "79/79 [==============================] - 51s 643ms/step - loss: 2.7198\n",
            "Epoch 27/70\n",
            "79/79 [==============================] - ETA: 0s - loss: 2.6623\n",
            "Epoch 27: loss improved from 2.71985 to 2.66233, saving model to weights-improvement-27-2.6623.hdf5\n",
            "79/79 [==============================] - 51s 642ms/step - loss: 2.6623\n",
            "Epoch 28/70\n",
            "79/79 [==============================] - ETA: 0s - loss: 2.5990\n",
            "Epoch 28: loss improved from 2.66233 to 2.59904, saving model to weights-improvement-28-2.5990.hdf5\n",
            "79/79 [==============================] - 51s 643ms/step - loss: 2.5990\n",
            "Epoch 29/70\n",
            "79/79 [==============================] - ETA: 0s - loss: 2.5324\n",
            "Epoch 29: loss improved from 2.59904 to 2.53241, saving model to weights-improvement-29-2.5324.hdf5\n",
            "79/79 [==============================] - 51s 646ms/step - loss: 2.5324\n",
            "Epoch 30/70\n",
            "79/79 [==============================] - ETA: 0s - loss: 2.4497\n",
            "Epoch 30: loss improved from 2.53241 to 2.44971, saving model to weights-improvement-30-2.4497.hdf5\n",
            "79/79 [==============================] - 51s 641ms/step - loss: 2.4497\n",
            "Epoch 31/70\n",
            "79/79 [==============================] - ETA: 0s - loss: 2.3624\n",
            "Epoch 31: loss improved from 2.44971 to 2.36241, saving model to weights-improvement-31-2.3624.hdf5\n",
            "79/79 [==============================] - 51s 640ms/step - loss: 2.3624\n",
            "Epoch 32/70\n",
            "79/79 [==============================] - ETA: 0s - loss: 2.2694\n",
            "Epoch 32: loss improved from 2.36241 to 2.26945, saving model to weights-improvement-32-2.2694.hdf5\n",
            "79/79 [==============================] - 50s 639ms/step - loss: 2.2694\n",
            "Epoch 33/70\n",
            "79/79 [==============================] - ETA: 0s - loss: 2.1574\n",
            "Epoch 33: loss improved from 2.26945 to 2.15737, saving model to weights-improvement-33-2.1574.hdf5\n",
            "79/79 [==============================] - 50s 640ms/step - loss: 2.1574\n",
            "Epoch 34/70\n",
            "79/79 [==============================] - ETA: 0s - loss: 2.0365\n",
            "Epoch 34: loss improved from 2.15737 to 2.03652, saving model to weights-improvement-34-2.0365.hdf5\n",
            "79/79 [==============================] - 51s 641ms/step - loss: 2.0365\n",
            "Epoch 35/70\n",
            "79/79 [==============================] - ETA: 0s - loss: 1.9001\n",
            "Epoch 35: loss improved from 2.03652 to 1.90007, saving model to weights-improvement-35-1.9001.hdf5\n",
            "79/79 [==============================] - 50s 638ms/step - loss: 1.9001\n",
            "Epoch 36/70\n",
            "79/79 [==============================] - ETA: 0s - loss: 1.7772\n",
            "Epoch 36: loss improved from 1.90007 to 1.77724, saving model to weights-improvement-36-1.7772.hdf5\n",
            "79/79 [==============================] - 50s 634ms/step - loss: 1.7772\n",
            "Epoch 37/70\n",
            "79/79 [==============================] - ETA: 0s - loss: 1.6440\n",
            "Epoch 37: loss improved from 1.77724 to 1.64402, saving model to weights-improvement-37-1.6440.hdf5\n",
            "79/79 [==============================] - 50s 635ms/step - loss: 1.6440\n",
            "Epoch 38/70\n",
            "79/79 [==============================] - ETA: 0s - loss: 1.5039\n",
            "Epoch 38: loss improved from 1.64402 to 1.50388, saving model to weights-improvement-38-1.5039.hdf5\n",
            "79/79 [==============================] - 50s 637ms/step - loss: 1.5039\n",
            "Epoch 39/70\n",
            "79/79 [==============================] - ETA: 0s - loss: 1.3736\n",
            "Epoch 39: loss improved from 1.50388 to 1.37357, saving model to weights-improvement-39-1.3736.hdf5\n",
            "79/79 [==============================] - 50s 639ms/step - loss: 1.3736\n",
            "Epoch 40/70\n",
            "79/79 [==============================] - ETA: 0s - loss: 1.2461\n",
            "Epoch 40: loss improved from 1.37357 to 1.24613, saving model to weights-improvement-40-1.2461.hdf5\n",
            "79/79 [==============================] - 51s 640ms/step - loss: 1.2461\n",
            "Epoch 41/70\n",
            "79/79 [==============================] - ETA: 0s - loss: 1.1139\n",
            "Epoch 41: loss improved from 1.24613 to 1.11387, saving model to weights-improvement-41-1.1139.hdf5\n",
            "79/79 [==============================] - 50s 639ms/step - loss: 1.1139\n",
            "Epoch 42/70\n",
            "79/79 [==============================] - ETA: 0s - loss: 0.9862\n",
            "Epoch 42: loss improved from 1.11387 to 0.98615, saving model to weights-improvement-42-0.9862.hdf5\n",
            "79/79 [==============================] - 50s 638ms/step - loss: 0.9862\n",
            "Epoch 43/70\n",
            "79/79 [==============================] - ETA: 0s - loss: 0.8908\n",
            "Epoch 43: loss improved from 0.98615 to 0.89078, saving model to weights-improvement-43-0.8908.hdf5\n",
            "79/79 [==============================] - 51s 639ms/step - loss: 0.8908\n",
            "Epoch 44/70\n",
            "79/79 [==============================] - ETA: 0s - loss: 0.7923\n",
            "Epoch 44: loss improved from 0.89078 to 0.79226, saving model to weights-improvement-44-0.7923.hdf5\n",
            "79/79 [==============================] - 50s 639ms/step - loss: 0.7923\n",
            "Epoch 45/70\n",
            "79/79 [==============================] - ETA: 0s - loss: 0.6851\n",
            "Epoch 45: loss improved from 0.79226 to 0.68508, saving model to weights-improvement-45-0.6851.hdf5\n",
            "79/79 [==============================] - 50s 637ms/step - loss: 0.6851\n",
            "Epoch 46/70\n",
            "79/79 [==============================] - ETA: 0s - loss: 0.5959\n",
            "Epoch 46: loss improved from 0.68508 to 0.59587, saving model to weights-improvement-46-0.5959.hdf5\n",
            "79/79 [==============================] - 50s 639ms/step - loss: 0.5959\n",
            "Epoch 47/70\n",
            "79/79 [==============================] - ETA: 0s - loss: 0.5205\n",
            "Epoch 47: loss improved from 0.59587 to 0.52046, saving model to weights-improvement-47-0.5205.hdf5\n",
            "79/79 [==============================] - 51s 643ms/step - loss: 0.5205\n",
            "Epoch 48/70\n",
            "79/79 [==============================] - ETA: 0s - loss: 0.4554\n",
            "Epoch 48: loss improved from 0.52046 to 0.45544, saving model to weights-improvement-48-0.4554.hdf5\n",
            "79/79 [==============================] - 51s 641ms/step - loss: 0.4554\n",
            "Epoch 49/70\n",
            "79/79 [==============================] - ETA: 0s - loss: 0.3976\n",
            "Epoch 49: loss improved from 0.45544 to 0.39762, saving model to weights-improvement-49-0.3976.hdf5\n",
            "79/79 [==============================] - 51s 643ms/step - loss: 0.3976\n",
            "Epoch 50/70\n",
            "79/79 [==============================] - ETA: 0s - loss: 0.3416\n",
            "Epoch 50: loss improved from 0.39762 to 0.34164, saving model to weights-improvement-50-0.3416.hdf5\n",
            "79/79 [==============================] - 51s 640ms/step - loss: 0.3416\n",
            "Epoch 51/70\n",
            "79/79 [==============================] - ETA: 0s - loss: 0.3048\n",
            "Epoch 51: loss improved from 0.34164 to 0.30484, saving model to weights-improvement-51-0.3048.hdf5\n",
            "79/79 [==============================] - 51s 643ms/step - loss: 0.3048\n",
            "Epoch 52/70\n",
            "79/79 [==============================] - ETA: 0s - loss: 0.2655\n",
            "Epoch 52: loss improved from 0.30484 to 0.26549, saving model to weights-improvement-52-0.2655.hdf5\n",
            "79/79 [==============================] - 51s 640ms/step - loss: 0.2655\n",
            "Epoch 53/70\n",
            "79/79 [==============================] - ETA: 0s - loss: 0.2234\n",
            "Epoch 53: loss improved from 0.26549 to 0.22341, saving model to weights-improvement-53-0.2234.hdf5\n",
            "79/79 [==============================] - 50s 639ms/step - loss: 0.2234\n",
            "Epoch 54/70\n",
            "79/79 [==============================] - ETA: 0s - loss: 0.1962\n",
            "Epoch 54: loss improved from 0.22341 to 0.19623, saving model to weights-improvement-54-0.1962.hdf5\n",
            "79/79 [==============================] - 51s 641ms/step - loss: 0.1962\n",
            "Epoch 55/70\n",
            "79/79 [==============================] - ETA: 0s - loss: 0.1745\n",
            "Epoch 55: loss improved from 0.19623 to 0.17447, saving model to weights-improvement-55-0.1745.hdf5\n",
            "79/79 [==============================] - 50s 638ms/step - loss: 0.1745\n",
            "Epoch 56/70\n",
            "79/79 [==============================] - ETA: 0s - loss: 0.1543\n",
            "Epoch 56: loss improved from 0.17447 to 0.15434, saving model to weights-improvement-56-0.1543.hdf5\n",
            "79/79 [==============================] - 51s 640ms/step - loss: 0.1543\n",
            "Epoch 57/70\n",
            "79/79 [==============================] - ETA: 0s - loss: 0.1416\n",
            "Epoch 57: loss improved from 0.15434 to 0.14158, saving model to weights-improvement-57-0.1416.hdf5\n",
            "79/79 [==============================] - 51s 642ms/step - loss: 0.1416\n",
            "Epoch 58/70\n",
            "79/79 [==============================] - ETA: 0s - loss: 0.2200\n",
            "Epoch 58: loss did not improve from 0.14158\n",
            "79/79 [==============================] - 50s 639ms/step - loss: 0.2200\n",
            "Epoch 59/70\n",
            "79/79 [==============================] - ETA: 0s - loss: 0.1734\n",
            "Epoch 59: loss did not improve from 0.14158\n",
            "79/79 [==============================] - 51s 641ms/step - loss: 0.1734\n",
            "Epoch 60/70\n",
            "79/79 [==============================] - ETA: 0s - loss: 0.1168\n",
            "Epoch 60: loss improved from 0.14158 to 0.11676, saving model to weights-improvement-60-0.1168.hdf5\n",
            "79/79 [==============================] - 50s 638ms/step - loss: 0.1168\n",
            "Epoch 61/70\n",
            "79/79 [==============================] - ETA: 0s - loss: 0.0941\n",
            "Epoch 61: loss improved from 0.11676 to 0.09407, saving model to weights-improvement-61-0.0941.hdf5\n",
            "79/79 [==============================] - 50s 638ms/step - loss: 0.0941\n",
            "Epoch 62/70\n",
            "79/79 [==============================] - ETA: 0s - loss: 0.0825\n",
            "Epoch 62: loss improved from 0.09407 to 0.08246, saving model to weights-improvement-62-0.0825.hdf5\n",
            "79/79 [==============================] - 50s 636ms/step - loss: 0.0825\n",
            "Epoch 63/70\n",
            "79/79 [==============================] - ETA: 0s - loss: 0.0800\n",
            "Epoch 63: loss improved from 0.08246 to 0.08001, saving model to weights-improvement-63-0.0800.hdf5\n",
            "79/79 [==============================] - 50s 637ms/step - loss: 0.0800\n",
            "Epoch 64/70\n",
            "79/79 [==============================] - ETA: 0s - loss: 0.0753\n",
            "Epoch 64: loss improved from 0.08001 to 0.07530, saving model to weights-improvement-64-0.0753.hdf5\n",
            "79/79 [==============================] - 51s 641ms/step - loss: 0.0753\n",
            "Epoch 65/70\n",
            "79/79 [==============================] - ETA: 0s - loss: 0.0709\n",
            "Epoch 65: loss improved from 0.07530 to 0.07086, saving model to weights-improvement-65-0.0709.hdf5\n",
            "79/79 [==============================] - 51s 642ms/step - loss: 0.0709\n",
            "Epoch 66/70\n",
            "79/79 [==============================] - ETA: 0s - loss: 0.0648\n",
            "Epoch 66: loss improved from 0.07086 to 0.06477, saving model to weights-improvement-66-0.0648.hdf5\n",
            "79/79 [==============================] - 51s 641ms/step - loss: 0.0648\n",
            "Epoch 67/70\n",
            "79/79 [==============================] - ETA: 0s - loss: 0.0589\n",
            "Epoch 67: loss improved from 0.06477 to 0.05888, saving model to weights-improvement-67-0.0589.hdf5\n",
            "79/79 [==============================] - 50s 638ms/step - loss: 0.0589\n",
            "Epoch 68/70\n",
            "79/79 [==============================] - ETA: 0s - loss: 0.0617\n",
            "Epoch 68: loss did not improve from 0.05888\n",
            "79/79 [==============================] - 51s 640ms/step - loss: 0.0617\n",
            "Epoch 69/70\n",
            "79/79 [==============================] - ETA: 0s - loss: 4.2615\n",
            "Epoch 69: loss did not improve from 0.05888\n",
            "79/79 [==============================] - 51s 642ms/step - loss: 4.2615\n",
            "Epoch 70/70\n",
            "79/79 [==============================] - ETA: 0s - loss: 3.7579\n",
            "Epoch 70: loss did not improve from 0.05888\n",
            "79/79 [==============================] - 51s 640ms/step - loss: 3.7579\n"
          ]
        }
      ]
    },
    {
      "cell_type": "code",
      "source": [
        "history = x"
      ],
      "metadata": {
        "id": "LYJGB1b5iVYe"
      },
      "execution_count": 13,
      "outputs": []
    },
    {
      "cell_type": "code",
      "source": [
        "plt.figure(figsize = (14, 7))\n",
        "plt.plot(history.history['loss'], label='Значение ошибки на обучающем наборе')\n",
        "plt.xlabel('Эпоха обучения')\n",
        "plt.ylabel('Значение ошибки')\n",
        "plt.legend()\n",
        "plt.show()"
      ],
      "metadata": {
        "colab": {
          "base_uri": "https://localhost:8080/",
          "height": 442
        },
        "id": "dTclLTe7NiyD",
        "outputId": "210de71b-2bb9-4748-8395-09e623fbf5df"
      },
      "execution_count": 14,
      "outputs": [
        {
          "output_type": "display_data",
          "data": {
            "text/plain": [
              "<Figure size 1008x504 with 1 Axes>"
            ],
            "image/png": "[encoded data removed]"
          },
          "metadata": {}
        }
      ]
    },
    {
      "cell_type": "code",
      "source": [
        "# load the network weights\n",
        "filename = \"weights-improvement-67-0.0589.hdf5\"\n",
        "model.load_weights(filename)\n",
        "model.compile(loss='categorical_crossentropy', optimizer='adam')"
      ],
      "metadata": {
        "id": "vNwmIqt_KuoT"
      },
      "execution_count": 15,
      "outputs": []
    },
    {
      "cell_type": "code",
      "source": [
        "int_to_char = dict((i, c) for i, c in enumerate(chars))"
      ],
      "metadata": {
        "id": "REJh6fSPQKgp"
      },
      "execution_count": 16,
      "outputs": []
    },
    {
      "cell_type": "code",
      "source": [
        "import sys"
      ],
      "metadata": {
        "id": "sFwFSmozQoDX"
      },
      "execution_count": 17,
      "outputs": []
    },
    {
      "cell_type": "code",
      "source": [
        "start = numpy.random.randint(0, len(dataX)-1)\n",
        "pattern = dataX[start]\n",
        "print(\"Read:\")\n",
        "print(\"\\\"\", ''.join([int_to_char[value] for value in pattern]), \"\\\"\")\n",
        "# generate characters\n",
        "for i in range(1000):\n",
        "\tx = numpy.reshape(pattern, (1, len(pattern), 1))\n",
        "\tx = x / float(n_vocab)\n",
        "\tprediction = model.predict(x, verbose=0)\n",
        "\tindex = numpy.argmax(prediction)\n",
        "\tresult = int_to_char[index]\n",
        "\tseq_in = [int_to_char[value] for value in pattern]\n",
        "\tsys.stdout.write(result)\n",
        "\tpattern.append(index)\n",
        "\tpattern = pattern[1:len(pattern)]\n",
        "print(\"\\nDone.\")"
      ],
      "metadata": {
        "colab": {
          "base_uri": "https://localhost:8080/"
        },
        "id": "Ts-z6wLcQPTz",
        "outputId": "a8144033-c717-42a7-8d06-9044fd02bb82"
      },
      "execution_count": 18,
      "outputs": [
        {
          "output_type": "stream",
          "name": "stdout",
          "text": [
            "Read:\n",
            "\" ь богатым и не кичиться этим; трудно быть бедным и не сетовать.\n",
            "легче зажечь одну маленькую свечу, чем клясть темноту.\n",
            "лишь когда приходят холода, становится ясно, что сосны и кипарисы последними теряют свой убор.\n",
            "любимец деревни — враг добродетели.\n",
            "люди в древности не любили много говорить. они считали позором для себя не поспеть за собственными\n",
            "словами.\n",
            "люди хотят для себя богатства и славы; если то и другое нельзя обрести честно, следует их избегать.\n",
            "люди страшатся бедности и безвестности; если того и другого нельзя избежать, не теряя чести, следует их\n",
            "принять.\n",
            "можно всю жизнь проклинать темноту, а можно зажечь маленькую свечку.\n",
            "молчание — великий друг, который никогда не изменит.\n",
            "мудрая женщина старается изменять внешность, а не мужа.\n",
            "мудрый муж радуется водам, человечный муж радуется горам. мудрый деятелен, человечный покоен.\n",
            "мудрые радуются жизни, человечные живут долго.\n",
            "мудрый не знает волнений, человечный не знает забот, смелый не знает страха.\n",
            "мудрый человек не делает другим т \"\n",
            "ого, чего он не желает, чтобы ему сделали.\n",
            "мы доверяем своим глазам — но им нельзя верить; мы полагаемся на свое сердце — но и на него не\n",
            "стоит полагаться. запомните же, ученики: поистине нелегко познать человека!\n",
            "на самом деле, жизнь проста, но мы настойчиво её усложняем.\n",
            "наблюдайте за поведением человека, вникайте в причины его поступков, приглядывайтесь к нему в часы\n",
            "его досуга. останется ли он тогда для вас загадкой?\n",
            "найдите работу, в которую влюбитесь, и вам больше не придётся трудиться ни одного дня в жизни.\n",
            "не беспокойся о том, что у тебя нет высокого чина. беспокойся о том, достоин ли ты того, чтобы тебя\n",
            "знали.\n",
            "не печалься о том, что никто не знает тебя, а стремись быть тем, кого могут знать.\n",
            "не печалься, что люди не знают тебя, но печалься, что ты не знаешь людей.\n",
            "не поговорить с человеком, который достоин разговора, значит потерять человека. а говорить с\n",
            "человеком, который разговора не достоин, — значит терять слова. мудрый не теряет ни людей, ни слов.\n",
            "не познав судьбы, нельз\n",
            "Done.\n"
          ]
        }
      ]
    }
  ],
  "metadata": {
    "colab": {
      "provenance": [],
      "include_colab_link": true
    },
    "kernelspec": {
      "display_name": "Python 3",
      "language": "python",
      "name": "python3"
    },
    "language_info": {
      "codemirror_mode": {
        "name": "ipython",
        "version": 3
      },
      "file_extension": ".py",
      "mimetype": "text/x-python",
      "name": "python",
      "nbconvert_exporter": "python",
      "pygments_lexer": "ipython3",
      "version": "3.7.0"
    },
    "accelerator": "GPU"
  },
  "nbformat": 4,
  "nbformat_minor": 0
}