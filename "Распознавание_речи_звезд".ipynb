{
  "nbformat": 4,
  "nbformat_minor": 0,
  "metadata": {
    "colab": {
      "provenance": [],
      "collapsed_sections": [],
      "toc_visible": true,
      "include_colab_link": true
    },
    "kernelspec": {
      "name": "python3",
      "display_name": "Python 3"
    }
  },
  "cells": [
    {
      "cell_type": "markdown",
      "metadata": {
        "id": "view-in-github",
        "colab_type": "text"
      },
      "source": [
        "<a href=\"https://colab.research.google.com/github/ArtuomMerkulov/ArtuomMerkulov/blob/main/%22%D0%A0%D0%B0%D1%81%D0%BF%D0%BE%D0%B7%D0%BD%D0%B0%D0%B2%D0%B0%D0%BD%D0%B8%D0%B5_%D1%80%D0%B5%D1%87%D0%B8_%D0%B7%D0%B2%D0%B5%D0%B7%D0%B4%22.ipynb\" target=\"_parent\"><img src=\"https://colab.research.google.com/assets/colab-badge.svg\" alt=\"Open In Colab\"/></a>"
      ]
    },
    {
      "cell_type": "markdown",
      "metadata": {
        "id": "Psm18BMRcsFj"
      },
      "source": [
        "# **Import библиотек**"
      ]
    },
    {
      "cell_type": "code",
      "metadata": {
        "id": "O09jqNp1wZjU",
        "colab": {
          "base_uri": "https://localhost:8080/"
        },
        "outputId": "9044897e-8d8e-4170-efe2-a88578db4fd5"
      },
      "source": [
        "%tensorflow_version 2.x"
      ],
      "execution_count": null,
      "outputs": [
        {
          "output_type": "stream",
          "name": "stdout",
          "text": [
            "Colab only includes TensorFlow 2.x; %tensorflow_version has no effect.\n"
          ]
        }
      ]
    },
    {
      "cell_type": "code",
      "metadata": {
        "id": "w0I7LgLGcrb4",
        "colab": {
          "base_uri": "https://localhost:8080/"
        },
        "outputId": "436ed356-2878-473e-d1c9-ea33be8da696"
      },
      "source": [
        "!pip install SpeechRecognition # библиотека с популярными сервисами распознавания речи\n",
        "import speech_recognition as sR\n",
        "!pip install jiwer \n",
        "from jiwer import wer # модуль метрики качества в распознавании речи\n",
        "import numpy as np # библиотека для работы с массивами данных\n",
        "from matplotlib import pyplot as plt # интерфейс для построения графиков простых функций\n",
        "from IPython.display import HTML, Audio # загружаем модуль чтобы обратиться к HTML для записи аудио с микрофона в ноутбуке\n",
        "from google.colab import files # модуль для загрузки файлов\n",
        "from google.colab.output import eval_js\n",
        "from base64 import b64decode # модуль для кодировки/раскодировки аудиозаписи(64-разрядный код)\n",
        "from scipy.io.wavfile import read as wav_read # для чтения WAV формата\n",
        "import io\n",
        "import scipy # воспользуемся модулями библиотеки для работы со звуковой дорожкой\n",
        "import librosa # для параметризации аудио\n",
        "import os # модуль для работы с операционной системой(воспользуемся методами работы с каталогами)\n",
        "from sklearn.model_selection import train_test_split # модуль для разбивки данных на обучающую и тестовую выборки\n",
        "from tensorflow.keras.utils import to_categorical # загружаем утилиты кераса для one hot кодировки\n",
        "from tqdm import tqdm # быстрый, удобный progress bar для Python\n",
        "from tensorflow.keras.optimizers import Adam, RMSprop, Adadelta # загружаем алгоритмы обучения/оптимизации\n",
        "from keras.models import Sequential # последовательная модель нейросети кераса\n",
        "from keras.layers import Dense, Dropout, Flatten, Conv2D, MaxPooling2D, BatchNormalization # загружаем необходимые слои для нейросети\n",
        "import IPython.display as ipd #Для проигрывания аудио"
      ],
      "execution_count": null,
      "outputs": [
        {
          "output_type": "stream",
          "name": "stdout",
          "text": [
            "Looking in indexes: https://pypi.org/simple, https://us-python.pkg.dev/colab-wheels/public/simple/\n",
            "Collecting SpeechRecognition\n",
            "  Downloading SpeechRecognition-3.8.1-py2.py3-none-any.whl (32.8 MB)\n",
            "\u001b[K     |████████████████████████████████| 32.8 MB 1.5 MB/s \n",
            "\u001b[?25hInstalling collected packages: SpeechRecognition\n",
            "Successfully installed SpeechRecognition-3.8.1\n",
            "Looking in indexes: https://pypi.org/simple, https://us-python.pkg.dev/colab-wheels/public/simple/\n",
            "Collecting jiwer\n",
            "  Downloading jiwer-2.3.0-py3-none-any.whl (15 kB)\n",
            "Collecting python-Levenshtein==0.12.2\n",
            "  Downloading python-Levenshtein-0.12.2.tar.gz (50 kB)\n",
            "\u001b[K     |████████████████████████████████| 50 kB 1.1 MB/s \n",
            "\u001b[?25hRequirement already satisfied: setuptools in /usr/local/lib/python3.7/dist-packages (from python-Levenshtein==0.12.2->jiwer) (57.4.0)\n",
            "Building wheels for collected packages: python-Levenshtein\n",
            "  Building wheel for python-Levenshtein (setup.py) ... \u001b[?25l\u001b[?25hdone\n",
            "  Created wheel for python-Levenshtein: filename=python_Levenshtein-0.12.2-cp37-cp37m-linux_x86_64.whl size=149862 sha256=f6984997dda810b9f427fb251727c79fbff2380487aa9e717ed5e85c6e30f723\n",
            "  Stored in directory: /root/.cache/pip/wheels/05/5f/ca/7c4367734892581bb5ff896f15027a932c551080b2abd3e00d\n",
            "Successfully built python-Levenshtein\n",
            "Installing collected packages: python-Levenshtein, jiwer\n",
            "Successfully installed jiwer-2.3.0 python-Levenshtein-0.12.2\n"
          ]
        }
      ]
    },
    {
      "cell_type": "code",
      "metadata": {
        "id": "TvFUtjWjf0Xw",
        "colab": {
          "base_uri": "https://localhost:8080/"
        },
        "outputId": "928911c6-5cef-4692-b9a4-7a10ae4b44ba"
      },
      "source": [
        "from google.colab import drive \n",
        "drive.mount('/content/drive')"
      ],
      "execution_count": null,
      "outputs": [
        {
          "output_type": "stream",
          "name": "stdout",
          "text": [
            "Mounted at /content/drive\n"
          ]
        }
      ]
    },
    {
      "cell_type": "code",
      "source": [
        "!unrar x \"/content/drive/MyDrive/Numpy/Speaker Segmentation.rar\""
      ],
      "metadata": {
        "colab": {
          "base_uri": "https://localhost:8080/"
        },
        "id": "6ErlVZoKVki8",
        "outputId": "b5449490-dd6c-4afe-f55b-54db17616478"
      },
      "execution_count": null,
      "outputs": [
        {
          "output_type": "stream",
          "name": "stdout",
          "text": [
            "\n",
            "UNRAR 5.50 freeware      Copyright (c) 1993-2017 Alexander Roshal\n",
            "\n",
            "\n",
            "Extracting from /content/drive/MyDrive/Numpy/Speaker Segmentation.rar\n",
            "\n",
            "Creating    Speaker Segmentation                                      OK\n",
            "Extracting  Speaker Segmentation/basta.zip                               \b\b\b\b  0%\b\b\b\b  1%\b\b\b\b  2%\b\b\b\b  3%\b\b\b\b  4%\b\b\b\b  5%\b\b\b\b  6%\b\b\b\b  7%\b\b\b\b  8%\b\b\b\b\b  OK \n",
            "Extracting  Speaker Segmentation/buzova.zip                              \b\b\b\b  8%\b\b\b\b  9%\b\b\b\b 10%\b\b\b\b 11%\b\b\b\b 12%\b\b\b\b 13%\b\b\b\b 14%\b\b\b\b 15%\b\b\b\b 16%\b\b\b\b 17%\b\b\b\b 18%\b\b\b\b 19%\b\b\b\b 20%\b\b\b\b 21%\b\b\b\b 22%\b\b\b\b\b  OK \n",
            "Extracting  Speaker Segmentation/kiselev.zip                             \b\b\b\b 22%\b\b\b\b 23%\b\b\b\b 24%\b\b\b\b 25%\b\b\b\b 26%\b\b\b\b 27%\b\b\b\b 28%\b\b\b\b 29%\b\b\b\b 30%\b\b\b\b 31%\b\b\b\b 32%\b\b\b\b 33%\b\b\b\b 34%\b\b\b\b 35%\b\b\b\b 36%\b\b\b\b 37%\b\b\b\b 38%\b\b\b\b\b  OK \n",
            "Extracting  Speaker Segmentation/morgenshtern.zip                        \b\b\b\b 38%\b\b\b\b 39%\b\b\b\b 40%\b\b\b\b 41%\b\b\b\b 42%\b\b\b\b 43%\b\b\b\b 44%\b\b\b\b 45%\b\b\b\b 46%\b\b\b\b 47%\b\b\b\b 48%\b\b\b\b 49%\b\b\b\b 50%\b\b\b\b 51%\b\b\b\b 52%\b\b\b\b 53%\b\b\b\b 54%\b\b\b\b 55%\b\b\b\b 56%\b\b\b\b 57%\b\b\b\b 58%\b\b\b\b 59%\b\b\b\b 60%\b\b\b\b 61%\b\b\b\b 62%\b\b\b\b 63%\b\b\b\b 64%\b\b\b\b 65%\b\b\b\b 66%\b\b\b\b\b  OK \n",
            "Extracting  Speaker Segmentation/navalny.zip                             \b\b\b\b 66%\b\b\b\b 67%\b\b\b\b 68%\b\b\b\b 69%\b\b\b\b 70%\b\b\b\b 71%\b\b\b\b 72%\b\b\b\b 73%\b\b\b\b 74%\b\b\b\b 75%\b\b\b\b 76%\b\b\b\b\b  OK \n",
            "Extracting  Speaker Segmentation/shnurov.zip                             \b\b\b\b 76%\b\b\b\b 77%\b\b\b\b 78%\b\b\b\b 79%\b\b\b\b 80%\b\b\b\b 81%\b\b\b\b 82%\b\b\b\b 83%\b\b\b\b 84%\b\b\b\b 85%\b\b\b\b 86%\b\b\b\b 87%\b\b\b\b 88%\b\b\b\b 89%\b\b\b\b 90%\b\b\b\b 91%\b\b\b\b 92%\b\b\b\b 93%\b\b\b\b 94%\b\b\b\b 95%\b\b\b\b 96%\b\b\b\b 97%\b\b\b\b 98%\b\b\b\b 99%\b\b\b\b\b  OK \n",
            "All OK\n"
          ]
        }
      ]
    },
    {
      "cell_type": "code",
      "source": [
        "!unzip \"/content/Speaker Segmentation/basta.zip\""
      ],
      "metadata": {
        "colab": {
          "base_uri": "https://localhost:8080/"
        },
        "id": "ZGQFnTAJV7_3",
        "outputId": "21985421-b71b-408a-c97e-d14e7b2945b3"
      },
      "execution_count": null,
      "outputs": [
        {
          "output_type": "stream",
          "name": "stdout",
          "text": [
            "Archive:  /content/Speaker Segmentation/basta.zip\n",
            "  inflating: 1.json                  \n",
            "  inflating: 1.mp3                   \n",
            "  inflating: basta.mp4               \n"
          ]
        }
      ]
    },
    {
      "cell_type": "code",
      "source": [
        "!unzip \"/content/Speaker Segmentation/buzova.zip\""
      ],
      "metadata": {
        "colab": {
          "base_uri": "https://localhost:8080/"
        },
        "id": "IPYG9GyUWGOO",
        "outputId": "ef717e9f-cf11-46ee-ae33-ff156156a9e7"
      },
      "execution_count": null,
      "outputs": [
        {
          "output_type": "stream",
          "name": "stdout",
          "text": [
            "Archive:  /content/Speaker Segmentation/buzova.zip\n",
            "replace 1.json? [y]es, [n]o, [A]ll, [N]one, [r]ename: y\n",
            "  inflating: 1.json                  \n",
            "replace 1.mp3? [y]es, [n]o, [A]ll, [N]one, [r]ename: y\n",
            "  inflating: 1.mp3                   \n",
            "  inflating: buzova.mp4              \n"
          ]
        }
      ]
    },
    {
      "cell_type": "code",
      "source": [
        "!unzip \"/content/Speaker Segmentation/kiselev.zip\""
      ],
      "metadata": {
        "colab": {
          "base_uri": "https://localhost:8080/"
        },
        "id": "HphEwcuPWSWq",
        "outputId": "0b4512fa-def8-47f4-d341-9cd33bf59b1d"
      },
      "execution_count": null,
      "outputs": [
        {
          "output_type": "stream",
          "name": "stdout",
          "text": [
            "Archive:  /content/Speaker Segmentation/kiselev.zip\n",
            "replace 1.json? [y]es, [n]o, [A]ll, [N]one, [r]ename: y\n",
            "  inflating: 1.json                  \n",
            "replace 1.mp3? [y]es, [n]o, [A]ll, [N]one, [r]ename: y\n",
            "  inflating: 1.mp3                   \n",
            "  inflating: kiselev.mp4             \n"
          ]
        }
      ]
    },
    {
      "cell_type": "code",
      "source": [
        "!unzip \"/content/Speaker Segmentation/morgenshtern.zip\""
      ],
      "metadata": {
        "colab": {
          "base_uri": "https://localhost:8080/"
        },
        "id": "ppfQai03WTP7",
        "outputId": "de5aa4fb-f3df-4e71-8651-bb2b9baa3444"
      },
      "execution_count": null,
      "outputs": [
        {
          "output_type": "stream",
          "name": "stdout",
          "text": [
            "Archive:  /content/Speaker Segmentation/morgenshtern.zip\n",
            "replace 1.json? [y]es, [n]o, [A]ll, [N]one, [r]ename: y\n",
            "  inflating: 1.json                  \n",
            "replace 1.mp3? [y]es, [n]o, [A]ll, [N]one, [r]ename: y\n",
            "  inflating: 1.mp3                   \n",
            "  inflating: morgenshtern.mp4        \n"
          ]
        }
      ]
    },
    {
      "cell_type": "code",
      "source": [
        "!unzip \"/content/Speaker Segmentation/navalny.zip\""
      ],
      "metadata": {
        "colab": {
          "base_uri": "https://localhost:8080/"
        },
        "id": "ovCTF13YWU68",
        "outputId": "db58a347-5f8b-4f4b-cebe-71b1bd87f636"
      },
      "execution_count": null,
      "outputs": [
        {
          "output_type": "stream",
          "name": "stdout",
          "text": [
            "Archive:  /content/Speaker Segmentation/navalny.zip\n",
            "replace 1.json? [y]es, [n]o, [A]ll, [N]one, [r]ename: y\n",
            "  inflating: 1.json                  \n",
            "replace 1.mp3? [y]es, [n]o, [A]ll, [N]one, [r]ename: y\n",
            "  inflating: 1.mp3                   \n",
            "replace navalny.mp4? [y]es, [n]o, [A]ll, [N]one, [r]ename: y\n",
            "  inflating: navalny.mp4             \n"
          ]
        }
      ]
    },
    {
      "cell_type": "code",
      "source": [
        "!unzip \"/content/Speaker Segmentation/shnurov.zip\""
      ],
      "metadata": {
        "colab": {
          "base_uri": "https://localhost:8080/"
        },
        "id": "65r13V4qWWd6",
        "outputId": "e5bedcf4-e4e5-483f-a878-11cf4188ae83"
      },
      "execution_count": null,
      "outputs": [
        {
          "output_type": "stream",
          "name": "stdout",
          "text": [
            "Archive:  /content/Speaker Segmentation/shnurov.zip\n",
            "replace 1.json? [y]es, [n]o, [A]ll, [N]one, [r]ename: y\n",
            "  inflating: 1.json                  \n",
            "replace 1.mp3? [y]es, [n]o, [A]ll, [N]one, [r]ename: y\n",
            "  inflating: 1.mp3                   \n",
            "replace shnurov.mp4? [y]es, [n]o, [A]ll, [N]one, [r]ename: y\n",
            "  inflating: shnurov.mp4             \n"
          ]
        }
      ]
    },
    {
      "cell_type": "markdown",
      "metadata": {
        "id": "C6VP8yZl-M8c"
      },
      "source": [
        "# **Распознавания с google api**"
      ]
    },
    {
      "cell_type": "code",
      "metadata": {
        "id": "xqBjiIUYu9UX"
      },
      "source": [
        "def recognizeAudio(filename, duration=None):\n",
        "  AUDIO_FILE = os.path.join(filename) # задаем путь к аудиофайлу\n",
        "  r = sR.Recognizer() # создаем объект класса Recognizer\n",
        "  with sR.AudioFile(AUDIO_FILE) as source:\n",
        "    audio = r.record(source, duration=duration)\n",
        "  return r.recognize_google(audio, language='ru') "
      ],
      "execution_count": null,
      "outputs": []
    },
    {
      "cell_type": "code",
      "metadata": {
        "id": "7Az1qPDys3xO"
      },
      "source": [
        "team_path_basta = '/content/drive/MyDrive/Numpy/Звезды голоса wav для РГ/basta.wav'\n",
        "# Распознавание на примере длинной фразы без шумов на заднем плане\n",
        "team_path_buzova = '/content/drive/MyDrive/Numpy/Звезды голоса wav для РГ/buzova.wav'\n",
        "# Распознавание отрезка из видео на ютубе с негромкой фоновой музыкой\n",
        "team_path_kiselev = '/content/drive/MyDrive/Numpy/Звезды голоса wav для РГ/kiselev.wav'\n",
        "# Распознавание отрезка из песни с четкой речью \n",
        "team_path_morgenshtern = '/content/drive/MyDrive/Numpy/Звезды голоса wav для РГ/morgenshtern.wav'\n",
        "# Распознавание отрезка из песни с менее четкой речью и более зашумленной\n",
        "team_path_navalny = '/content/drive/MyDrive/Numpy/Звезды голоса wav для РГ/navalny.wav'\n",
        "# Распознавание отрывка из интервью\n",
        "team_path_shnurov = '/content/drive/MyDrive/Numpy/Звезды голоса wav для РГ/shnurov.wav'"
      ],
      "execution_count": null,
      "outputs": []
    },
    {
      "cell_type": "code",
      "metadata": {
        "id": "9rZqVfAHxLWx"
      },
      "source": [
        "# Простая фраза\n",
        "ipd.display(ipd.Audio(team_path_basta))"
      ],
      "execution_count": null,
      "outputs": []
    },
    {
      "cell_type": "code",
      "metadata": {
        "id": "l-5Luzrarupu",
        "colab": {
          "base_uri": "https://localhost:8080/"
        },
        "outputId": "bb413fb9-6cf1-42c5-ffcb-b8e5c98e4929"
      },
      "source": [
        "res = recognizeAudio(team_path_buzova, duration = 150)\n",
        "\n",
        "print('Результат распознавания:', res)\n",
        "#print('WER:', wer(res.lower())) "
      ],
      "execution_count": null,
      "outputs": [
        {
          "output_type": "stream",
          "name": "stdout",
          "text": [
            "Результат распознавания: Да просто кстати присутствовал там 3 июня презентация клипа водице и на тот момент стало модным направлениям блогерство прекрасно знаю что сейчас в тренде YouTube каналы блогеры Я всё ясно хотела для того чтобы тоже делать какие-то коллаборации ролики ролики хотела со мной приятно познакомиться многие ребята Меня знали Хотели со мной познакомиться мы стали дружить То есть марьяны ро Даша инстасамка там каграманов и мы стали так потихонечку где-то где-то где-то где-то где-то где-то дружи приглашать их на мероприятия то в ресторане то на открытие то на презентацию Как раз-таки Давида я видела его где-то Я тоже его пригласила на презентацию ещё в июня написала в Direct сама вот он уже потому что он просто понравился вот вот честно такого не было вообще не было Я слышала его там одну песню лет там потом Почему я был решил пригласить пригласить тебе просто придётся рассказывал её пригласила я даже не поняла пришёл не пришёл ты потом уже вспомнил я говорю ты ко мне вообще-то не пришёл в первый раз он не смог прийти потому что где-то он там был но и наша встреча 3 числа не состоялась Хотя возможно наше знакомство вообще бы раньше состоялся вот когда я планировала съёмки лайкера причём ты тоже вот так спонтанно потому что 2 августа у него хоть песня Мы сразу понимаем что тахит что она стреляет потому что мы можем сколько угодно быть уверенным в своём творчестве я Да но ты знаешь что есть такое понятие Как там зашёл или не зашёл вот лайкер зашёл так и водиться как это всё потому как все мои песня вообще не буду перечислять 40 песен из 2 альбомов и мне улетать 11 числа на план Б И я понимаю что мне нужно сейчас срочно быстро пока не улетела не пропала с радаров 2 вылетает из дома Ты всё в жизни не останавливается Да мне уже срочно снять клип Я думал кого кого кого кого же мне позвать и просто гоняю Ну куда же Конечно хочется чтобы это абсолютно нормально Когда ты интегрирует мне просто актёра до какого-то ещё яркого интересного персонажа как у меня была с Джереми микс когда просто все обалдели потому что он прилетел на wi-fi ты был такой остался и вся пресс-конференция стояла столько на съёмках либо когда у меня просто все\n"
          ]
        }
      ]
    },
    {
      "cell_type": "code",
      "metadata": {
        "id": "fx7jlmO4wSjE"
      },
      "source": [
        "ipd.display(ipd.Audio(team_path_buzova))"
      ],
      "execution_count": null,
      "outputs": []
    },
    {
      "cell_type": "code",
      "metadata": {
        "id": "UqkTlbASsW2g",
        "colab": {
          "base_uri": "https://localhost:8080/"
        },
        "outputId": "782920f8-1368-411c-a90c-758770b02fe9"
      },
      "source": [
        "#original = 'Я не люблю просто детство сейчас вот поэтому я мне предложили вернуть действие в нём в жизни мне вернулся'\n",
        "res = recognizeAudio(team_path_basta, duration = 150)\n",
        "\n",
        "#print('Оригинал:               ', original)\n",
        "print('Результат распознавания:', res)\n",
        "#print('WER:', wer(original.lower(), res.lower()))"
      ],
      "execution_count": null,
      "outputs": [
        {
          "output_type": "stream",
          "name": "stdout",
          "text": [
            "Результат распознавания: Я не люблю просто детство сейчас вот поэтому я мне предложили вернуть действие в нём в жизни мне вернулся потому что я свободный человек люблю свободу А любое ограничение моих передвижений там моих идей будто родителями или взрослыми людьми вызвали во мне всегда раздражение и бешенства даже вот поэтому сейчас я счастливый человек я сам решаю что мне делать мне приходилось терпеть Просто я терпел Я ждал когда я вырасту как все нормальные дети возил по гаражам прыгал нас прыгал воду никого не слушал если можно было кого-то не слушать а не слушал Проверь школы поступки совершал их продолжают совершать вот я Авантюрист это часть меня это сложила меня как личность как человека вот такого кино есть вот поэтому естественно сожалению размышление о том что было цель моей жизни прийти примирению собственными поступками собственным путём не стыдиться нечего есть заживления постыдного ничего ничего нету когда человек испытывает стыд касаемо каких-то этапах своей жизни это его приводит употребление всевозможных веществ Ну и вообще всего что может Отвлечь его от страданий А ну я себя вспоминаю мне Если человек мне что-то говорил но личным примером не мог это подтвердить нужно быть хорошим и честно если он был бесчестным я знал что он где-то стукнулся для мячей просто умирал в одну секунду У меня у своих детей и с ними работает только техника личного примера другой ничего не работает Не не увещевания не нравственные беседы не патетика не коррупция Да там ну как покупаешь своего ребёнка это всё не работает Не имеет смысла просто сам был ребёнок вся трагедия взрослых что они забыли о том что они были детьми что их там трогала что на них влиял я предавал конечно Ну тогда не понимал что я предавал я сделал выбор в пользу каких-то своих идей своих друзей взглядов своих интересов на самом деле это было предательство меня предавали тоже сложный человек с тобой у меня скверный характер и дружить со мной очень сложно я достаточно эмоциональный человек очень зависимы\n"
          ]
        }
      ]
    },
    {
      "cell_type": "code",
      "metadata": {
        "id": "BUIY8bO8wcCf"
      },
      "source": [
        "ipd.display(ipd.Audio(team_path_buzova))"
      ],
      "execution_count": null,
      "outputs": []
    },
    {
      "cell_type": "code",
      "metadata": {
        "id": "lhihvNeosijr",
        "colab": {
          "base_uri": "https://localhost:8080/"
        },
        "outputId": "72993b49-15f2-4260-c830-cc69b6b0d88b"
      },
      "source": [
        "# client_path_splin = '/content/drive/My Drive/Аудио для Speech recognition/Сплин_Романс.wav'\n",
        "#original = 'и лампа не горит и врут календари и если ты давно хотела что то мне сказать то говори любой обманчив звук страшнее тишина когда в самый разгар веселья падает из рук бокал вина и черный кабинет и ждет в стволе патрон так тихо что я слышу как идет на глубине вагон метро на площади полки темно в конце строки и в телефонной трубке эти много лет спустя одни гудки и где то хлопнет дверь и дрогнут провода привет мы будем счастливы теперь и навсегда привет мы будем счастливы теперь и навсегда'\n",
        "res = recognizeAudio(team_path_buzova, duration=150)\n",
        "\n",
        "#print('Оригинал:               ', original)\n",
        "print('Результат распознавания:', res)\n",
        "#print('WER:', wer(original.lower(), res.lower()))"
      ],
      "execution_count": null,
      "outputs": [
        {
          "output_type": "stream",
          "name": "stdout",
          "text": [
            "Результат распознавания: Да просто кстати присутствовал там 3 июня презентация клипа водице и на тот момент стало модным направлениям блогерство прекрасно знаю что сейчас в тренде YouTube каналы блогеры Я всё ясно хотела для того чтобы тоже делать какие-то коллаборации ролики ролики хотела со мной приятно познакомиться многие ребята Меня знали Хотели со мной познакомиться мы стали дружить То есть марьяны ро Даша инстасамка там каграманов и мы стали так потихонечку где-то где-то где-то где-то где-то где-то дружи приглашать их на мероприятия то в ресторане то на открытие то на презентацию Как раз-таки Давида я видела его где-то Я тоже его пригласила на презентацию ещё в июня написала в Direct сама вот он уже потому что он просто понравился вот вот честно такого не было вообще не было Я слышала его там одну песню лет там потом Почему я был решил пригласить пригласить тебе просто придётся рассказывал её пригласила я даже не поняла пришёл не пришёл ты потом уже вспомнил я говорю ты ко мне вообще-то не пришёл в первый раз он не смог прийти потому что где-то он там был но и наша встреча 3 числа не состоялась Хотя возможно наше знакомство вообще бы раньше состоялся вот когда я планировала съёмки лайкера причём ты тоже вот так спонтанно потому что 2 августа у него хоть песня Мы сразу понимаем что тахит что она стреляет потому что мы можем сколько угодно быть уверенным в своём творчестве я Да но ты знаешь что есть такое понятие Как там зашёл или не зашёл вот лайкер зашёл так и водиться как это всё потому как все мои песня вообще не буду перечислять 40 песен из 2 альбомов и мне улетать 11 числа на план Б И я понимаю что мне нужно сейчас срочно быстро пока не улетела не пропала с радаров 2 вылетает из дома Ты всё в жизни не останавливается Да мне уже срочно снять клип Я думал кого кого кого кого же мне позвать и просто гоняю Ну куда же Конечно хочется чтобы это абсолютно нормально Когда ты интегрирует мне просто актёра до какого-то ещё яркого интересного персонажа как у меня была с Джереми микс когда просто все обалдели потому что он прилетел на wi-fi ты был такой остался и вся пресс-конференция стояла столько на съёмках либо когда у меня просто все\n"
          ]
        }
      ]
    },
    {
      "cell_type": "code",
      "metadata": {
        "id": "_l_WosX4wmAr"
      },
      "source": [
        "# Пример песни Аня Уварова - Улыбка (многоголосье во втором припеве)\n",
        "ipd.display(ipd.Audio(team_path_kiselev))"
      ],
      "execution_count": null,
      "outputs": []
    },
    {
      "cell_type": "code",
      "metadata": {
        "id": "o7cT54u34iWL",
        "colab": {
          "base_uri": "https://localhost:8080/"
        },
        "outputId": "9642ef3e-8b9d-4090-fe5e-9556759d8da8"
      },
      "source": [
        "# client_path_uvarova =  '/content/drive/My Drive/Аудио для Speech recognition/Аня Уварова_Улыбка.wav'\n",
        "#original = 'от улыбки хмурый день светлей от улыбки в небе радуга проснется поделись улыбкою своей и она к тебе не раз еще вернется и тогда наверняка вдруг запляшут облака и кузнечик запиликает на скрипке с голубого ручейка начинается река ну а дружба начинается с улыбки с голубого ручейка начинается река ну а дружба начинается с улыбки от улыбки солнечной одной перестанет плакать самый грустный дождик сонный лес простится с тишиной и захлопает в зеленые ладоши и тогда наверняка вдруг запляшут облака и кузнечик запиликает на скрипке с голубого ручейка начинается река ну а дружба начинается с улыбки с голубого ручейка начинается река ну а дружба начинается с улыбки от улыбки станет всем теплей и слону и даже маленькой улитке так пускай повсюду на земле будто лампочки включаются улыбки и тогда наверняка вдруг запляшут облака и кузнечик запиликает на скрипке с голубого ручейка начинается река ну а дружба начинается с улыбки с голубого ручейка начинается река ну а дружба начинается с улыбки'\n",
        "res = recognizeAudio(team_path_kiselev, duration=150)\n",
        "\n",
        "#print('Оригинал:               ', original)\n",
        "print('Результат распознавания:', res)\n",
        "#print('WER:', wer(original.lower(), res.lower()))"
      ],
      "execution_count": null,
      "outputs": [
        {
          "output_type": "stream",
          "name": "stdout",
          "text": [
            "Результат распознавания: русскую попсу России нуждается в научном культурном импульсе рэп как раз сейчас это как мне представляется есть тот самый импульса такой резонанс резонанс Когда вы уже отдали кепку треники опять на голубом огоньке Ну это было самоирония так Да действительно Я попробую себя в этом жанре И кстати рэпер меня поддержали тогда и это какие Ну Крабс например объясните чем ваше новогоднее выступление отличается от клипы Ибица Ибица даже Неприятно говорить когда два народных артиста купаем друг друга в экспериментах то мне представляется это недопустимо в Советском Союзе ты играет джаз сегодня ты играешь джаз А завтра родину продашь то сейчас это уже Америка Русская пословица они Запрещают играть джаз они мы вы по-прежнему фронтмен политического телевидения России я вроде как ваш коллега но молодой и в политике не так глубоко а во-первых сюжет про венесуэлу которого откуда стартовал ваш военный корреспондент В этом сюжете Вы рассказали что в Венесуэле происходит переворот что там появился президент самозванец который поддерживает Соединённые Штаты Америки что нынешний президент мадуро в общем-то хороший парень помогает бедным и его служба развозит по окраинам продовольственные пакеты Вы довольны этим сюжетом Да я доволен потому что Степаненко наш корреспондентом это военный корреспондент и он рассказывал то что видит но в этом сюжете не было ни слова про то что в Венесуэле максимальная минимальная зарплата и пенсия 11 долларов что после того как умер Чавес инфляция несколько миллионов процентов Что за последние три года за последние годы 3 млн граждан Венесуэлы уехали из страны от голода А 3 млн Венесуэла это 10% населения то есть примерно как из России не Приведи Бог уехал бы 15 млн не было несложно что Венесуэла обладает крупнейшими запасами нефти а граждане президента мадуро реально голодают и тоже не было ни слова что Россия постоянно поддерживал\n"
          ]
        }
      ]
    },
    {
      "cell_type": "code",
      "metadata": {
        "id": "j-xIKHc5b606"
      },
      "source": [
        "# Пример речи из интервью\n",
        "ipd.display(ipd.Audio(team_path_morgenshtern))"
      ],
      "execution_count": null,
      "outputs": []
    },
    {
      "cell_type": "code",
      "metadata": {
        "id": "1xRmprzN4dLF",
        "colab": {
          "base_uri": "https://localhost:8080/"
        },
        "outputId": "075e2f2b-bc26-4123-96c2-6c81fb0839c3"
      },
      "source": [
        "# client_path_interview = '/content/drive/My Drive/Аудио для Speech recognition/интервью.wav'\n",
        "#original = 'добрый день коллеги сегодня у нас в гостях человек которого вы надеюсь узнаете Это Александр Геннадьевич Дьяконов Надеюсь вы его знаете по соревнованиям кэггл либо Вы у него учились в МГУ это профессор вмк МГУ занимается машинным обучением давайте я в первую очередь спрошу Ну вот мы вас скорее всего знаем по соревнованиям кэггл вы один из первых успешных отечественных участников это платформа соревнований Скажите вот мы за вами следили Может быть сейчас не все знают чем вы занимаетесь какие проекты ведёте Связаны ли они с data science или может быть там вы уже в квантовые вычисления куда-то ушли то есть вы хотите successful стори есть ли жизнь после кэггла Да нет всё скажем так загадочно и неизвестно то есть у меня сейчас некая ну скажем так кризис среднего возраста некие изменения там в профессиональной сфере и в том числе возможно я поменяю там и род деятельности и место работы и так далее я сейчас пока подробно об этом не буду но есть такая большая вероятность вот Ну кроме того большие изменения в личной жизни там у меня ребёнок появился поэтому там свободного времени для того же кэггла естесственно нету вот а так всё по-прежнему Я преподаю в Московском университете сейчас очень много прикладных проектов то есть решают кучу задач вот в последние две недели на самом деле я там программировал в очень жестком режиме то есть приходилось там доделывать один проект вот так что всё Так буднично банально ничего интересного хорошо Да а вот Наверное в основном люди представляют что вы именно Эксперт в соревнованиях кэггл вот по поводу кэггла у меня может быть даже не вопрос или это такой развернутый вопрос или это вообще наброс но бытует мнение что конечно при всех достоинствах соревнования'\n",
        "res = recognizeAudio(team_path_morgenshtern, duration=150)\n",
        "\n",
        "#print('Оригинал:               ', original)\n",
        "print('Результат распознавания:', res)\n",
        "#print('WER:', wer(original.lower(), res.lower()))"
      ],
      "execution_count": null,
      "outputs": [
        {
          "output_type": "stream",
          "name": "stdout",
          "text": [
            "Результат распознавания: мы бы сюда вряд ли приходили Они и так всё знают В общем ребята моё имя но вы наверное знаете если не знаете вам Лучше наверное уйти потому что Видимо у вас нет интернета телевизора хотя бы его Мне нужно знать как построить личный бренд я сразу хочу сказать честно я я переживаю Я волнуюсь А для меня такое впервые я обычно выступаю под фанеру здесь мне приходится говорить ртом У меня обычно стоят заборы и Школьники не могут пробраться ко мне на сцену сегодня такого нет И честно немного переживаю и это Моё первое выступление в формате как это называется спикер посева посева и знаете что я решил я решил что абсолютно абсолютно не буду готовиться к сегодняшнему выступлению это как-бы такой Ну такая небольшая игра для самого себя вот поэтому если будут тупить вы как бы ну Не обессудьте Да если мы выступление кажется провальным то знаете что мне в любом случае заплатили и все это за будут через 2 дня спасибо спасибо вам а Итак я сделал презентацию пару дней назад я честно уже не особо помню что там поэтому сейчас вместе будем её смотреть О'кей так сказать в первый раз вместе с любимыми зрителями и так Ах волнительно мне дали пульт прикинься это я да я PowerPoint скачал Как вы поняли сегодня мы поговорим о построении личного бренда вот так могу бу\n"
          ]
        }
      ]
    },
    {
      "cell_type": "code",
      "metadata": {
        "id": "pHT85QuXw1QK"
      },
      "source": [
        "# Пример речи с дебатов\n",
        "ipd.display(ipd.Audio(team_path_shnurov))"
      ],
      "execution_count": null,
      "outputs": []
    },
    {
      "cell_type": "code",
      "metadata": {
        "id": "kGgq9i27HNoo",
        "colab": {
          "base_uri": "https://localhost:8080/"
        },
        "outputId": "758fa849-ce62-41bc-8bfd-3d62eef8dfd3"
      },
      "source": [
        "# client_path_debaty = '/content/drive/My Drive/Аудио для Speech recognition/дебаты шумные.wav'\n",
        "#original = \"совершенный беспредел совершенный там цены останавливаются произвольно вся экономика современной обороны и оборонной промышленности России лежит в разрухе григорий алексеевич и поедает все основные доходы кто пришел к власти в 91 году которые есть дорога есть вот я хотел американский явлинский чубайс гайдар вы пришли вы разворовали вот я вам могу сказать вы участники что я вы провели все эти реформы дурацкие хотел я хотел и сидите на поводке да у спецслужб запада значит я хотел бы подчеркнуть хотел бы подчеркнуть хватит говорить поскольку у меня поскольку остается 30 секунд у нас дебаты здесь то я хотел бы сказать на дебатах а не чтобы слушать маразм следующее 3 соображения на дебатах да лучше защищать предпринимателей чем пули это вам точнее второе что я очень важное хотел сказать что Сталин убийца Кровавый это вранье убийца это правда людей а жириновский дешевый лжец межнациональные конфликты при таком иконостасе страна не имеет перспективы только грязь можете и нашу родину спокойно ну прекратите уже в самом деле ну что ж это такое во-первых\"\n",
        "res = recognizeAudio(team_path_shnurov, duration=150)\n",
        "\n",
        "#print('Оригинал:               ', original)\n",
        "print('Результат распознавания:', res)\n",
        "#print('WER:', wer(original.lower(), res.lower()))"
      ],
      "execution_count": null,
      "outputs": [
        {
          "output_type": "stream",
          "name": "stdout",
          "text": [
            "Результат распознавания: рубля доллара тебя вообще это ты сделал А зачем ты включил Следи за курсом вот за тем что происходит с рублём тебя это какое-то панику повергает меня так молодец Зачем паника паника не продуктивная зачем она это всё чушь Я помню когда зарплату там средняя было Ты почему такая неплохая Да в стране 20 долларов иллюзии никуда не шли смотрели телевизор тоже также Причём здесь курс уровень жизни падает стремительно Ну я бы не сказал бы что стремительно Да ну Я высказал обвала Ну как Ну люди купили телевизоры гнида подорожало в два раза а зарплата не выросли мне скорее другой вопрос интересует за что люди получают зарплату В смысле никто ничего не делает по большому счёту Нет не происходит Где продукты их дела Нет я не вижу как группа Ленинград уживается с законом О мате в том смысле что этот закон по сути запрещает вам быть теми Кем Вы являетесь Максимум что чем он нам грозит так сказать закон этот не большими штрафами запретить группу Ленинград у не запрещает он может запретить тебе со сцены сказать слов нет у меня за это оштрафуют он не запрещает я не могу за это посадить Мне они могут за это ничего меня могут оштрафовать это по факту А приходи\n"
          ]
        }
      ]
    }
  ]
}