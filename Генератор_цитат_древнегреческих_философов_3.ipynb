{
  "cells": [
    {
      "cell_type": "markdown",
      "metadata": {
        "id": "view-in-github",
        "colab_type": "text"
      },
      "source": [
        "<a href=\"https://colab.research.google.com/github/ArtuomMerkulov/ArtuomMerkulov/blob/main/%D0%93%D0%B5%D0%BD%D0%B5%D1%80%D0%B0%D1%82%D0%BE%D1%80_%D1%86%D0%B8%D1%82%D0%B0%D1%82_%D0%B4%D1%80%D0%B5%D0%B2%D0%BD%D0%B5%D0%B3%D1%80%D0%B5%D1%87%D0%B5%D1%81%D0%BA%D0%B8%D1%85_%D1%84%D0%B8%D0%BB%D0%BE%D1%81%D0%BE%D1%84%D0%BE%D0%B2_3.ipynb\" target=\"_parent\"><img src=\"https://colab.research.google.com/assets/colab-badge.svg\" alt=\"Open In Colab\"/></a>"
      ]
    },
    {
      "cell_type": "code",
      "source": [
        "import numpy\n",
        "from keras.models import Sequential\n",
        "from keras.layers import Dense\n",
        "from keras.layers import Dropout\n",
        "from keras.layers import LSTM\n",
        "from keras.callbacks import ModelCheckpoint\n",
        "import matplotlib.pyplot as plt \n",
        "%matplotlib inline\n",
        "import seaborn as sns\n",
        "sns.set_style('darkgrid')\n",
        "from keras.utils import np_utils"
      ],
      "metadata": {
        "id": "kCd0-vwbHM1g"
      },
      "execution_count": 1,
      "outputs": []
    },
    {
      "cell_type": "code",
      "source": [
        "from google.colab import files\n",
        "from google.colab import drive\n",
        "drive.mount('/content/drive')"
      ],
      "metadata": {
        "id": "7wfSnS5jHXt8",
        "colab": {
          "base_uri": "https://localhost:8080/"
        },
        "outputId": "a5394eb4-8ff4-455e-ceed-bf0649f218a3"
      },
      "execution_count": 2,
      "outputs": [
        {
          "output_type": "stream",
          "name": "stdout",
          "text": [
            "Mounted at /content/drive\n"
          ]
        }
      ]
    },
    {
      "cell_type": "code",
      "source": [
        "filename = \"/content/drive/MyDrive/Numpy/philosophy_dataset.txt\"\n",
        "raw_text = open(filename).read()\n",
        "raw_text = raw_text.lower()"
      ],
      "metadata": {
        "id": "hH4vwrbDHTlz"
      },
      "execution_count": 3,
      "outputs": []
    },
    {
      "cell_type": "code",
      "source": [
        "chars = sorted(list(set(raw_text)))\n",
        "char_to_int = dict((c, i) for i, c in enumerate(chars))\n",
        "print(char_to_int)"
      ],
      "metadata": {
        "colab": {
          "base_uri": "https://localhost:8080/"
        },
        "id": "neTrwW8fIYIB",
        "outputId": "4980da44-2d24-41ce-8839-a36ae4c0bb43"
      },
      "execution_count": 4,
      "outputs": [
        {
          "output_type": "stream",
          "name": "stdout",
          "text": [
            "{'\\n': 0, '\\x0c': 1, ' ': 2, '!': 3, '(': 4, ')': 5, ',': 6, '-': 7, '.': 8, ':': 9, ';': 10, '?': 11, 'c': 12, '«': 13, '»': 14, 'а': 15, 'б': 16, 'в': 17, 'г': 18, 'д': 19, 'е': 20, 'ж': 21, 'з': 22, 'и': 23, 'й': 24, 'к': 25, 'л': 26, 'м': 27, 'н': 28, 'о': 29, 'п': 30, 'р': 31, 'с': 32, 'т': 33, 'у': 34, 'ф': 35, 'х': 36, 'ц': 37, 'ч': 38, 'ш': 39, 'щ': 40, 'ъ': 41, 'ы': 42, 'ь': 43, 'э': 44, 'ю': 45, 'я': 46, 'ё': 47, '–': 48, '—': 49, '…': 50}\n"
          ]
        }
      ]
    },
    {
      "cell_type": "code",
      "source": [
        "n_chars = len(raw_text)\n",
        "n_vocab = len(chars)\n",
        "print(\"Total Characters: \", n_chars)\n",
        "print(\"Total Vocab: \", n_vocab)"
      ],
      "metadata": {
        "colab": {
          "base_uri": "https://localhost:8080/"
        },
        "id": "vS1m0RIsI-iU",
        "outputId": "b8ae7ffa-d457-4648-a575-ee28d0b1be8b"
      },
      "execution_count": 5,
      "outputs": [
        {
          "output_type": "stream",
          "name": "stdout",
          "text": [
            "Total Characters:  21016\n",
            "Total Vocab:  51\n"
          ]
        }
      ]
    },
    {
      "cell_type": "code",
      "source": [
        "seq_length = 1000\n",
        "dataX = []\n",
        "dataY = []\n",
        "for i in range(0, n_chars - seq_length, 1):\n",
        "\tseq_in = raw_text[i:i + seq_length]\n",
        "\tseq_out = raw_text[i + seq_length]\n",
        "\tdataX.append([char_to_int[char] for char in seq_in])\n",
        "\tdataY.append(char_to_int[seq_out])\n",
        "n_patterns = len(dataX)\n",
        "print(\"Total Patterns: \", n_patterns)"
      ],
      "metadata": {
        "colab": {
          "base_uri": "https://localhost:8080/"
        },
        "id": "mwD7AsOfJYk-",
        "outputId": "755c2fd7-9dc0-4686-c775-1bb2ea570bce"
      },
      "execution_count": 6,
      "outputs": [
        {
          "output_type": "stream",
          "name": "stdout",
          "text": [
            "Total Patterns:  20016\n"
          ]
        }
      ]
    },
    {
      "cell_type": "code",
      "source": [
        "X = numpy.reshape(dataX, (n_patterns, seq_length, 1))\n",
        "# normalize\n",
        "X = X / float(n_vocab)\n",
        "# one hot encode the output variable\n",
        "y = np_utils.to_categorical(dataY)"
      ],
      "metadata": {
        "id": "pC7Mhl4iJoNX"
      },
      "execution_count": 7,
      "outputs": []
    },
    {
      "cell_type": "code",
      "source": [
        "model = Sequential()\n",
        "model.add(LSTM(512, input_shape=(X.shape[1], X.shape[2])))\n",
        "model.add(Dropout(0.2))\n",
        "#model.add(LSTM(256))\n",
        "#model.add(Dropout(0.2))\n",
        "model.add(Dense(y.shape[1], activation='softmax'))\n",
        "model.compile(loss='categorical_crossentropy', optimizer='adam')"
      ],
      "metadata": {
        "id": "cRIs8nk1Jy1Z"
      },
      "execution_count": 8,
      "outputs": []
    },
    {
      "cell_type": "code",
      "source": [
        "filepath=\"weights-improvement-{epoch:02d}-{loss:.4f}.hdf5\"\n",
        "checkpoint = ModelCheckpoint(filepath, monitor='loss', verbose=1, save_best_only=True, mode='min')\n",
        "callbacks_list = [checkpoint]"
      ],
      "metadata": {
        "id": "yibzp39qKO0f"
      },
      "execution_count": 9,
      "outputs": []
    },
    {
      "cell_type": "code",
      "source": [
        "x = model.fit(X, y, epochs=90, batch_size=256, callbacks=callbacks_list)"
      ],
      "metadata": {
        "colab": {
          "base_uri": "https://localhost:8080/"
        },
        "id": "0xlfACRTKQ5C",
        "outputId": "7280b44c-7c49-4c6d-a067-125cd71c9ee4"
      },
      "execution_count": 10,
      "outputs": [
        {
          "output_type": "stream",
          "name": "stdout",
          "text": [
            "Epoch 1/90\n",
            "79/79 [==============================] - ETA: 0s - loss: 3.2768\n",
            "Epoch 1: loss improved from inf to 3.27679, saving model to weights-improvement-01-3.2768.hdf5\n",
            "79/79 [==============================] - 49s 538ms/step - loss: 3.2768\n",
            "Epoch 2/90\n",
            "79/79 [==============================] - ETA: 0s - loss: 3.2113\n",
            "Epoch 2: loss improved from 3.27679 to 3.21130, saving model to weights-improvement-02-3.2113.hdf5\n",
            "79/79 [==============================] - 43s 547ms/step - loss: 3.2113\n",
            "Epoch 3/90\n",
            "79/79 [==============================] - ETA: 0s - loss: 3.2081\n",
            "Epoch 3: loss improved from 3.21130 to 3.20809, saving model to weights-improvement-03-3.2081.hdf5\n",
            "79/79 [==============================] - 42s 536ms/step - loss: 3.2081\n",
            "Epoch 4/90\n",
            "79/79 [==============================] - ETA: 0s - loss: 3.2041\n",
            "Epoch 4: loss improved from 3.20809 to 3.20414, saving model to weights-improvement-04-3.2041.hdf5\n",
            "79/79 [==============================] - 43s 540ms/step - loss: 3.2041\n",
            "Epoch 5/90\n",
            "79/79 [==============================] - ETA: 0s - loss: 3.2008\n",
            "Epoch 5: loss improved from 3.20414 to 3.20077, saving model to weights-improvement-05-3.2008.hdf5\n",
            "79/79 [==============================] - 43s 545ms/step - loss: 3.2008\n",
            "Epoch 6/90\n",
            "79/79 [==============================] - ETA: 0s - loss: 3.1895\n",
            "Epoch 6: loss improved from 3.20077 to 3.18952, saving model to weights-improvement-06-3.1895.hdf5\n",
            "79/79 [==============================] - 43s 549ms/step - loss: 3.1895\n",
            "Epoch 7/90\n",
            "79/79 [==============================] - ETA: 0s - loss: 3.1673\n",
            "Epoch 7: loss improved from 3.18952 to 3.16726, saving model to weights-improvement-07-3.1673.hdf5\n",
            "79/79 [==============================] - 43s 545ms/step - loss: 3.1673\n",
            "Epoch 8/90\n",
            "79/79 [==============================] - ETA: 0s - loss: 3.1300\n",
            "Epoch 8: loss improved from 3.16726 to 3.13003, saving model to weights-improvement-08-3.1300.hdf5\n",
            "79/79 [==============================] - 43s 544ms/step - loss: 3.1300\n",
            "Epoch 9/90\n",
            "79/79 [==============================] - ETA: 0s - loss: 3.0929\n",
            "Epoch 9: loss improved from 3.13003 to 3.09291, saving model to weights-improvement-09-3.0929.hdf5\n",
            "79/79 [==============================] - 43s 546ms/step - loss: 3.0929\n",
            "Epoch 10/90\n",
            "79/79 [==============================] - ETA: 0s - loss: 3.0739\n",
            "Epoch 10: loss improved from 3.09291 to 3.07394, saving model to weights-improvement-10-3.0739.hdf5\n",
            "79/79 [==============================] - 43s 541ms/step - loss: 3.0739\n",
            "Epoch 11/90\n",
            "79/79 [==============================] - ETA: 0s - loss: 3.0569\n",
            "Epoch 11: loss improved from 3.07394 to 3.05685, saving model to weights-improvement-11-3.0569.hdf5\n",
            "79/79 [==============================] - 44s 553ms/step - loss: 3.0569\n",
            "Epoch 12/90\n",
            "79/79 [==============================] - ETA: 0s - loss: 3.0438\n",
            "Epoch 12: loss improved from 3.05685 to 3.04377, saving model to weights-improvement-12-3.0438.hdf5\n",
            "79/79 [==============================] - 44s 551ms/step - loss: 3.0438\n",
            "Epoch 13/90\n",
            "79/79 [==============================] - ETA: 0s - loss: 3.0239\n",
            "Epoch 13: loss improved from 3.04377 to 3.02395, saving model to weights-improvement-13-3.0239.hdf5\n",
            "79/79 [==============================] - 44s 552ms/step - loss: 3.0239\n",
            "Epoch 14/90\n",
            "79/79 [==============================] - ETA: 0s - loss: 3.0167\n",
            "Epoch 14: loss improved from 3.02395 to 3.01667, saving model to weights-improvement-14-3.0167.hdf5\n",
            "79/79 [==============================] - 43s 549ms/step - loss: 3.0167\n",
            "Epoch 15/90\n",
            "79/79 [==============================] - ETA: 0s - loss: 3.0040\n",
            "Epoch 15: loss improved from 3.01667 to 3.00399, saving model to weights-improvement-15-3.0040.hdf5\n",
            "79/79 [==============================] - 44s 555ms/step - loss: 3.0040\n",
            "Epoch 16/90\n",
            "79/79 [==============================] - ETA: 0s - loss: 2.9878\n",
            "Epoch 16: loss improved from 3.00399 to 2.98782, saving model to weights-improvement-16-2.9878.hdf5\n",
            "79/79 [==============================] - 45s 567ms/step - loss: 2.9878\n",
            "Epoch 17/90\n",
            "79/79 [==============================] - ETA: 0s - loss: 2.9763\n",
            "Epoch 17: loss improved from 2.98782 to 2.97625, saving model to weights-improvement-17-2.9763.hdf5\n",
            "79/79 [==============================] - 45s 565ms/step - loss: 2.9763\n",
            "Epoch 18/90\n",
            "79/79 [==============================] - ETA: 0s - loss: 2.9563\n",
            "Epoch 18: loss improved from 2.97625 to 2.95630, saving model to weights-improvement-18-2.9563.hdf5\n",
            "79/79 [==============================] - 45s 565ms/step - loss: 2.9563\n",
            "Epoch 19/90\n",
            "79/79 [==============================] - ETA: 0s - loss: 2.9388\n",
            "Epoch 19: loss improved from 2.95630 to 2.93884, saving model to weights-improvement-19-2.9388.hdf5\n",
            "79/79 [==============================] - 45s 574ms/step - loss: 2.9388\n",
            "Epoch 20/90\n",
            "79/79 [==============================] - ETA: 0s - loss: 2.9262\n",
            "Epoch 20: loss improved from 2.93884 to 2.92623, saving model to weights-improvement-20-2.9262.hdf5\n",
            "79/79 [==============================] - 46s 577ms/step - loss: 2.9262\n",
            "Epoch 21/90\n",
            "79/79 [==============================] - ETA: 0s - loss: 2.9055\n",
            "Epoch 21: loss improved from 2.92623 to 2.90552, saving model to weights-improvement-21-2.9055.hdf5\n",
            "79/79 [==============================] - 46s 577ms/step - loss: 2.9055\n",
            "Epoch 22/90\n",
            "79/79 [==============================] - ETA: 0s - loss: 2.8857\n",
            "Epoch 22: loss improved from 2.90552 to 2.88571, saving model to weights-improvement-22-2.8857.hdf5\n",
            "79/79 [==============================] - 46s 576ms/step - loss: 2.8857\n",
            "Epoch 23/90\n",
            "79/79 [==============================] - ETA: 0s - loss: 2.8579\n",
            "Epoch 23: loss improved from 2.88571 to 2.85788, saving model to weights-improvement-23-2.8579.hdf5\n",
            "79/79 [==============================] - 46s 576ms/step - loss: 2.8579\n",
            "Epoch 24/90\n",
            "79/79 [==============================] - ETA: 0s - loss: 2.8257\n",
            "Epoch 24: loss improved from 2.85788 to 2.82573, saving model to weights-improvement-24-2.8257.hdf5\n",
            "79/79 [==============================] - 46s 576ms/step - loss: 2.8257\n",
            "Epoch 25/90\n",
            "79/79 [==============================] - ETA: 0s - loss: 2.7847\n",
            "Epoch 25: loss improved from 2.82573 to 2.78469, saving model to weights-improvement-25-2.7847.hdf5\n",
            "79/79 [==============================] - 45s 575ms/step - loss: 2.7847\n",
            "Epoch 26/90\n",
            "79/79 [==============================] - ETA: 0s - loss: 2.7438\n",
            "Epoch 26: loss improved from 2.78469 to 2.74381, saving model to weights-improvement-26-2.7438.hdf5\n",
            "79/79 [==============================] - 45s 576ms/step - loss: 2.7438\n",
            "Epoch 27/90\n",
            "79/79 [==============================] - ETA: 0s - loss: 2.6911\n",
            "Epoch 27: loss improved from 2.74381 to 2.69106, saving model to weights-improvement-27-2.6911.hdf5\n",
            "79/79 [==============================] - 46s 577ms/step - loss: 2.6911\n",
            "Epoch 28/90\n",
            "79/79 [==============================] - ETA: 0s - loss: 2.6396\n",
            "Epoch 28: loss improved from 2.69106 to 2.63959, saving model to weights-improvement-28-2.6396.hdf5\n",
            "79/79 [==============================] - 46s 577ms/step - loss: 2.6396\n",
            "Epoch 29/90\n",
            "79/79 [==============================] - ETA: 0s - loss: 2.5749\n",
            "Epoch 29: loss improved from 2.63959 to 2.57488, saving model to weights-improvement-29-2.5749.hdf5\n",
            "79/79 [==============================] - 46s 577ms/step - loss: 2.5749\n",
            "Epoch 30/90\n",
            "79/79 [==============================] - ETA: 0s - loss: 2.4988\n",
            "Epoch 30: loss improved from 2.57488 to 2.49881, saving model to weights-improvement-30-2.4988.hdf5\n",
            "79/79 [==============================] - 46s 577ms/step - loss: 2.4988\n",
            "Epoch 31/90\n",
            "79/79 [==============================] - ETA: 0s - loss: 2.4108\n",
            "Epoch 31: loss improved from 2.49881 to 2.41079, saving model to weights-improvement-31-2.4108.hdf5\n",
            "79/79 [==============================] - 46s 578ms/step - loss: 2.4108\n",
            "Epoch 32/90\n",
            "79/79 [==============================] - ETA: 0s - loss: 2.3178\n",
            "Epoch 32: loss improved from 2.41079 to 2.31778, saving model to weights-improvement-32-2.3178.hdf5\n",
            "79/79 [==============================] - 46s 578ms/step - loss: 2.3178\n",
            "Epoch 33/90\n",
            "79/79 [==============================] - ETA: 0s - loss: 2.2072\n",
            "Epoch 33: loss improved from 2.31778 to 2.20718, saving model to weights-improvement-33-2.2072.hdf5\n",
            "79/79 [==============================] - 46s 577ms/step - loss: 2.2072\n",
            "Epoch 34/90\n",
            "79/79 [==============================] - ETA: 0s - loss: 2.0845\n",
            "Epoch 34: loss improved from 2.20718 to 2.08445, saving model to weights-improvement-34-2.0845.hdf5\n",
            "79/79 [==============================] - 46s 578ms/step - loss: 2.0845\n",
            "Epoch 35/90\n",
            "79/79 [==============================] - ETA: 0s - loss: 1.9538\n",
            "Epoch 35: loss improved from 2.08445 to 1.95380, saving model to weights-improvement-35-1.9538.hdf5\n",
            "79/79 [==============================] - 45s 576ms/step - loss: 1.9538\n",
            "Epoch 36/90\n",
            "79/79 [==============================] - ETA: 0s - loss: 1.8020\n",
            "Epoch 36: loss improved from 1.95380 to 1.80205, saving model to weights-improvement-36-1.8020.hdf5\n",
            "79/79 [==============================] - 45s 569ms/step - loss: 1.8020\n",
            "Epoch 37/90\n",
            "79/79 [==============================] - ETA: 0s - loss: 1.6597\n",
            "Epoch 37: loss improved from 1.80205 to 1.65972, saving model to weights-improvement-37-1.6597.hdf5\n",
            "79/79 [==============================] - 45s 568ms/step - loss: 1.6597\n",
            "Epoch 38/90\n",
            "79/79 [==============================] - ETA: 0s - loss: 1.5029\n",
            "Epoch 38: loss improved from 1.65972 to 1.50289, saving model to weights-improvement-38-1.5029.hdf5\n",
            "79/79 [==============================] - 45s 570ms/step - loss: 1.5029\n",
            "Epoch 39/90\n",
            "79/79 [==============================] - ETA: 0s - loss: 1.3468\n",
            "Epoch 39: loss improved from 1.50289 to 1.34684, saving model to weights-improvement-39-1.3468.hdf5\n",
            "79/79 [==============================] - 45s 569ms/step - loss: 1.3468\n",
            "Epoch 40/90\n",
            "79/79 [==============================] - ETA: 0s - loss: 1.1948\n",
            "Epoch 40: loss improved from 1.34684 to 1.19485, saving model to weights-improvement-40-1.1948.hdf5\n",
            "79/79 [==============================] - 45s 567ms/step - loss: 1.1948\n",
            "Epoch 41/90\n",
            "79/79 [==============================] - ETA: 0s - loss: 1.0433\n",
            "Epoch 41: loss improved from 1.19485 to 1.04332, saving model to weights-improvement-41-1.0433.hdf5\n",
            "79/79 [==============================] - 45s 567ms/step - loss: 1.0433\n",
            "Epoch 42/90\n",
            "79/79 [==============================] - ETA: 0s - loss: 0.8982\n",
            "Epoch 42: loss improved from 1.04332 to 0.89817, saving model to weights-improvement-42-0.8982.hdf5\n",
            "79/79 [==============================] - 45s 567ms/step - loss: 0.8982\n",
            "Epoch 43/90\n",
            "79/79 [==============================] - ETA: 0s - loss: 0.7757\n",
            "Epoch 43: loss improved from 0.89817 to 0.77565, saving model to weights-improvement-43-0.7757.hdf5\n",
            "79/79 [==============================] - 45s 569ms/step - loss: 0.7757\n",
            "Epoch 44/90\n",
            "79/79 [==============================] - ETA: 0s - loss: 0.6426\n",
            "Epoch 44: loss improved from 0.77565 to 0.64259, saving model to weights-improvement-44-0.6426.hdf5\n",
            "79/79 [==============================] - 45s 568ms/step - loss: 0.6426\n",
            "Epoch 45/90\n",
            "79/79 [==============================] - ETA: 0s - loss: 0.5435\n",
            "Epoch 45: loss improved from 0.64259 to 0.54347, saving model to weights-improvement-45-0.5435.hdf5\n",
            "79/79 [==============================] - 45s 574ms/step - loss: 0.5435\n",
            "Epoch 46/90\n",
            "79/79 [==============================] - ETA: 0s - loss: 0.4376\n",
            "Epoch 46: loss improved from 0.54347 to 0.43760, saving model to weights-improvement-46-0.4376.hdf5\n",
            "79/79 [==============================] - 46s 583ms/step - loss: 0.4376\n",
            "Epoch 47/90\n",
            "79/79 [==============================] - ETA: 0s - loss: 0.3651\n",
            "Epoch 47: loss improved from 0.43760 to 0.36509, saving model to weights-improvement-47-0.3651.hdf5\n",
            "79/79 [==============================] - 46s 583ms/step - loss: 0.3651\n",
            "Epoch 48/90\n",
            "79/79 [==============================] - ETA: 0s - loss: 0.2951\n",
            "Epoch 48: loss improved from 0.36509 to 0.29514, saving model to weights-improvement-48-0.2951.hdf5\n",
            "79/79 [==============================] - 46s 582ms/step - loss: 0.2951\n",
            "Epoch 49/90\n",
            "79/79 [==============================] - ETA: 0s - loss: 0.2268\n",
            "Epoch 49: loss improved from 0.29514 to 0.22683, saving model to weights-improvement-49-0.2268.hdf5\n",
            "79/79 [==============================] - 46s 581ms/step - loss: 0.2268\n",
            "Epoch 50/90\n",
            "79/79 [==============================] - ETA: 0s - loss: 0.1799\n",
            "Epoch 50: loss improved from 0.22683 to 0.17990, saving model to weights-improvement-50-0.1799.hdf5\n",
            "79/79 [==============================] - 46s 583ms/step - loss: 0.1799\n",
            "Epoch 51/90\n",
            "79/79 [==============================] - ETA: 0s - loss: 0.1354\n",
            "Epoch 51: loss improved from 0.17990 to 0.13542, saving model to weights-improvement-51-0.1354.hdf5\n",
            "79/79 [==============================] - 46s 580ms/step - loss: 0.1354\n",
            "Epoch 52/90\n",
            "79/79 [==============================] - ETA: 0s - loss: 0.1001\n",
            "Epoch 52: loss improved from 0.13542 to 0.10008, saving model to weights-improvement-52-0.1001.hdf5\n",
            "79/79 [==============================] - 45s 575ms/step - loss: 0.1001\n",
            "Epoch 53/90\n",
            "79/79 [==============================] - ETA: 0s - loss: 0.0801\n",
            "Epoch 53: loss improved from 0.10008 to 0.08015, saving model to weights-improvement-53-0.0801.hdf5\n",
            "79/79 [==============================] - 45s 571ms/step - loss: 0.0801\n",
            "Epoch 54/90\n",
            "79/79 [==============================] - ETA: 0s - loss: 0.0678\n",
            "Epoch 54: loss improved from 0.08015 to 0.06783, saving model to weights-improvement-54-0.0678.hdf5\n",
            "79/79 [==============================] - 45s 571ms/step - loss: 0.0678\n",
            "Epoch 55/90\n",
            "79/79 [==============================] - ETA: 0s - loss: 0.0562\n",
            "Epoch 55: loss improved from 0.06783 to 0.05617, saving model to weights-improvement-55-0.0562.hdf5\n",
            "79/79 [==============================] - 45s 572ms/step - loss: 0.0562\n",
            "Epoch 56/90\n",
            "79/79 [==============================] - ETA: 0s - loss: 0.0498\n",
            "Epoch 56: loss improved from 0.05617 to 0.04983, saving model to weights-improvement-56-0.0498.hdf5\n",
            "79/79 [==============================] - 46s 577ms/step - loss: 0.0498\n",
            "Epoch 57/90\n",
            "79/79 [==============================] - ETA: 0s - loss: 0.0522\n",
            "Epoch 57: loss did not improve from 0.04983\n",
            "79/79 [==============================] - 46s 577ms/step - loss: 0.0522\n",
            "Epoch 58/90\n",
            "79/79 [==============================] - ETA: 0s - loss: 0.0424\n",
            "Epoch 58: loss improved from 0.04983 to 0.04235, saving model to weights-improvement-58-0.0424.hdf5\n",
            "79/79 [==============================] - 45s 575ms/step - loss: 0.0424\n",
            "Epoch 59/90\n",
            "79/79 [==============================] - ETA: 0s - loss: 0.0334\n",
            "Epoch 59: loss improved from 0.04235 to 0.03336, saving model to weights-improvement-59-0.0334.hdf5\n",
            "79/79 [==============================] - 46s 576ms/step - loss: 0.0334\n",
            "Epoch 60/90\n",
            "79/79 [==============================] - ETA: 0s - loss: 0.0300\n",
            "Epoch 60: loss improved from 0.03336 to 0.03004, saving model to weights-improvement-60-0.0300.hdf5\n",
            "79/79 [==============================] - 46s 577ms/step - loss: 0.0300\n",
            "Epoch 61/90\n",
            "79/79 [==============================] - ETA: 0s - loss: 0.0256\n",
            "Epoch 61: loss improved from 0.03004 to 0.02556, saving model to weights-improvement-61-0.0256.hdf5\n",
            "79/79 [==============================] - 46s 577ms/step - loss: 0.0256\n",
            "Epoch 62/90\n",
            "79/79 [==============================] - ETA: 0s - loss: 0.0234\n",
            "Epoch 62: loss improved from 0.02556 to 0.02343, saving model to weights-improvement-62-0.0234.hdf5\n",
            "79/79 [==============================] - 46s 577ms/step - loss: 0.0234\n",
            "Epoch 63/90\n",
            "79/79 [==============================] - ETA: 0s - loss: 0.0220\n",
            "Epoch 63: loss improved from 0.02343 to 0.02201, saving model to weights-improvement-63-0.0220.hdf5\n",
            "79/79 [==============================] - 46s 577ms/step - loss: 0.0220\n",
            "Epoch 64/90\n",
            "79/79 [==============================] - ETA: 0s - loss: 0.0205\n",
            "Epoch 64: loss improved from 0.02201 to 0.02048, saving model to weights-improvement-64-0.0205.hdf5\n",
            "79/79 [==============================] - 46s 577ms/step - loss: 0.0205\n",
            "Epoch 65/90\n",
            "79/79 [==============================] - ETA: 0s - loss: 0.0179\n",
            "Epoch 65: loss improved from 0.02048 to 0.01788, saving model to weights-improvement-65-0.0179.hdf5\n",
            "79/79 [==============================] - 45s 576ms/step - loss: 0.0179\n",
            "Epoch 66/90\n",
            "79/79 [==============================] - ETA: 0s - loss: 0.0170\n",
            "Epoch 66: loss improved from 0.01788 to 0.01703, saving model to weights-improvement-66-0.0170.hdf5\n",
            "79/79 [==============================] - 45s 576ms/step - loss: 0.0170\n",
            "Epoch 67/90\n",
            "79/79 [==============================] - ETA: 0s - loss: 0.0159\n",
            "Epoch 67: loss improved from 0.01703 to 0.01594, saving model to weights-improvement-67-0.0159.hdf5\n",
            "79/79 [==============================] - 46s 577ms/step - loss: 0.0159\n",
            "Epoch 68/90\n",
            "79/79 [==============================] - ETA: 0s - loss: 0.1978\n",
            "Epoch 68: loss did not improve from 0.01594\n",
            "79/79 [==============================] - 46s 577ms/step - loss: 0.1978\n",
            "Epoch 69/90\n",
            "79/79 [==============================] - ETA: 0s - loss: 3.7617\n",
            "Epoch 69: loss did not improve from 0.01594\n",
            "79/79 [==============================] - 45s 573ms/step - loss: 3.7617\n",
            "Epoch 70/90\n",
            "79/79 [==============================] - ETA: 0s - loss: 3.1304\n",
            "Epoch 70: loss did not improve from 0.01594\n",
            "79/79 [==============================] - 45s 572ms/step - loss: 3.1304\n",
            "Epoch 71/90\n",
            "79/79 [==============================] - ETA: 0s - loss: 3.1036\n",
            "Epoch 71: loss did not improve from 0.01594\n",
            "79/79 [==============================] - 46s 577ms/step - loss: 3.1036\n",
            "Epoch 72/90\n",
            "79/79 [==============================] - ETA: 0s - loss: 3.0873\n",
            "Epoch 72: loss did not improve from 0.01594\n",
            "79/79 [==============================] - 46s 576ms/step - loss: 3.0873\n",
            "Epoch 73/90\n",
            "79/79 [==============================] - ETA: 0s - loss: 3.0769\n",
            "Epoch 73: loss did not improve from 0.01594\n",
            "79/79 [==============================] - 46s 577ms/step - loss: 3.0769\n",
            "Epoch 74/90\n",
            "79/79 [==============================] - ETA: 0s - loss: 3.0696\n",
            "Epoch 74: loss did not improve from 0.01594\n",
            "79/79 [==============================] - 46s 577ms/step - loss: 3.0696\n",
            "Epoch 75/90\n",
            "79/79 [==============================] - ETA: 0s - loss: 3.0628\n",
            "Epoch 75: loss did not improve from 0.01594\n",
            "79/79 [==============================] - 46s 578ms/step - loss: 3.0628\n",
            "Epoch 76/90\n",
            "79/79 [==============================] - ETA: 0s - loss: 3.0614\n",
            "Epoch 76: loss did not improve from 0.01594\n",
            "79/79 [==============================] - 46s 577ms/step - loss: 3.0614\n",
            "Epoch 77/90\n",
            "79/79 [==============================] - ETA: 0s - loss: 3.0569\n",
            "Epoch 77: loss did not improve from 0.01594\n",
            "79/79 [==============================] - 46s 577ms/step - loss: 3.0569\n",
            "Epoch 78/90\n",
            "79/79 [==============================] - ETA: 0s - loss: 3.0509\n",
            "Epoch 78: loss did not improve from 0.01594\n",
            "79/79 [==============================] - 46s 576ms/step - loss: 3.0509\n",
            "Epoch 79/90\n",
            "79/79 [==============================] - ETA: 0s - loss: 3.0481\n",
            "Epoch 79: loss did not improve from 0.01594\n",
            "79/79 [==============================] - 46s 578ms/step - loss: 3.0481\n",
            "Epoch 80/90\n",
            "79/79 [==============================] - ETA: 0s - loss: 3.0439\n",
            "Epoch 80: loss did not improve from 0.01594\n",
            "79/79 [==============================] - 46s 577ms/step - loss: 3.0439\n",
            "Epoch 81/90\n",
            "79/79 [==============================] - ETA: 0s - loss: 3.0462\n",
            "Epoch 81: loss did not improve from 0.01594\n",
            "79/79 [==============================] - 46s 577ms/step - loss: 3.0462\n",
            "Epoch 82/90\n",
            "79/79 [==============================] - ETA: 0s - loss: 3.0399\n",
            "Epoch 82: loss did not improve from 0.01594\n",
            "79/79 [==============================] - 46s 577ms/step - loss: 3.0399\n",
            "Epoch 83/90\n",
            "79/79 [==============================] - ETA: 0s - loss: 3.0351\n",
            "Epoch 83: loss did not improve from 0.01594\n",
            "79/79 [==============================] - 46s 577ms/step - loss: 3.0351\n",
            "Epoch 84/90\n",
            "79/79 [==============================] - ETA: 0s - loss: 3.0394\n",
            "Epoch 84: loss did not improve from 0.01594\n",
            "79/79 [==============================] - 46s 577ms/step - loss: 3.0394\n",
            "Epoch 85/90\n",
            "79/79 [==============================] - ETA: 0s - loss: 3.0362\n",
            "Epoch 85: loss did not improve from 0.01594\n",
            "79/79 [==============================] - 46s 578ms/step - loss: 3.0362\n",
            "Epoch 86/90\n",
            "79/79 [==============================] - ETA: 0s - loss: 3.0316\n",
            "Epoch 86: loss did not improve from 0.01594\n",
            "79/79 [==============================] - 46s 576ms/step - loss: 3.0316\n",
            "Epoch 87/90\n",
            "79/79 [==============================] - ETA: 0s - loss: 3.0332\n",
            "Epoch 87: loss did not improve from 0.01594\n",
            "79/79 [==============================] - 45s 575ms/step - loss: 3.0332\n",
            "Epoch 88/90\n",
            "79/79 [==============================] - ETA: 0s - loss: 3.0275\n",
            "Epoch 88: loss did not improve from 0.01594\n",
            "79/79 [==============================] - 46s 577ms/step - loss: 3.0275\n",
            "Epoch 89/90\n",
            "79/79 [==============================] - ETA: 0s - loss: 3.0286\n",
            "Epoch 89: loss did not improve from 0.01594\n",
            "79/79 [==============================] - 45s 575ms/step - loss: 3.0286\n",
            "Epoch 90/90\n",
            "79/79 [==============================] - ETA: 0s - loss: 3.0279\n",
            "Epoch 90: loss did not improve from 0.01594\n",
            "79/79 [==============================] - 45s 575ms/step - loss: 3.0279\n"
          ]
        }
      ]
    },
    {
      "cell_type": "code",
      "source": [
        "history = x"
      ],
      "metadata": {
        "id": "LYJGB1b5iVYe"
      },
      "execution_count": 11,
      "outputs": []
    },
    {
      "cell_type": "code",
      "source": [
        "plt.figure(figsize = (14, 7))\n",
        "plt.plot(history.history['loss'], label='Значение ошибки каждого файла на обучающем наборе')\n",
        "plt.xlabel('Эпоха обучения')\n",
        "plt.ylabel('Значение ошибки')\n",
        "plt.legend()\n",
        "plt.show()"
      ],
      "metadata": {
        "colab": {
          "base_uri": "https://localhost:8080/",
          "height": 442
        },
        "id": "dTclLTe7NiyD",
        "outputId": "73b87553-8f39-4f24-d2d3-69c06f09a3f2"
      },
      "execution_count": 12,
      "outputs": [
        {
          "output_type": "display_data",
          "data": {
            "text/plain": [
              "<Figure size 1008x504 with 1 Axes>"
            ],
            "image/png": "[encoded data removed]"
          },
          "metadata": {}
        }
      ]
    },
    {
      "cell_type": "code",
      "source": [
        "# load the network weights\n",
        "filename = \"weights-improvement-67-0.0159.hdf5\"\n",
        "model.load_weights(filename)\n",
        "model.compile(loss='categorical_crossentropy', optimizer='adam')"
      ],
      "metadata": {
        "id": "vNwmIqt_KuoT"
      },
      "execution_count": 13,
      "outputs": []
    },
    {
      "cell_type": "code",
      "source": [
        "int_to_char = dict((i, c) for i, c in enumerate(chars))"
      ],
      "metadata": {
        "id": "REJh6fSPQKgp"
      },
      "execution_count": 14,
      "outputs": []
    },
    {
      "cell_type": "code",
      "source": [
        "import sys"
      ],
      "metadata": {
        "id": "sFwFSmozQoDX"
      },
      "execution_count": 15,
      "outputs": []
    },
    {
      "cell_type": "code",
      "source": [
        "start = numpy.random.randint(0, len(dataX)-1)\n",
        "pattern = dataX[start]\n",
        "print(\"Read:\")\n",
        "print(\"\\\"\", ''.join([int_to_char[value] for value in pattern]), \"\\\"\")\n",
        "# generate characters\n",
        "for i in range(1000):\n",
        "\tx = numpy.reshape(pattern, (1, len(pattern), 1))\n",
        "\tx = x / float(n_vocab)\n",
        "\tprediction = model.predict(x, verbose=0)\n",
        "\tindex = numpy.argmax(prediction)\n",
        "\tresult = int_to_char[index]\n",
        "\tseq_in = [int_to_char[value] for value in pattern]\n",
        "\tsys.stdout.write(result)\n",
        "\tpattern.append(index)\n",
        "\tpattern = pattern[1:len(pattern)]\n",
        "print(\"\\nDone.\")"
      ],
      "metadata": {
        "colab": {
          "base_uri": "https://localhost:8080/"
        },
        "id": "Ts-z6wLcQPTz",
        "outputId": "2ff152b4-3495-4039-c053-9795d48a5753"
      },
      "execution_count": 17,
      "outputs": [
        {
          "output_type": "stream",
          "name": "stdout",
          "text": [
            "Read:\n",
            "\" го человечности.\n",
            "как мы можем знать, что такое смерть, когда мы не знаем еще, что такое жизнь?\n",
            "когда вам покажется, что цель недостижима, не изменяйте цель — изменяйте свой план действий.\n",
            "когда государство управляется согласно с разумом, постыдны бедность и нужда; когда государство не\n",
            "управляется согласно с разумом, то постыдны богатства и почести.\n",
            "когда не знаешь слов, нечем познавать людей.\n",
            "когда пути неодинаковы, не составляют вместе планов.\n",
            "когда тебе плохо — прислушайся к природе. тишина мира успокаивает лучше, чем миллионы ненужных\n",
            "слов.\n",
            "красота есть во всем, но не всем дано это видеть.\n",
            "кто повторяет старое и узнает новое, тот может быть предводителем.\n",
            "легко быть богатым и не кичиться этим; трудно быть бедным и не сетовать.\n",
            "легче зажечь одну маленькую свечу, чем клясть темноту.\n",
            "лишь когда приходят холода, становится ясно, что сосны и кипарисы последними теряют свой убор.\n",
            "любимец деревни — враг добродетели.\n",
            "люди в древности не любили много говорить. они считали позором для себя не \"\n",
            " поспеть за собственными\n",
            "словами.\n",
            "люди хотят для себя богатства и славы; если то и другое нельзя обрести честно, следует их избегать.\n",
            "люди страшатся бедности и безвестности; если того и другого нельзя избежать, не теряя чести, следует их\n",
            "принять.\n",
            "можно всю жизнь проклинать темноту, а можно зажечь маленькую свечку.\n",
            "молчание — великий друг, который никогда не изменит.\n",
            "мудрая женщина старается изменять внешность, а не мужа.\n",
            "мудрый муж радуется водам, человечный муж радуется горам. мудрый деятелен, человечный покоен.\n",
            "мудрые радуются жизни, человечные живут долго.»\n",
            "учитель сказал: «ученики мои! думаете ли вы, что я что-то скрываю от вас? нет, я ничего от вас не прячу.\n",
            "я говорю лишь\n",
            "то, что вам самим должно быть ведомо.\n",
            "\n",
            "ученый, ищущий истину, но стыдящийся бедной одежды и грубой пищи! о чем тут еще говорить!\n",
            "учись, словно не можешь обрести и будто опасаешься утратить.\n",
            "учитель сказал: «благородный муж — не орудие.»\n",
            "учитель сказал: «в любом селении из десяти домов найдется человек, который не\n",
            "Done.\n"
          ]
        }
      ]
    }
  ],
  "metadata": {
    "colab": {
      "provenance": [],
      "include_colab_link": true
    },
    "kernelspec": {
      "display_name": "Python 3",
      "language": "python",
      "name": "python3"
    },
    "language_info": {
      "codemirror_mode": {
        "name": "ipython",
        "version": 3
      },
      "file_extension": ".py",
      "mimetype": "text/x-python",
      "name": "python",
      "nbconvert_exporter": "python",
      "pygments_lexer": "ipython3",
      "version": "3.7.0"
    },
    "accelerator": "GPU"
  },
  "nbformat": 4,
  "nbformat_minor": 0
}